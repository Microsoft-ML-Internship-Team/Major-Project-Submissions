{
 "cells": [
  {
   "cell_type": "code",
   "execution_count": 2,
   "metadata": {},
   "outputs": [],
   "source": [
    "import datetime\n",
    "import numpy as np\n",
    "import pandas as pd\n",
    "import seaborn as sns\n",
    "import matplotlib.pyplot as plt\n",
    "import matplotlib.patches as mpatches\n",
    "import os\n",
    "from sklearn.model_selection import train_test_split\n",
    "from sklearn.preprocessing import StandardScaler\n",
    "from sklearn.neighbors import KNeighborsRegressor\n",
    "from sklearn.metrics import r2_score"
   ]
  },
  {
   "cell_type": "code",
   "execution_count": 3,
   "metadata": {},
   "outputs": [
    {
     "data": {
      "text/plain": [
       "'C:\\\\Users\\\\atish\\\\OneDrive\\\\Desktop\\\\vezeo\\\\ipynb files'"
      ]
     },
     "execution_count": 3,
     "metadata": {},
     "output_type": "execute_result"
    }
   ],
   "source": [
    "pwd"
   ]
  },
  {
   "cell_type": "code",
   "execution_count": 5,
   "metadata": {},
   "outputs": [],
   "source": [
    "cars_train= pd.ExcelFile(\"Data_Train.xlsx\")\n",
    "sheet_train=pd.read_excel(\"Data_Train.xlsx\")"
   ]
  },
  {
   "cell_type": "code",
   "execution_count": 6,
   "metadata": {},
   "outputs": [],
   "source": [
    "car_test= pd.ExcelFile(\"Data_Test.xlsx\")\n",
    "sheet_test=pd.read_excel(\"Data_Test.xlsx\")"
   ]
  },
  {
   "cell_type": "code",
   "execution_count": 7,
   "metadata": {},
   "outputs": [],
   "source": [
    "X_train, X_test, y_train, y_test = train_test_split(sheet_train.iloc[:, :-1], sheet_train.iloc[:, -1], test_size = 0.3, \n",
    "                                                    random_state = 42)"
   ]
  },
  {
   "cell_type": "code",
   "execution_count": 8,
   "metadata": {},
   "outputs": [],
   "source": [
    "sep_train = X_train[\"Name\"].str.split(\" \", expand = True)\n",
    "sep_test = X_test[\"Name\"].str.split(\" \", expand = True)\n"
   ]
  },
  {
   "cell_type": "code",
   "execution_count": 9,
   "metadata": {},
   "outputs": [],
   "source": [
    "X_train[\"Company\"] = sep_train[0]\n",
    "X_test[\"Company\"] = sep_test[0]"
   ]
  },
  {
   "cell_type": "code",
   "execution_count": 10,
   "metadata": {},
   "outputs": [
    {
     "data": {
      "text/plain": [
       "0"
      ]
     },
     "execution_count": 10,
     "metadata": {},
     "output_type": "execute_result"
    }
   ],
   "source": [
    "X_train.Company.isnull().sum()"
   ]
  },
  {
   "cell_type": "code",
   "execution_count": 11,
   "metadata": {},
   "outputs": [],
   "source": [
    "X_train.drop(\"Name\", axis = 1, inplace = True)\n",
    "X_test.drop(\"Name\", axis = 1, inplace = True)"
   ]
  },
  {
   "cell_type": "code",
   "execution_count": 12,
   "metadata": {},
   "outputs": [],
   "source": [
    "X_train.drop(\"Location\", axis = 1, inplace = True)\n",
    "X_test.drop(\"Location\", axis = 1, inplace = True)"
   ]
  },
  {
   "cell_type": "code",
   "execution_count": 13,
   "metadata": {},
   "outputs": [
    {
     "name": "stdout",
     "output_type": "stream",
     "text": [
      "<class 'pandas.core.frame.DataFrame'>\n",
      "Int64Index: 4213 entries, 4201 to 860\n",
      "Data columns (total 10 columns):\n",
      " #   Column             Non-Null Count  Dtype  \n",
      "---  ------             --------------  -----  \n",
      " 0   Year               4213 non-null   int64  \n",
      " 1   Kilometers_Driven  4213 non-null   int64  \n",
      " 2   Fuel_Type          4213 non-null   object \n",
      " 3   Transmission       4213 non-null   object \n",
      " 4   Owner_Type         4213 non-null   object \n",
      " 5   Mileage            4212 non-null   object \n",
      " 6   Engine             4189 non-null   object \n",
      " 7   Power              4189 non-null   object \n",
      " 8   Seats              4185 non-null   float64\n",
      " 9   Company            4213 non-null   object \n",
      "dtypes: float64(1), int64(2), object(7)\n",
      "memory usage: 362.1+ KB\n"
     ]
    }
   ],
   "source": [
    "X_train.info()"
   ]
  },
  {
   "cell_type": "code",
   "execution_count": 14,
   "metadata": {},
   "outputs": [
    {
     "name": "stdout",
     "output_type": "stream",
     "text": [
      "<class 'pandas.core.frame.DataFrame'>\n",
      "Int64Index: 1806 entries, 2868 to 3926\n",
      "Data columns (total 10 columns):\n",
      " #   Column             Non-Null Count  Dtype  \n",
      "---  ------             --------------  -----  \n",
      " 0   Year               1806 non-null   int64  \n",
      " 1   Kilometers_Driven  1806 non-null   int64  \n",
      " 2   Fuel_Type          1806 non-null   object \n",
      " 3   Transmission       1806 non-null   object \n",
      " 4   Owner_Type         1806 non-null   object \n",
      " 5   Mileage            1805 non-null   object \n",
      " 6   Engine             1794 non-null   object \n",
      " 7   Power              1794 non-null   object \n",
      " 8   Seats              1792 non-null   float64\n",
      " 9   Company            1806 non-null   object \n",
      "dtypes: float64(1), int64(2), object(7)\n",
      "memory usage: 155.2+ KB\n"
     ]
    }
   ],
   "source": [
    "X_test.info()"
   ]
  },
  {
   "cell_type": "code",
   "execution_count": 15,
   "metadata": {},
   "outputs": [],
   "source": [
    "mileage_train = X_train[\"Mileage\"].str.split(\" \", expand = True)\n",
    "mileage_test = X_test[\"Mileage\"].str.split(\" \", expand = True)\n",
    "\n",
    "X_train[\"Mileage\"] = pd.to_numeric(mileage_train[0], errors = 'coerce')\n",
    "X_test[\"Mileage\"] = pd.to_numeric(mileage_test[0], errors = 'coerce')"
   ]
  },
  {
   "cell_type": "code",
   "execution_count": 16,
   "metadata": {},
   "outputs": [
    {
     "name": "stdout",
     "output_type": "stream",
     "text": [
      "1\n",
      "1\n"
     ]
    }
   ],
   "source": [
    "print(sum(X_train[\"Mileage\"].isnull()))\n",
    "print(sum(X_test[\"Mileage\"].isnull()))"
   ]
  },
  {
   "cell_type": "code",
   "execution_count": 17,
   "metadata": {},
   "outputs": [],
   "source": [
    "X_train[\"Mileage\"].fillna(X_train[\"Mileage\"].astype(\"float64\").mean(), inplace = True)\n",
    "X_test[\"Mileage\"].fillna(X_train[\"Mileage\"].astype(\"float64\").mean(), inplace = True)"
   ]
  },
  {
   "cell_type": "code",
   "execution_count": 18,
   "metadata": {},
   "outputs": [],
   "source": [
    "engine_train = X_train[\"Engine\"].str.split(\" \", expand = True)\n",
    "engine_test = X_test[\"Engine\"].str.split(\" \", expand = True)\n",
    "X_train[\"Engine\"] = pd.to_numeric(engine_train[0], errors = 'coerce')\n",
    "X_test[\"Engine\"] = pd.to_numeric(engine_test[0], errors = 'coerce')\n",
    "\n",
    "power_train = X_train[\"Power\"].str.split(\" \", expand = True)\n",
    "power_test = X_test[\"Power\"].str.split(\" \", expand = True)\n",
    "X_train[\"Power\"] = pd.to_numeric(power_train[0], errors = 'coerce')\n",
    "X_test[\"Power\"] = pd.to_numeric(power_test[0], errors = 'coerce')"
   ]
  },
  {
   "cell_type": "code",
   "execution_count": 19,
   "metadata": {},
   "outputs": [
    {
     "name": "stdout",
     "output_type": "stream",
     "text": [
      "<class 'pandas.core.frame.DataFrame'>\n",
      "Int64Index: 4213 entries, 4201 to 860\n",
      "Data columns (total 10 columns):\n",
      " #   Column             Non-Null Count  Dtype  \n",
      "---  ------             --------------  -----  \n",
      " 0   Year               4213 non-null   int64  \n",
      " 1   Kilometers_Driven  4213 non-null   int64  \n",
      " 2   Fuel_Type          4213 non-null   object \n",
      " 3   Transmission       4213 non-null   object \n",
      " 4   Owner_Type         4213 non-null   object \n",
      " 5   Mileage            4213 non-null   float64\n",
      " 6   Engine             4189 non-null   float64\n",
      " 7   Power              4121 non-null   float64\n",
      " 8   Seats              4185 non-null   float64\n",
      " 9   Company            4213 non-null   object \n",
      "dtypes: float64(4), int64(2), object(4)\n",
      "memory usage: 362.1+ KB\n"
     ]
    }
   ],
   "source": [
    "X_train.info()"
   ]
  },
  {
   "cell_type": "code",
   "execution_count": 20,
   "metadata": {},
   "outputs": [],
   "source": [
    "X_train[\"Engine\"].fillna(X_train[\"Engine\"].astype(\"float64\").mean(), inplace = True)\n",
    "X_test[\"Engine\"].fillna(X_train[\"Engine\"].astype(\"float64\").mean(), inplace = True)\n",
    "X_train[\"Power\"].fillna(X_train[\"Power\"].astype(\"float64\").mean(), inplace = True)\n",
    "X_test[\"Power\"].fillna(X_train[\"Power\"].astype(\"float64\").mean(), inplace = True)\n",
    "X_train[\"Seats\"].fillna(X_train[\"Seats\"].astype(\"float64\").mean(), inplace = True)\n",
    "X_test[\"Seats\"].fillna(X_train[\"Seats\"].astype(\"float64\").mean(), inplace = True)"
   ]
  },
  {
   "cell_type": "code",
   "execution_count": 21,
   "metadata": {},
   "outputs": [
    {
     "name": "stdout",
     "output_type": "stream",
     "text": [
      "<class 'pandas.core.frame.DataFrame'>\n",
      "Int64Index: 4213 entries, 4201 to 860\n",
      "Data columns (total 10 columns):\n",
      " #   Column             Non-Null Count  Dtype  \n",
      "---  ------             --------------  -----  \n",
      " 0   Year               4213 non-null   int64  \n",
      " 1   Kilometers_Driven  4213 non-null   int64  \n",
      " 2   Fuel_Type          4213 non-null   object \n",
      " 3   Transmission       4213 non-null   object \n",
      " 4   Owner_Type         4213 non-null   object \n",
      " 5   Mileage            4213 non-null   float64\n",
      " 6   Engine             4213 non-null   float64\n",
      " 7   Power              4213 non-null   float64\n",
      " 8   Seats              4213 non-null   float64\n",
      " 9   Company            4213 non-null   object \n",
      "dtypes: float64(4), int64(2), object(4)\n",
      "memory usage: 362.1+ KB\n"
     ]
    }
   ],
   "source": [
    "X_train.info()"
   ]
  },
  {
   "cell_type": "code",
   "execution_count": 22,
   "metadata": {},
   "outputs": [
    {
     "name": "stdout",
     "output_type": "stream",
     "text": [
      "<class 'pandas.core.frame.DataFrame'>\n",
      "Int64Index: 1806 entries, 2868 to 3926\n",
      "Data columns (total 10 columns):\n",
      " #   Column             Non-Null Count  Dtype  \n",
      "---  ------             --------------  -----  \n",
      " 0   Year               1806 non-null   int64  \n",
      " 1   Kilometers_Driven  1806 non-null   int64  \n",
      " 2   Fuel_Type          1806 non-null   object \n",
      " 3   Transmission       1806 non-null   object \n",
      " 4   Owner_Type         1806 non-null   object \n",
      " 5   Mileage            1806 non-null   float64\n",
      " 6   Engine             1806 non-null   float64\n",
      " 7   Power              1806 non-null   float64\n",
      " 8   Seats              1806 non-null   float64\n",
      " 9   Company            1806 non-null   object \n",
      "dtypes: float64(4), int64(2), object(4)\n",
      "memory usage: 155.2+ KB\n"
     ]
    }
   ],
   "source": [
    "X_test.info()"
   ]
  },
  {
   "cell_type": "code",
   "execution_count": 23,
   "metadata": {},
   "outputs": [],
   "source": [
    "X_train = pd.get_dummies(X_train,columns = [\"Company\", \"Fuel_Type\", \"Transmission\", \"Owner_Type\"],drop_first = True)\n"
   ]
  },
  {
   "cell_type": "code",
   "execution_count": 24,
   "metadata": {},
   "outputs": [],
   "source": [
    "X_test = pd.get_dummies(X_test,columns = [\"Company\", \"Fuel_Type\", \"Transmission\", \"Owner_Type\"],drop_first = True)"
   ]
  },
  {
   "cell_type": "code",
   "execution_count": 25,
   "metadata": {},
   "outputs": [
    {
     "name": "stdout",
     "output_type": "stream",
     "text": [
      "<class 'pandas.core.frame.DataFrame'>\n",
      "Int64Index: 4213 entries, 4201 to 860\n",
      "Data columns (total 41 columns):\n",
      " #   Column                     Non-Null Count  Dtype  \n",
      "---  ------                     --------------  -----  \n",
      " 0   Year                       4213 non-null   int64  \n",
      " 1   Kilometers_Driven          4213 non-null   int64  \n",
      " 2   Mileage                    4213 non-null   float64\n",
      " 3   Engine                     4213 non-null   float64\n",
      " 4   Power                      4213 non-null   float64\n",
      " 5   Seats                      4213 non-null   float64\n",
      " 6   Company_BMW                4213 non-null   uint8  \n",
      " 7   Company_Chevrolet          4213 non-null   uint8  \n",
      " 8   Company_Datsun             4213 non-null   uint8  \n",
      " 9   Company_Fiat               4213 non-null   uint8  \n",
      " 10  Company_Force              4213 non-null   uint8  \n",
      " 11  Company_Ford               4213 non-null   uint8  \n",
      " 12  Company_Honda              4213 non-null   uint8  \n",
      " 13  Company_Hyundai            4213 non-null   uint8  \n",
      " 14  Company_ISUZU              4213 non-null   uint8  \n",
      " 15  Company_Isuzu              4213 non-null   uint8  \n",
      " 16  Company_Jaguar             4213 non-null   uint8  \n",
      " 17  Company_Jeep               4213 non-null   uint8  \n",
      " 18  Company_Lamborghini        4213 non-null   uint8  \n",
      " 19  Company_Land               4213 non-null   uint8  \n",
      " 20  Company_Mahindra           4213 non-null   uint8  \n",
      " 21  Company_Maruti             4213 non-null   uint8  \n",
      " 22  Company_Mercedes-Benz      4213 non-null   uint8  \n",
      " 23  Company_Mini               4213 non-null   uint8  \n",
      " 24  Company_Mitsubishi         4213 non-null   uint8  \n",
      " 25  Company_Nissan             4213 non-null   uint8  \n",
      " 26  Company_Porsche            4213 non-null   uint8  \n",
      " 27  Company_Renault            4213 non-null   uint8  \n",
      " 28  Company_Skoda              4213 non-null   uint8  \n",
      " 29  Company_Tata               4213 non-null   uint8  \n",
      " 30  Company_Toyota             4213 non-null   uint8  \n",
      " 31  Company_Volkswagen         4213 non-null   uint8  \n",
      " 32  Company_Volvo              4213 non-null   uint8  \n",
      " 33  Fuel_Type_Diesel           4213 non-null   uint8  \n",
      " 34  Fuel_Type_Electric         4213 non-null   uint8  \n",
      " 35  Fuel_Type_LPG              4213 non-null   uint8  \n",
      " 36  Fuel_Type_Petrol           4213 non-null   uint8  \n",
      " 37  Transmission_Manual        4213 non-null   uint8  \n",
      " 38  Owner_Type_Fourth & Above  4213 non-null   uint8  \n",
      " 39  Owner_Type_Second          4213 non-null   uint8  \n",
      " 40  Owner_Type_Third           4213 non-null   uint8  \n",
      "dtypes: float64(4), int64(2), uint8(35)\n",
      "memory usage: 374.4 KB\n"
     ]
    }
   ],
   "source": [
    "X_train.info()"
   ]
  },
  {
   "cell_type": "code",
   "execution_count": 26,
   "metadata": {},
   "outputs": [],
   "source": [
    "sc = StandardScaler()\n",
    "sc.fit(X_train)\n",
    "X_train = sc.transform(X_train)\n",
    "X_test = sc.transform(X_test)"
   ]
  },
  {
   "cell_type": "code",
   "execution_count": 27,
   "metadata": {},
   "outputs": [],
   "source": [
    "from sklearn.ensemble import RandomForestRegressor"
   ]
  },
  {
   "cell_type": "code",
   "execution_count": 29,
   "metadata": {},
   "outputs": [
    {
     "data": {
      "text/plain": [
       "0.8418904009952224"
      ]
     },
     "execution_count": 29,
     "metadata": {},
     "output_type": "execute_result"
    }
   ],
   "source": [
    "rf = RandomForestRegressor()\n",
    "rf.fit(X_train, y_train)\n",
    "y_predict = rf.predict(X_test)\n",
    "r2_score(y_test, y_predict)"
   ]
  },
  {
   "cell_type": "markdown",
   "metadata": {},
   "source": [
    "#I had tried with Linear Regression but Random forest had the better prediction score(.826)\n",
    "#Inference:\n",
    "#Towardsdatascience.com\n",
    "#analyticsindiamag.com"
   ]
  },
  {
   "cell_type": "code",
   "execution_count": 31,
   "metadata": {},
   "outputs": [
    {
     "ename": "ValueError",
     "evalue": "operands could not be broadcast together with shapes (1806,) (41,) (1806,) ",
     "output_type": "error",
     "traceback": [
      "\u001b[1;31m---------------------------------------------------------------------------\u001b[0m",
      "\u001b[1;31mValueError\u001b[0m                                Traceback (most recent call last)",
      "\u001b[1;32m<ipython-input-31-dc9540ca9d4f>\u001b[0m in \u001b[0;36m<module>\u001b[1;34m\u001b[0m\n\u001b[0;32m      2\u001b[0m \u001b[0mlr\u001b[0m \u001b[1;33m=\u001b[0m \u001b[0mLinearRegression\u001b[0m\u001b[1;33m(\u001b[0m\u001b[1;33m)\u001b[0m\u001b[1;33m\u001b[0m\u001b[1;33m\u001b[0m\u001b[0m\n\u001b[0;32m      3\u001b[0m \u001b[0mlr\u001b[0m\u001b[1;33m.\u001b[0m\u001b[0mfit\u001b[0m\u001b[1;33m(\u001b[0m\u001b[0mX_train\u001b[0m\u001b[1;33m,\u001b[0m\u001b[0my_train\u001b[0m\u001b[1;33m)\u001b[0m\u001b[1;33m\u001b[0m\u001b[1;33m\u001b[0m\u001b[0m\n\u001b[1;32m----> 4\u001b[1;33m \u001b[0my_pred\u001b[0m \u001b[1;33m=\u001b[0m \u001b[0msc\u001b[0m\u001b[1;33m.\u001b[0m\u001b[0minverse_transform\u001b[0m\u001b[1;33m(\u001b[0m\u001b[0mlr\u001b[0m\u001b[1;33m.\u001b[0m\u001b[0mpredict\u001b[0m\u001b[1;33m(\u001b[0m\u001b[0mX_test\u001b[0m\u001b[1;33m)\u001b[0m\u001b[1;33m)\u001b[0m\u001b[1;33m\u001b[0m\u001b[1;33m\u001b[0m\u001b[0m\n\u001b[0m\u001b[0;32m      5\u001b[0m \u001b[1;32mfor\u001b[0m \u001b[0mi\u001b[0m \u001b[1;32min\u001b[0m \u001b[0mrange\u001b[0m\u001b[1;33m(\u001b[0m\u001b[0mlen\u001b[0m\u001b[1;33m(\u001b[0m\u001b[0my_pred\u001b[0m\u001b[1;33m)\u001b[0m\u001b[1;33m)\u001b[0m\u001b[1;33m:\u001b[0m\u001b[1;33m\u001b[0m\u001b[1;33m\u001b[0m\u001b[0m\n\u001b[0;32m      6\u001b[0m    \u001b[1;32mif\u001b[0m \u001b[0my_pred\u001b[0m\u001b[1;33m[\u001b[0m\u001b[0mi\u001b[0m\u001b[1;33m]\u001b[0m \u001b[1;33m<\u001b[0m \u001b[1;36m0\u001b[0m\u001b[1;33m:\u001b[0m\u001b[1;33m\u001b[0m\u001b[1;33m\u001b[0m\u001b[0m\n",
      "\u001b[1;32m~\\anaconda3\\lib\\site-packages\\sklearn\\preprocessing\\_data.py\u001b[0m in \u001b[0;36minverse_transform\u001b[1;34m(self, X, copy)\u001b[0m\n\u001b[0;32m    844\u001b[0m                 \u001b[0mX\u001b[0m \u001b[1;33m=\u001b[0m \u001b[0mX\u001b[0m\u001b[1;33m.\u001b[0m\u001b[0mcopy\u001b[0m\u001b[1;33m(\u001b[0m\u001b[1;33m)\u001b[0m\u001b[1;33m\u001b[0m\u001b[1;33m\u001b[0m\u001b[0m\n\u001b[0;32m    845\u001b[0m             \u001b[1;32mif\u001b[0m \u001b[0mself\u001b[0m\u001b[1;33m.\u001b[0m\u001b[0mwith_std\u001b[0m\u001b[1;33m:\u001b[0m\u001b[1;33m\u001b[0m\u001b[1;33m\u001b[0m\u001b[0m\n\u001b[1;32m--> 846\u001b[1;33m                 \u001b[0mX\u001b[0m \u001b[1;33m*=\u001b[0m \u001b[0mself\u001b[0m\u001b[1;33m.\u001b[0m\u001b[0mscale_\u001b[0m\u001b[1;33m\u001b[0m\u001b[1;33m\u001b[0m\u001b[0m\n\u001b[0m\u001b[0;32m    847\u001b[0m             \u001b[1;32mif\u001b[0m \u001b[0mself\u001b[0m\u001b[1;33m.\u001b[0m\u001b[0mwith_mean\u001b[0m\u001b[1;33m:\u001b[0m\u001b[1;33m\u001b[0m\u001b[1;33m\u001b[0m\u001b[0m\n\u001b[0;32m    848\u001b[0m                 \u001b[0mX\u001b[0m \u001b[1;33m+=\u001b[0m \u001b[0mself\u001b[0m\u001b[1;33m.\u001b[0m\u001b[0mmean_\u001b[0m\u001b[1;33m\u001b[0m\u001b[1;33m\u001b[0m\u001b[0m\n",
      "\u001b[1;31mValueError\u001b[0m: operands could not be broadcast together with shapes (1806,) (41,) (1806,) "
     ]
    }
   ],
   "source": [
    "from sklearn.linear_model import LinearRegression\n",
    "lr = LinearRegression()\n",
    "lr.fit(X_train,y_train)\n",
    "y_pred = sc.inverse_transform(lr.predict(X_test))\n",
    "for i in range(len(y_pred)):\n",
    "   if y_pred[i] < 0:\n",
    "       y_pred[i] = 0\n",
    "print(\"\\n\\n Linear Regression SCORE : \", score(y_pred, y_test))\n"
   ]
  },
  {
   "cell_type": "code",
   "execution_count": 32,
   "metadata": {},
   "outputs": [
    {
     "data": {
      "text/plain": [
       "-0.024072429133415785"
      ]
     },
     "execution_count": 32,
     "metadata": {},
     "output_type": "execute_result"
    }
   ],
   "source": [
    "linearRegression = LinearRegression()\n",
    "linearRegression.fit(X_train, y_train)\n",
    "y_pred = linearRegression.predict(X_test)\n",
    "r2_score(y_test, y_pred)"
   ]
  },
  {
   "cell_type": "code",
   "execution_count": 33,
   "metadata": {},
   "outputs": [],
   "source": [
    "#Predicting the test data\n",
    "rf2 = RandomForestRegressor()\n",
    "rf2.fit(X_train, y_train)\n",
    "y_predict2 = rf2.predict(X_test)\n"
   ]
  },
  {
   "cell_type": "code",
   "execution_count": 34,
   "metadata": {},
   "outputs": [
    {
     "data": {
      "text/plain": [
       "array([ 3.9761, 14.3273, 10.3061, ...,  4.3385,  6.3623,  7.5107])"
      ]
     },
     "execution_count": 34,
     "metadata": {},
     "output_type": "execute_result"
    }
   ],
   "source": [
    "y_predict"
   ]
  }
 ],
 "metadata": {
  "kernelspec": {
   "display_name": "Python 3",
   "language": "python",
   "name": "python3"
  },
  "language_info": {
   "codemirror_mode": {
    "name": "ipython",
    "version": 3
   },
   "file_extension": ".py",
   "mimetype": "text/x-python",
   "name": "python",
   "nbconvert_exporter": "python",
   "pygments_lexer": "ipython3",
   "version": "3.7.6"
  }
 },
 "nbformat": 4,
 "nbformat_minor": 2
}
