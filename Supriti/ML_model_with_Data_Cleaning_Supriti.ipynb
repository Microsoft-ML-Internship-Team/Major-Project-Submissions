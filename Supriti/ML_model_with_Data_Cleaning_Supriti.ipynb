{
  "nbformat": 4,
  "nbformat_minor": 0,
  "metadata": {
    "kernelspec": {
      "display_name": "Python 3",
      "language": "python",
      "name": "python3"
    },
    "language_info": {
      "codemirror_mode": {
        "name": "ipython",
        "version": 3
      },
      "file_extension": ".py",
      "mimetype": "text/x-python",
      "name": "python",
      "nbconvert_exporter": "python",
      "pygments_lexer": "ipython3",
      "version": "3.7.6"
    },
    "colab": {
      "name": "Copy of ML model with Data Cleaning.ipynb",
      "provenance": [],
      "collapsed_sections": [
        "H866VCOAdzdw",
        "QBTlB2SLdzeJ",
        "spKsMPlgdzeM",
        "qEu4SKhmdzeY"
      ]
    }
  },
  "cells": [
    {
      "cell_type": "code",
      "metadata": {
        "id": "DmwKvSVSdzcM",
        "colab_type": "code",
        "outputId": "01978367-fb09-4497-e576-bbd15ff31e22",
        "colab": {
          "base_uri": "https://localhost:8080/",
          "height": 107
        }
      },
      "source": [
        "import numpy as np\n",
        "import pandas as pd\n",
        "\n",
        "import matplotlib.pyplot as plt\n",
        "import seaborn as sns\n",
        "%matplotlib inline\n",
        "\n",
        "from sklearn.model_selection import train_test_split\n",
        "from sklearn.linear_model import LinearRegression\n",
        "from sklearn.ensemble import RandomForestRegressor\n",
        "from sklearn.metrics import r2_score\n",
        "\n",
        "from sklearn import tree\n",
        "from sklearn.model_selection import train_test_split\n",
        "from sklearn.externals.six import StringIO  \n",
        "from IPython.display import Image  \n",
        "from sklearn.tree import export_graphviz\n",
        "import pydotplus\n",
        "from sklearn.model_selection import RandomizedSearchCV\n",
        "from sklearn.linear_model import LinearRegression\n",
        "from sklearn.preprocessing import StandardScaler\n",
        "from sklearn.neighbors import KNeighborsRegressor\n",
        "from sklearn import tree\n",
        "from sklearn.metrics import mean_squared_error\n"
      ],
      "execution_count": 0,
      "outputs": [
        {
          "output_type": "stream",
          "text": [
            "/usr/local/lib/python3.6/dist-packages/statsmodels/tools/_testing.py:19: FutureWarning: pandas.util.testing is deprecated. Use the functions in the public API at pandas.testing instead.\n",
            "  import pandas.util.testing as tm\n",
            "/usr/local/lib/python3.6/dist-packages/sklearn/externals/six.py:31: FutureWarning: The module is deprecated in version 0.21 and will be removed in version 0.23 since we've dropped support for Python 2.7. Please rely on the official version of six (https://pypi.org/project/six/).\n",
            "  \"(https://pypi.org/project/six/).\", FutureWarning)\n"
          ],
          "name": "stderr"
        }
      ]
    },
    {
      "cell_type": "code",
      "metadata": {
        "id": "9QyhDnUcdzcS",
        "colab_type": "code",
        "colab": {}
      },
      "source": [
        "data_train = pd.read_excel('Data_Train.xlsx')"
      ],
      "execution_count": 0,
      "outputs": []
    },
    {
      "cell_type": "code",
      "metadata": {
        "id": "zUuOXj6ZdzcW",
        "colab_type": "code",
        "outputId": "83a07ce5-8216-4949-e4fa-2da32e65469e",
        "colab": {
          "base_uri": "https://localhost:8080/",
          "height": 87
        }
      },
      "source": [
        "data_train.columns"
      ],
      "execution_count": 0,
      "outputs": [
        {
          "output_type": "execute_result",
          "data": {
            "text/plain": [
              "Index(['Name', 'Location', 'Year', 'Kilometers_Driven', 'Fuel_Type',\n",
              "       'Transmission', 'Owner_Type', 'Mileage', 'Engine', 'Power', 'Seats',\n",
              "       'Price'],\n",
              "      dtype='object')"
            ]
          },
          "metadata": {
            "tags": []
          },
          "execution_count": 4
        }
      ]
    },
    {
      "cell_type": "code",
      "metadata": {
        "id": "Odw1cf_Zdzca",
        "colab_type": "code",
        "outputId": "de97880a-b7b5-4adc-a49f-7cc91abaab50",
        "colab": {
          "base_uri": "https://localhost:8080/",
          "height": 351
        }
      },
      "source": [
        "data_train.info()"
      ],
      "execution_count": 0,
      "outputs": [
        {
          "output_type": "stream",
          "text": [
            "<class 'pandas.core.frame.DataFrame'>\n",
            "RangeIndex: 6019 entries, 0 to 6018\n",
            "Data columns (total 12 columns):\n",
            " #   Column             Non-Null Count  Dtype  \n",
            "---  ------             --------------  -----  \n",
            " 0   Name               6019 non-null   object \n",
            " 1   Location           6019 non-null   object \n",
            " 2   Year               6019 non-null   int64  \n",
            " 3   Kilometers_Driven  6019 non-null   int64  \n",
            " 4   Fuel_Type          6019 non-null   object \n",
            " 5   Transmission       6019 non-null   object \n",
            " 6   Owner_Type         6019 non-null   object \n",
            " 7   Mileage            6017 non-null   object \n",
            " 8   Engine             5983 non-null   object \n",
            " 9   Power              5983 non-null   object \n",
            " 10  Seats              5977 non-null   float64\n",
            " 11  Price              6019 non-null   float64\n",
            "dtypes: float64(2), int64(2), object(8)\n",
            "memory usage: 564.4+ KB\n"
          ],
          "name": "stdout"
        }
      ]
    },
    {
      "cell_type": "code",
      "metadata": {
        "id": "ca0HEljHdzce",
        "colab_type": "code",
        "outputId": "3ead95df-351c-4b94-9802-2411e36be563",
        "colab": {
          "base_uri": "https://localhost:8080/",
          "height": 1000
        }
      },
      "source": [
        "data_train.head(35)"
      ],
      "execution_count": 0,
      "outputs": [
        {
          "output_type": "execute_result",
          "data": {
            "text/html": [
              "<div>\n",
              "<style scoped>\n",
              "    .dataframe tbody tr th:only-of-type {\n",
              "        vertical-align: middle;\n",
              "    }\n",
              "\n",
              "    .dataframe tbody tr th {\n",
              "        vertical-align: top;\n",
              "    }\n",
              "\n",
              "    .dataframe thead th {\n",
              "        text-align: right;\n",
              "    }\n",
              "</style>\n",
              "<table border=\"1\" class=\"dataframe\">\n",
              "  <thead>\n",
              "    <tr style=\"text-align: right;\">\n",
              "      <th></th>\n",
              "      <th>Name</th>\n",
              "      <th>Location</th>\n",
              "      <th>Year</th>\n",
              "      <th>Kilometers_Driven</th>\n",
              "      <th>Fuel_Type</th>\n",
              "      <th>Transmission</th>\n",
              "      <th>Owner_Type</th>\n",
              "      <th>Mileage</th>\n",
              "      <th>Engine</th>\n",
              "      <th>Power</th>\n",
              "      <th>Seats</th>\n",
              "      <th>Price</th>\n",
              "    </tr>\n",
              "  </thead>\n",
              "  <tbody>\n",
              "    <tr>\n",
              "      <th>0</th>\n",
              "      <td>Maruti Wagon R LXI CNG</td>\n",
              "      <td>Mumbai</td>\n",
              "      <td>2010</td>\n",
              "      <td>72000</td>\n",
              "      <td>CNG</td>\n",
              "      <td>Manual</td>\n",
              "      <td>First</td>\n",
              "      <td>26.6 km/kg</td>\n",
              "      <td>998 CC</td>\n",
              "      <td>58.16 bhp</td>\n",
              "      <td>5.0</td>\n",
              "      <td>1.75</td>\n",
              "    </tr>\n",
              "    <tr>\n",
              "      <th>1</th>\n",
              "      <td>Hyundai Creta 1.6 CRDi SX Option</td>\n",
              "      <td>Pune</td>\n",
              "      <td>2015</td>\n",
              "      <td>41000</td>\n",
              "      <td>Diesel</td>\n",
              "      <td>Manual</td>\n",
              "      <td>First</td>\n",
              "      <td>19.67 kmpl</td>\n",
              "      <td>1582 CC</td>\n",
              "      <td>126.2 bhp</td>\n",
              "      <td>5.0</td>\n",
              "      <td>12.50</td>\n",
              "    </tr>\n",
              "    <tr>\n",
              "      <th>2</th>\n",
              "      <td>Honda Jazz V</td>\n",
              "      <td>Chennai</td>\n",
              "      <td>2011</td>\n",
              "      <td>46000</td>\n",
              "      <td>Petrol</td>\n",
              "      <td>Manual</td>\n",
              "      <td>First</td>\n",
              "      <td>18.2 kmpl</td>\n",
              "      <td>1199 CC</td>\n",
              "      <td>88.7 bhp</td>\n",
              "      <td>5.0</td>\n",
              "      <td>4.50</td>\n",
              "    </tr>\n",
              "    <tr>\n",
              "      <th>3</th>\n",
              "      <td>Maruti Ertiga VDI</td>\n",
              "      <td>Chennai</td>\n",
              "      <td>2012</td>\n",
              "      <td>87000</td>\n",
              "      <td>Diesel</td>\n",
              "      <td>Manual</td>\n",
              "      <td>First</td>\n",
              "      <td>20.77 kmpl</td>\n",
              "      <td>1248 CC</td>\n",
              "      <td>88.76 bhp</td>\n",
              "      <td>7.0</td>\n",
              "      <td>6.00</td>\n",
              "    </tr>\n",
              "    <tr>\n",
              "      <th>4</th>\n",
              "      <td>Audi A4 New 2.0 TDI Multitronic</td>\n",
              "      <td>Coimbatore</td>\n",
              "      <td>2013</td>\n",
              "      <td>40670</td>\n",
              "      <td>Diesel</td>\n",
              "      <td>Automatic</td>\n",
              "      <td>Second</td>\n",
              "      <td>15.2 kmpl</td>\n",
              "      <td>1968 CC</td>\n",
              "      <td>140.8 bhp</td>\n",
              "      <td>5.0</td>\n",
              "      <td>17.74</td>\n",
              "    </tr>\n",
              "    <tr>\n",
              "      <th>5</th>\n",
              "      <td>Hyundai EON LPG Era Plus Option</td>\n",
              "      <td>Hyderabad</td>\n",
              "      <td>2012</td>\n",
              "      <td>75000</td>\n",
              "      <td>LPG</td>\n",
              "      <td>Manual</td>\n",
              "      <td>First</td>\n",
              "      <td>21.1 km/kg</td>\n",
              "      <td>814 CC</td>\n",
              "      <td>55.2 bhp</td>\n",
              "      <td>5.0</td>\n",
              "      <td>2.35</td>\n",
              "    </tr>\n",
              "    <tr>\n",
              "      <th>6</th>\n",
              "      <td>Nissan Micra Diesel XV</td>\n",
              "      <td>Jaipur</td>\n",
              "      <td>2013</td>\n",
              "      <td>86999</td>\n",
              "      <td>Diesel</td>\n",
              "      <td>Manual</td>\n",
              "      <td>First</td>\n",
              "      <td>23.08 kmpl</td>\n",
              "      <td>1461 CC</td>\n",
              "      <td>63.1 bhp</td>\n",
              "      <td>5.0</td>\n",
              "      <td>3.50</td>\n",
              "    </tr>\n",
              "    <tr>\n",
              "      <th>7</th>\n",
              "      <td>Toyota Innova Crysta 2.8 GX AT 8S</td>\n",
              "      <td>Mumbai</td>\n",
              "      <td>2016</td>\n",
              "      <td>36000</td>\n",
              "      <td>Diesel</td>\n",
              "      <td>Automatic</td>\n",
              "      <td>First</td>\n",
              "      <td>11.36 kmpl</td>\n",
              "      <td>2755 CC</td>\n",
              "      <td>171.5 bhp</td>\n",
              "      <td>8.0</td>\n",
              "      <td>17.50</td>\n",
              "    </tr>\n",
              "    <tr>\n",
              "      <th>8</th>\n",
              "      <td>Volkswagen Vento Diesel Comfortline</td>\n",
              "      <td>Pune</td>\n",
              "      <td>2013</td>\n",
              "      <td>64430</td>\n",
              "      <td>Diesel</td>\n",
              "      <td>Manual</td>\n",
              "      <td>First</td>\n",
              "      <td>20.54 kmpl</td>\n",
              "      <td>1598 CC</td>\n",
              "      <td>103.6 bhp</td>\n",
              "      <td>5.0</td>\n",
              "      <td>5.20</td>\n",
              "    </tr>\n",
              "    <tr>\n",
              "      <th>9</th>\n",
              "      <td>Tata Indica Vista Quadrajet LS</td>\n",
              "      <td>Chennai</td>\n",
              "      <td>2012</td>\n",
              "      <td>65932</td>\n",
              "      <td>Diesel</td>\n",
              "      <td>Manual</td>\n",
              "      <td>Second</td>\n",
              "      <td>22.3 kmpl</td>\n",
              "      <td>1248 CC</td>\n",
              "      <td>74 bhp</td>\n",
              "      <td>5.0</td>\n",
              "      <td>1.95</td>\n",
              "    </tr>\n",
              "    <tr>\n",
              "      <th>10</th>\n",
              "      <td>Maruti Ciaz Zeta</td>\n",
              "      <td>Kochi</td>\n",
              "      <td>2018</td>\n",
              "      <td>25692</td>\n",
              "      <td>Petrol</td>\n",
              "      <td>Manual</td>\n",
              "      <td>First</td>\n",
              "      <td>21.56 kmpl</td>\n",
              "      <td>1462 CC</td>\n",
              "      <td>103.25 bhp</td>\n",
              "      <td>5.0</td>\n",
              "      <td>9.95</td>\n",
              "    </tr>\n",
              "    <tr>\n",
              "      <th>11</th>\n",
              "      <td>Honda City 1.5 V AT Sunroof</td>\n",
              "      <td>Kolkata</td>\n",
              "      <td>2012</td>\n",
              "      <td>60000</td>\n",
              "      <td>Petrol</td>\n",
              "      <td>Automatic</td>\n",
              "      <td>First</td>\n",
              "      <td>16.8 kmpl</td>\n",
              "      <td>1497 CC</td>\n",
              "      <td>116.3 bhp</td>\n",
              "      <td>5.0</td>\n",
              "      <td>4.49</td>\n",
              "    </tr>\n",
              "    <tr>\n",
              "      <th>12</th>\n",
              "      <td>Maruti Swift VDI BSIV</td>\n",
              "      <td>Jaipur</td>\n",
              "      <td>2015</td>\n",
              "      <td>64424</td>\n",
              "      <td>Diesel</td>\n",
              "      <td>Manual</td>\n",
              "      <td>First</td>\n",
              "      <td>25.2 kmpl</td>\n",
              "      <td>1248 CC</td>\n",
              "      <td>74 bhp</td>\n",
              "      <td>5.0</td>\n",
              "      <td>5.60</td>\n",
              "    </tr>\n",
              "    <tr>\n",
              "      <th>13</th>\n",
              "      <td>Land Rover Range Rover 2.2L Pure</td>\n",
              "      <td>Delhi</td>\n",
              "      <td>2014</td>\n",
              "      <td>72000</td>\n",
              "      <td>Diesel</td>\n",
              "      <td>Automatic</td>\n",
              "      <td>First</td>\n",
              "      <td>12.7 kmpl</td>\n",
              "      <td>2179 CC</td>\n",
              "      <td>187.7 bhp</td>\n",
              "      <td>5.0</td>\n",
              "      <td>27.00</td>\n",
              "    </tr>\n",
              "    <tr>\n",
              "      <th>14</th>\n",
              "      <td>Land Rover Freelander 2 TD4 SE</td>\n",
              "      <td>Pune</td>\n",
              "      <td>2012</td>\n",
              "      <td>85000</td>\n",
              "      <td>Diesel</td>\n",
              "      <td>Automatic</td>\n",
              "      <td>Second</td>\n",
              "      <td>0.0 kmpl</td>\n",
              "      <td>2179 CC</td>\n",
              "      <td>115 bhp</td>\n",
              "      <td>5.0</td>\n",
              "      <td>17.50</td>\n",
              "    </tr>\n",
              "    <tr>\n",
              "      <th>15</th>\n",
              "      <td>Mitsubishi Pajero Sport 4X4</td>\n",
              "      <td>Delhi</td>\n",
              "      <td>2014</td>\n",
              "      <td>110000</td>\n",
              "      <td>Diesel</td>\n",
              "      <td>Manual</td>\n",
              "      <td>First</td>\n",
              "      <td>13.5 kmpl</td>\n",
              "      <td>2477 CC</td>\n",
              "      <td>175.56 bhp</td>\n",
              "      <td>7.0</td>\n",
              "      <td>15.00</td>\n",
              "    </tr>\n",
              "    <tr>\n",
              "      <th>16</th>\n",
              "      <td>Honda Amaze S i-Dtech</td>\n",
              "      <td>Kochi</td>\n",
              "      <td>2016</td>\n",
              "      <td>58950</td>\n",
              "      <td>Diesel</td>\n",
              "      <td>Manual</td>\n",
              "      <td>First</td>\n",
              "      <td>25.8 kmpl</td>\n",
              "      <td>1498 CC</td>\n",
              "      <td>98.6 bhp</td>\n",
              "      <td>5.0</td>\n",
              "      <td>5.40</td>\n",
              "    </tr>\n",
              "    <tr>\n",
              "      <th>17</th>\n",
              "      <td>Maruti Swift DDiS VDI</td>\n",
              "      <td>Jaipur</td>\n",
              "      <td>2017</td>\n",
              "      <td>25000</td>\n",
              "      <td>Diesel</td>\n",
              "      <td>Manual</td>\n",
              "      <td>First</td>\n",
              "      <td>28.4 kmpl</td>\n",
              "      <td>1248 CC</td>\n",
              "      <td>74 bhp</td>\n",
              "      <td>5.0</td>\n",
              "      <td>5.99</td>\n",
              "    </tr>\n",
              "    <tr>\n",
              "      <th>18</th>\n",
              "      <td>Renault Duster 85PS Diesel RxL Plus</td>\n",
              "      <td>Kochi</td>\n",
              "      <td>2014</td>\n",
              "      <td>77469</td>\n",
              "      <td>Diesel</td>\n",
              "      <td>Manual</td>\n",
              "      <td>First</td>\n",
              "      <td>20.45 kmpl</td>\n",
              "      <td>1461 CC</td>\n",
              "      <td>83.8 bhp</td>\n",
              "      <td>5.0</td>\n",
              "      <td>6.34</td>\n",
              "    </tr>\n",
              "    <tr>\n",
              "      <th>19</th>\n",
              "      <td>Mercedes-Benz New C-Class C 220 CDI BE Avantgare</td>\n",
              "      <td>Bangalore</td>\n",
              "      <td>2014</td>\n",
              "      <td>78500</td>\n",
              "      <td>Diesel</td>\n",
              "      <td>Automatic</td>\n",
              "      <td>First</td>\n",
              "      <td>14.84 kmpl</td>\n",
              "      <td>2143 CC</td>\n",
              "      <td>167.62 bhp</td>\n",
              "      <td>5.0</td>\n",
              "      <td>28.00</td>\n",
              "    </tr>\n",
              "    <tr>\n",
              "      <th>20</th>\n",
              "      <td>BMW 3 Series 320d</td>\n",
              "      <td>Kochi</td>\n",
              "      <td>2014</td>\n",
              "      <td>32982</td>\n",
              "      <td>Diesel</td>\n",
              "      <td>Automatic</td>\n",
              "      <td>First</td>\n",
              "      <td>22.69 kmpl</td>\n",
              "      <td>1995 CC</td>\n",
              "      <td>190 bhp</td>\n",
              "      <td>5.0</td>\n",
              "      <td>18.55</td>\n",
              "    </tr>\n",
              "    <tr>\n",
              "      <th>21</th>\n",
              "      <td>Maruti S Cross DDiS 200 Alpha</td>\n",
              "      <td>Bangalore</td>\n",
              "      <td>2015</td>\n",
              "      <td>55392</td>\n",
              "      <td>Diesel</td>\n",
              "      <td>Manual</td>\n",
              "      <td>Second</td>\n",
              "      <td>23.65 kmpl</td>\n",
              "      <td>1248 CC</td>\n",
              "      <td>88.5 bhp</td>\n",
              "      <td>5.0</td>\n",
              "      <td>8.25</td>\n",
              "    </tr>\n",
              "    <tr>\n",
              "      <th>22</th>\n",
              "      <td>Audi A6 2011-2015 35 TFSI Technology</td>\n",
              "      <td>Mumbai</td>\n",
              "      <td>2015</td>\n",
              "      <td>55985</td>\n",
              "      <td>Petrol</td>\n",
              "      <td>Automatic</td>\n",
              "      <td>First</td>\n",
              "      <td>13.53 kmpl</td>\n",
              "      <td>1984 CC</td>\n",
              "      <td>177.01 bhp</td>\n",
              "      <td>5.0</td>\n",
              "      <td>23.50</td>\n",
              "    </tr>\n",
              "    <tr>\n",
              "      <th>23</th>\n",
              "      <td>Hyundai i20 1.2 Magna</td>\n",
              "      <td>Kolkata</td>\n",
              "      <td>2010</td>\n",
              "      <td>45807</td>\n",
              "      <td>Petrol</td>\n",
              "      <td>Manual</td>\n",
              "      <td>First</td>\n",
              "      <td>18.5 kmpl</td>\n",
              "      <td>1197 CC</td>\n",
              "      <td>80 bhp</td>\n",
              "      <td>5.0</td>\n",
              "      <td>1.87</td>\n",
              "    </tr>\n",
              "    <tr>\n",
              "      <th>24</th>\n",
              "      <td>Volkswagen Vento Petrol Highline AT</td>\n",
              "      <td>Kolkata</td>\n",
              "      <td>2010</td>\n",
              "      <td>33000</td>\n",
              "      <td>Petrol</td>\n",
              "      <td>Automatic</td>\n",
              "      <td>First</td>\n",
              "      <td>14.4 kmpl</td>\n",
              "      <td>1598 CC</td>\n",
              "      <td>103.6 bhp</td>\n",
              "      <td>5.0</td>\n",
              "      <td>2.85</td>\n",
              "    </tr>\n",
              "    <tr>\n",
              "      <th>25</th>\n",
              "      <td>Honda City Corporate Edition</td>\n",
              "      <td>Mumbai</td>\n",
              "      <td>2012</td>\n",
              "      <td>51920</td>\n",
              "      <td>Petrol</td>\n",
              "      <td>Manual</td>\n",
              "      <td>First</td>\n",
              "      <td>16.8 kmpl</td>\n",
              "      <td>1497 CC</td>\n",
              "      <td>116.3 bhp</td>\n",
              "      <td>5.0</td>\n",
              "      <td>4.25</td>\n",
              "    </tr>\n",
              "    <tr>\n",
              "      <th>26</th>\n",
              "      <td>Nissan Micra Diesel XV</td>\n",
              "      <td>Hyderabad</td>\n",
              "      <td>2012</td>\n",
              "      <td>54000</td>\n",
              "      <td>Diesel</td>\n",
              "      <td>Manual</td>\n",
              "      <td>First</td>\n",
              "      <td>23.08 kmpl</td>\n",
              "      <td>1461 CC</td>\n",
              "      <td>63.1 bhp</td>\n",
              "      <td>5.0</td>\n",
              "      <td>4.25</td>\n",
              "    </tr>\n",
              "    <tr>\n",
              "      <th>27</th>\n",
              "      <td>Maruti Alto K10 2010-2014 VXI</td>\n",
              "      <td>Hyderabad</td>\n",
              "      <td>2013</td>\n",
              "      <td>54000</td>\n",
              "      <td>Petrol</td>\n",
              "      <td>Manual</td>\n",
              "      <td>Second</td>\n",
              "      <td>20.92 kmpl</td>\n",
              "      <td>998 CC</td>\n",
              "      <td>67.1 bhp</td>\n",
              "      <td>5.0</td>\n",
              "      <td>2.75</td>\n",
              "    </tr>\n",
              "    <tr>\n",
              "      <th>28</th>\n",
              "      <td>Honda WRV i-VTEC VX</td>\n",
              "      <td>Kochi</td>\n",
              "      <td>2018</td>\n",
              "      <td>37430</td>\n",
              "      <td>Petrol</td>\n",
              "      <td>Manual</td>\n",
              "      <td>First</td>\n",
              "      <td>17.5 kmpl</td>\n",
              "      <td>1199 CC</td>\n",
              "      <td>88.7 bhp</td>\n",
              "      <td>5.0</td>\n",
              "      <td>9.90</td>\n",
              "    </tr>\n",
              "    <tr>\n",
              "      <th>29</th>\n",
              "      <td>Toyota Innova 2.5 V Diesel 7-seater</td>\n",
              "      <td>Mumbai</td>\n",
              "      <td>2007</td>\n",
              "      <td>262000</td>\n",
              "      <td>Diesel</td>\n",
              "      <td>Manual</td>\n",
              "      <td>Fourth &amp; Above</td>\n",
              "      <td>12.8 kmpl</td>\n",
              "      <td>2494 CC</td>\n",
              "      <td>102 bhp</td>\n",
              "      <td>7.0</td>\n",
              "      <td>4.00</td>\n",
              "    </tr>\n",
              "    <tr>\n",
              "      <th>30</th>\n",
              "      <td>Renault Duster 110PS Diesel RxZ Pack</td>\n",
              "      <td>Bangalore</td>\n",
              "      <td>2013</td>\n",
              "      <td>62000</td>\n",
              "      <td>Diesel</td>\n",
              "      <td>Manual</td>\n",
              "      <td>First</td>\n",
              "      <td>19.01 kmpl</td>\n",
              "      <td>1461 CC</td>\n",
              "      <td>108.45 bhp</td>\n",
              "      <td>5.0</td>\n",
              "      <td>7.75</td>\n",
              "    </tr>\n",
              "    <tr>\n",
              "      <th>31</th>\n",
              "      <td>Toyota Corolla Altis G</td>\n",
              "      <td>Delhi</td>\n",
              "      <td>2012</td>\n",
              "      <td>87615</td>\n",
              "      <td>Petrol</td>\n",
              "      <td>Manual</td>\n",
              "      <td>First</td>\n",
              "      <td>14.53 kmpl</td>\n",
              "      <td>1798 CC</td>\n",
              "      <td>138.1 bhp</td>\n",
              "      <td>5.0</td>\n",
              "      <td>6.75</td>\n",
              "    </tr>\n",
              "    <tr>\n",
              "      <th>32</th>\n",
              "      <td>Mahindra Ssangyong Rexton RX7</td>\n",
              "      <td>Bangalore</td>\n",
              "      <td>2013</td>\n",
              "      <td>72000</td>\n",
              "      <td>Diesel</td>\n",
              "      <td>Automatic</td>\n",
              "      <td>Second</td>\n",
              "      <td>11.18 kmpl</td>\n",
              "      <td>2696 CC</td>\n",
              "      <td>184 bhp</td>\n",
              "      <td>7.0</td>\n",
              "      <td>12.50</td>\n",
              "    </tr>\n",
              "    <tr>\n",
              "      <th>33</th>\n",
              "      <td>Audi A6 2.7 TDI</td>\n",
              "      <td>Kolkata</td>\n",
              "      <td>2010</td>\n",
              "      <td>35000</td>\n",
              "      <td>Diesel</td>\n",
              "      <td>Automatic</td>\n",
              "      <td>First</td>\n",
              "      <td>12.4 kmpl</td>\n",
              "      <td>2698 CC</td>\n",
              "      <td>179.5 bhp</td>\n",
              "      <td>5.0</td>\n",
              "      <td>11.50</td>\n",
              "    </tr>\n",
              "    <tr>\n",
              "      <th>34</th>\n",
              "      <td>Volkswagen Vento 1.6 Highline</td>\n",
              "      <td>Coimbatore</td>\n",
              "      <td>2014</td>\n",
              "      <td>55431</td>\n",
              "      <td>Petrol</td>\n",
              "      <td>Manual</td>\n",
              "      <td>Second</td>\n",
              "      <td>16.09 kmpl</td>\n",
              "      <td>1598 CC</td>\n",
              "      <td>103.5 bhp</td>\n",
              "      <td>5.0</td>\n",
              "      <td>6.98</td>\n",
              "    </tr>\n",
              "  </tbody>\n",
              "</table>\n",
              "</div>"
            ],
            "text/plain": [
              "                                                Name    Location  ...  Seats  Price\n",
              "0                             Maruti Wagon R LXI CNG      Mumbai  ...    5.0   1.75\n",
              "1                   Hyundai Creta 1.6 CRDi SX Option        Pune  ...    5.0  12.50\n",
              "2                                       Honda Jazz V     Chennai  ...    5.0   4.50\n",
              "3                                  Maruti Ertiga VDI     Chennai  ...    7.0   6.00\n",
              "4                    Audi A4 New 2.0 TDI Multitronic  Coimbatore  ...    5.0  17.74\n",
              "5                    Hyundai EON LPG Era Plus Option   Hyderabad  ...    5.0   2.35\n",
              "6                             Nissan Micra Diesel XV      Jaipur  ...    5.0   3.50\n",
              "7                  Toyota Innova Crysta 2.8 GX AT 8S      Mumbai  ...    8.0  17.50\n",
              "8                Volkswagen Vento Diesel Comfortline        Pune  ...    5.0   5.20\n",
              "9                     Tata Indica Vista Quadrajet LS     Chennai  ...    5.0   1.95\n",
              "10                                  Maruti Ciaz Zeta       Kochi  ...    5.0   9.95\n",
              "11                       Honda City 1.5 V AT Sunroof     Kolkata  ...    5.0   4.49\n",
              "12                             Maruti Swift VDI BSIV      Jaipur  ...    5.0   5.60\n",
              "13                  Land Rover Range Rover 2.2L Pure       Delhi  ...    5.0  27.00\n",
              "14                    Land Rover Freelander 2 TD4 SE        Pune  ...    5.0  17.50\n",
              "15                       Mitsubishi Pajero Sport 4X4       Delhi  ...    7.0  15.00\n",
              "16                             Honda Amaze S i-Dtech       Kochi  ...    5.0   5.40\n",
              "17                             Maruti Swift DDiS VDI      Jaipur  ...    5.0   5.99\n",
              "18               Renault Duster 85PS Diesel RxL Plus       Kochi  ...    5.0   6.34\n",
              "19  Mercedes-Benz New C-Class C 220 CDI BE Avantgare   Bangalore  ...    5.0  28.00\n",
              "20                                 BMW 3 Series 320d       Kochi  ...    5.0  18.55\n",
              "21                     Maruti S Cross DDiS 200 Alpha   Bangalore  ...    5.0   8.25\n",
              "22              Audi A6 2011-2015 35 TFSI Technology      Mumbai  ...    5.0  23.50\n",
              "23                             Hyundai i20 1.2 Magna     Kolkata  ...    5.0   1.87\n",
              "24               Volkswagen Vento Petrol Highline AT     Kolkata  ...    5.0   2.85\n",
              "25                      Honda City Corporate Edition      Mumbai  ...    5.0   4.25\n",
              "26                            Nissan Micra Diesel XV   Hyderabad  ...    5.0   4.25\n",
              "27                     Maruti Alto K10 2010-2014 VXI   Hyderabad  ...    5.0   2.75\n",
              "28                               Honda WRV i-VTEC VX       Kochi  ...    5.0   9.90\n",
              "29               Toyota Innova 2.5 V Diesel 7-seater      Mumbai  ...    7.0   4.00\n",
              "30              Renault Duster 110PS Diesel RxZ Pack   Bangalore  ...    5.0   7.75\n",
              "31                            Toyota Corolla Altis G       Delhi  ...    5.0   6.75\n",
              "32                     Mahindra Ssangyong Rexton RX7   Bangalore  ...    7.0  12.50\n",
              "33                                   Audi A6 2.7 TDI     Kolkata  ...    5.0  11.50\n",
              "34                     Volkswagen Vento 1.6 Highline  Coimbatore  ...    5.0   6.98\n",
              "\n",
              "[35 rows x 12 columns]"
            ]
          },
          "metadata": {
            "tags": []
          },
          "execution_count": 6
        }
      ]
    },
    {
      "cell_type": "code",
      "metadata": {
        "id": "7IxVXZpTdzcj",
        "colab_type": "code",
        "colab": {}
      },
      "source": [
        "brand_name=[]\n",
        "model_name=[]\n",
        "for index, rows in data_train.iterrows():\n",
        "    brand_name.append(rows['Name'].split()[0].lower())\n",
        "    model_name.append(rows['Name'].split()[1].lower())"
      ],
      "execution_count": 0,
      "outputs": []
    },
    {
      "cell_type": "code",
      "metadata": {
        "id": "LsdTK4F9dzcn",
        "colab_type": "code",
        "colab": {}
      },
      "source": [
        "data_train['Brand']= brand_name"
      ],
      "execution_count": 0,
      "outputs": []
    },
    {
      "cell_type": "code",
      "metadata": {
        "id": "sw3ns4nkdzcs",
        "colab_type": "code",
        "outputId": "4e9ee6cd-70dc-4bf4-8b0f-44afe280809f",
        "colab": {
          "base_uri": "https://localhost:8080/",
          "height": 597
        }
      },
      "source": [
        "plt.figure(figsize = (12, 8))\n",
        "plot = sns.countplot(x = 'Brand', data = data_train)\n",
        "plt.xticks(rotation = 90)\n",
        "for p in plot.patches:\n",
        "    plot.annotate(p.get_height(), \n",
        "                        (p.get_x() + p.get_width() / 2.0, \n",
        "                         p.get_height()), \n",
        "                        ha = 'center', \n",
        "                        va = 'center', \n",
        "                        xytext = (0, 5),\n",
        "                        textcoords = 'offset points')\n",
        "\n",
        "plt.title(\"Number of cars based on manufacturers\")\n",
        "plt.xlabel(\"Brand\")\n",
        "plt.ylabel(\"Number of cars\")"
      ],
      "execution_count": 0,
      "outputs": [
        {
          "output_type": "execute_result",
          "data": {
            "text/plain": [
              "Text(0, 0.5, 'Number of cars')"
            ]
          },
          "metadata": {
            "tags": []
          },
          "execution_count": 9
        },
        {
          "output_type": "display_data",
          "data": {
            "image/png": "[encoded data removed]",
            "text/plain": [
              "<Figure size 864x576 with 1 Axes>"
            ]
          },
          "metadata": {
            "tags": [],
            "needs_background": "light"
          }
        }
      ]
    },
    {
      "cell_type": "code",
      "metadata": {
        "id": "5BNx-cmidzcw",
        "colab_type": "code",
        "outputId": "c8d8e117-24f7-4b16-8658-3f48fba1d58d",
        "colab": {
          "base_uri": "https://localhost:8080/",
          "height": 263
        }
      },
      "source": [
        "data_train.isnull().sum()"
      ],
      "execution_count": 0,
      "outputs": [
        {
          "output_type": "execute_result",
          "data": {
            "text/plain": [
              "Name                  0\n",
              "Location              0\n",
              "Year                  0\n",
              "Kilometers_Driven     0\n",
              "Fuel_Type             0\n",
              "Transmission          0\n",
              "Owner_Type            0\n",
              "Mileage               2\n",
              "Engine               36\n",
              "Power                36\n",
              "Seats                42\n",
              "Price                 0\n",
              "Brand                 0\n",
              "dtype: int64"
            ]
          },
          "metadata": {
            "tags": []
          },
          "execution_count": 10
        }
      ]
    },
    {
      "cell_type": "code",
      "metadata": {
        "id": "c5oUkSqzdzcz",
        "colab_type": "code",
        "outputId": "bab27c8a-1193-4b94-d523-dc4cdac5d586",
        "colab": {
          "base_uri": "https://localhost:8080/",
          "height": 210
        }
      },
      "source": [
        "data_train[data_train['Mileage'].isnull()]"
      ],
      "execution_count": 0,
      "outputs": [
        {
          "output_type": "execute_result",
          "data": {
            "text/html": [
              "<div>\n",
              "<style scoped>\n",
              "    .dataframe tbody tr th:only-of-type {\n",
              "        vertical-align: middle;\n",
              "    }\n",
              "\n",
              "    .dataframe tbody tr th {\n",
              "        vertical-align: top;\n",
              "    }\n",
              "\n",
              "    .dataframe thead th {\n",
              "        text-align: right;\n",
              "    }\n",
              "</style>\n",
              "<table border=\"1\" class=\"dataframe\">\n",
              "  <thead>\n",
              "    <tr style=\"text-align: right;\">\n",
              "      <th></th>\n",
              "      <th>Name</th>\n",
              "      <th>Location</th>\n",
              "      <th>Year</th>\n",
              "      <th>Kilometers_Driven</th>\n",
              "      <th>Fuel_Type</th>\n",
              "      <th>Transmission</th>\n",
              "      <th>Owner_Type</th>\n",
              "      <th>Mileage</th>\n",
              "      <th>Engine</th>\n",
              "      <th>Power</th>\n",
              "      <th>Seats</th>\n",
              "      <th>Price</th>\n",
              "      <th>Brand</th>\n",
              "    </tr>\n",
              "  </thead>\n",
              "  <tbody>\n",
              "    <tr>\n",
              "      <th>4446</th>\n",
              "      <td>Mahindra E Verito D4</td>\n",
              "      <td>Chennai</td>\n",
              "      <td>2016</td>\n",
              "      <td>50000</td>\n",
              "      <td>Electric</td>\n",
              "      <td>Automatic</td>\n",
              "      <td>First</td>\n",
              "      <td>NaN</td>\n",
              "      <td>72 CC</td>\n",
              "      <td>41 bhp</td>\n",
              "      <td>5.0</td>\n",
              "      <td>13.00</td>\n",
              "      <td>mahindra</td>\n",
              "    </tr>\n",
              "    <tr>\n",
              "      <th>4904</th>\n",
              "      <td>Toyota Prius 2009-2016 Z4</td>\n",
              "      <td>Mumbai</td>\n",
              "      <td>2011</td>\n",
              "      <td>44000</td>\n",
              "      <td>Electric</td>\n",
              "      <td>Automatic</td>\n",
              "      <td>First</td>\n",
              "      <td>NaN</td>\n",
              "      <td>1798 CC</td>\n",
              "      <td>73 bhp</td>\n",
              "      <td>5.0</td>\n",
              "      <td>12.75</td>\n",
              "      <td>toyota</td>\n",
              "    </tr>\n",
              "  </tbody>\n",
              "</table>\n",
              "</div>"
            ],
            "text/plain": [
              "                           Name Location  Year  ...  Seats  Price     Brand\n",
              "4446       Mahindra E Verito D4  Chennai  2016  ...    5.0  13.00  mahindra\n",
              "4904  Toyota Prius 2009-2016 Z4   Mumbai  2011  ...    5.0  12.75    toyota\n",
              "\n",
              "[2 rows x 13 columns]"
            ]
          },
          "metadata": {
            "tags": []
          },
          "execution_count": 11
        }
      ]
    },
    {
      "cell_type": "code",
      "metadata": {
        "id": "i-hh6ynzdzc3",
        "colab_type": "code",
        "colab": {}
      },
      "source": [
        "mileage_train = data_train[\"Mileage\"].str.split(\" \", expand = True)\n",
        "data_train[\"Mileage\"] = pd.to_numeric(mileage_train[0], errors = 'coerce')\n",
        "\n",
        "data_train[\"Mileage\"].fillna(data_train[\"Mileage\"].astype(\"float64\").mean(), inplace = True)"
      ],
      "execution_count": 0,
      "outputs": []
    },
    {
      "cell_type": "code",
      "metadata": {
        "id": "tTPTRxBXdzc7",
        "colab_type": "code",
        "outputId": "16db73f2-998d-4318-eebd-cea1e1dcf358",
        "colab": {
          "base_uri": "https://localhost:8080/",
          "height": 263
        }
      },
      "source": [
        "data_train.isnull().sum()"
      ],
      "execution_count": 0,
      "outputs": [
        {
          "output_type": "execute_result",
          "data": {
            "text/plain": [
              "Name                  0\n",
              "Location              0\n",
              "Year                  0\n",
              "Kilometers_Driven     0\n",
              "Fuel_Type             0\n",
              "Transmission          0\n",
              "Owner_Type            0\n",
              "Mileage               0\n",
              "Engine               36\n",
              "Power                36\n",
              "Seats                42\n",
              "Price                 0\n",
              "Brand                 0\n",
              "dtype: int64"
            ]
          },
          "metadata": {
            "tags": []
          },
          "execution_count": 13
        }
      ]
    },
    {
      "cell_type": "code",
      "metadata": {
        "id": "YYQ_mtpsdzdA",
        "colab_type": "code",
        "colab": {}
      },
      "source": [
        "Engine_train = data_train[\"Engine\"].str.split(\" \", expand = True)\n",
        "data_train[\"Engine\"] = pd.to_numeric(Engine_train[0], errors = 'coerce')\n",
        "data_train[\"Engine\"].fillna(data_train[\"Engine\"].astype(\"float64\").mean(), inplace = True)"
      ],
      "execution_count": 0,
      "outputs": []
    },
    {
      "cell_type": "code",
      "metadata": {
        "id": "wgM1DOMjdzdD",
        "colab_type": "code",
        "outputId": "c2df9cd8-1aa6-4731-a9a1-f3099ffd1e3e",
        "colab": {
          "base_uri": "https://localhost:8080/",
          "height": 263
        }
      },
      "source": [
        "data_train.isnull().sum()"
      ],
      "execution_count": 0,
      "outputs": [
        {
          "output_type": "execute_result",
          "data": {
            "text/plain": [
              "Name                  0\n",
              "Location              0\n",
              "Year                  0\n",
              "Kilometers_Driven     0\n",
              "Fuel_Type             0\n",
              "Transmission          0\n",
              "Owner_Type            0\n",
              "Mileage               0\n",
              "Engine                0\n",
              "Power                36\n",
              "Seats                42\n",
              "Price                 0\n",
              "Brand                 0\n",
              "dtype: int64"
            ]
          },
          "metadata": {
            "tags": []
          },
          "execution_count": 15
        }
      ]
    },
    {
      "cell_type": "code",
      "metadata": {
        "id": "CR92dZILdzdH",
        "colab_type": "code",
        "colab": {}
      },
      "source": [
        "Power_train = data_train[\"Power\"].str.split(\" \", expand = True)\n",
        "data_train[\"Power\"] = pd.to_numeric(Power_train[0], errors = 'coerce')\n",
        "data_train[\"Power\"].fillna(data_train[\"Power\"].astype(\"float64\").mean(), inplace = True)"
      ],
      "execution_count": 0,
      "outputs": []
    },
    {
      "cell_type": "code",
      "metadata": {
        "id": "OVlOvWQmdzdK",
        "colab_type": "code",
        "outputId": "892af520-0e94-4c64-baaa-5307f6a21b4e",
        "colab": {
          "base_uri": "https://localhost:8080/",
          "height": 263
        }
      },
      "source": [
        "data_train.isnull().sum()"
      ],
      "execution_count": 0,
      "outputs": [
        {
          "output_type": "execute_result",
          "data": {
            "text/plain": [
              "Name                  0\n",
              "Location              0\n",
              "Year                  0\n",
              "Kilometers_Driven     0\n",
              "Fuel_Type             0\n",
              "Transmission          0\n",
              "Owner_Type            0\n",
              "Mileage               0\n",
              "Engine                0\n",
              "Power                 0\n",
              "Seats                42\n",
              "Price                 0\n",
              "Brand                 0\n",
              "dtype: int64"
            ]
          },
          "metadata": {
            "tags": []
          },
          "execution_count": 17
        }
      ]
    },
    {
      "cell_type": "code",
      "metadata": {
        "id": "WYle0MtbdzdO",
        "colab_type": "code",
        "colab": {}
      },
      "source": [
        "data_train[\"Seats\"].fillna(data_train[\"Seats\"].astype(\"float64\").mean(), inplace = True)"
      ],
      "execution_count": 0,
      "outputs": []
    },
    {
      "cell_type": "code",
      "metadata": {
        "id": "OyRGfAtpdzdR",
        "colab_type": "code",
        "outputId": "82ed7609-75f8-4863-ff27-672664b8939f",
        "colab": {
          "base_uri": "https://localhost:8080/",
          "height": 263
        }
      },
      "source": [
        "data_train.isnull().sum()"
      ],
      "execution_count": 0,
      "outputs": [
        {
          "output_type": "execute_result",
          "data": {
            "text/plain": [
              "Name                 0\n",
              "Location             0\n",
              "Year                 0\n",
              "Kilometers_Driven    0\n",
              "Fuel_Type            0\n",
              "Transmission         0\n",
              "Owner_Type           0\n",
              "Mileage              0\n",
              "Engine               0\n",
              "Power                0\n",
              "Seats                0\n",
              "Price                0\n",
              "Brand                0\n",
              "dtype: int64"
            ]
          },
          "metadata": {
            "tags": []
          },
          "execution_count": 19
        }
      ]
    },
    {
      "cell_type": "markdown",
      "metadata": {
        "id": "kzH7OMu4dzdW",
        "colab_type": "text"
      },
      "source": [
        "# Data Splitting"
      ]
    },
    {
      "cell_type": "code",
      "metadata": {
        "id": "wdEM89t0dzdX",
        "colab_type": "code",
        "outputId": "4cbbf431-ec2d-47c0-cf84-b4ede17c50b1",
        "colab": {
          "base_uri": "https://localhost:8080/",
          "height": 195
        }
      },
      "source": [
        "data_train_target = data_train['Price']\n",
        "data_train_final = data_train.drop(['Name','Price','Location','Transmission','Fuel_Type','Owner_Type','Brand','Year'],axis =1)\n",
        "data_train_final.head()"
      ],
      "execution_count": 0,
      "outputs": [
        {
          "output_type": "execute_result",
          "data": {
            "text/html": [
              "<div>\n",
              "<style scoped>\n",
              "    .dataframe tbody tr th:only-of-type {\n",
              "        vertical-align: middle;\n",
              "    }\n",
              "\n",
              "    .dataframe tbody tr th {\n",
              "        vertical-align: top;\n",
              "    }\n",
              "\n",
              "    .dataframe thead th {\n",
              "        text-align: right;\n",
              "    }\n",
              "</style>\n",
              "<table border=\"1\" class=\"dataframe\">\n",
              "  <thead>\n",
              "    <tr style=\"text-align: right;\">\n",
              "      <th></th>\n",
              "      <th>Kilometers_Driven</th>\n",
              "      <th>Mileage</th>\n",
              "      <th>Engine</th>\n",
              "      <th>Power</th>\n",
              "      <th>Seats</th>\n",
              "    </tr>\n",
              "  </thead>\n",
              "  <tbody>\n",
              "    <tr>\n",
              "      <th>0</th>\n",
              "      <td>72000</td>\n",
              "      <td>26.60</td>\n",
              "      <td>998.0</td>\n",
              "      <td>58.16</td>\n",
              "      <td>5.0</td>\n",
              "    </tr>\n",
              "    <tr>\n",
              "      <th>1</th>\n",
              "      <td>41000</td>\n",
              "      <td>19.67</td>\n",
              "      <td>1582.0</td>\n",
              "      <td>126.20</td>\n",
              "      <td>5.0</td>\n",
              "    </tr>\n",
              "    <tr>\n",
              "      <th>2</th>\n",
              "      <td>46000</td>\n",
              "      <td>18.20</td>\n",
              "      <td>1199.0</td>\n",
              "      <td>88.70</td>\n",
              "      <td>5.0</td>\n",
              "    </tr>\n",
              "    <tr>\n",
              "      <th>3</th>\n",
              "      <td>87000</td>\n",
              "      <td>20.77</td>\n",
              "      <td>1248.0</td>\n",
              "      <td>88.76</td>\n",
              "      <td>7.0</td>\n",
              "    </tr>\n",
              "    <tr>\n",
              "      <th>4</th>\n",
              "      <td>40670</td>\n",
              "      <td>15.20</td>\n",
              "      <td>1968.0</td>\n",
              "      <td>140.80</td>\n",
              "      <td>5.0</td>\n",
              "    </tr>\n",
              "  </tbody>\n",
              "</table>\n",
              "</div>"
            ],
            "text/plain": [
              "   Kilometers_Driven  Mileage  Engine   Power  Seats\n",
              "0              72000    26.60   998.0   58.16    5.0\n",
              "1              41000    19.67  1582.0  126.20    5.0\n",
              "2              46000    18.20  1199.0   88.70    5.0\n",
              "3              87000    20.77  1248.0   88.76    7.0\n",
              "4              40670    15.20  1968.0  140.80    5.0"
            ]
          },
          "metadata": {
            "tags": []
          },
          "execution_count": 20
        }
      ]
    },
    {
      "cell_type": "code",
      "metadata": {
        "id": "pwYHpPLkdzdc",
        "colab_type": "code",
        "colab": {}
      },
      "source": [
        "from sklearn.preprocessing import MinMaxScaler\n",
        "for i in ['Kilometers_Driven','Mileage','Engine','Power']:\n",
        "    data_train_final[i] = MinMaxScaler(feature_range=(0,1)).fit_transform(data_train_final[i].values.astype(float).reshape(-1,1))"
      ],
      "execution_count": 0,
      "outputs": []
    },
    {
      "cell_type": "code",
      "metadata": {
        "id": "tUr2WxfHdzdh",
        "colab_type": "code",
        "colab": {}
      },
      "source": [
        "X_train, X_test, y_train, y_test = train_test_split(data_train_final, data_train_target, test_size = 0.33)"
      ],
      "execution_count": 0,
      "outputs": []
    },
    {
      "cell_type": "code",
      "metadata": {
        "id": "bLyZ7q6Bdzdl",
        "colab_type": "code",
        "outputId": "917df0da-5a08-4d02-f5d0-d8cbc657f61f",
        "colab": {
          "base_uri": "https://localhost:8080/",
          "height": 228
        }
      },
      "source": [
        "X_train.info()"
      ],
      "execution_count": 0,
      "outputs": [
        {
          "output_type": "stream",
          "text": [
            "<class 'pandas.core.frame.DataFrame'>\n",
            "Int64Index: 4032 entries, 1805 to 2255\n",
            "Data columns (total 5 columns):\n",
            " #   Column             Non-Null Count  Dtype  \n",
            "---  ------             --------------  -----  \n",
            " 0   Kilometers_Driven  4032 non-null   float64\n",
            " 1   Mileage            4032 non-null   float64\n",
            " 2   Engine             4032 non-null   float64\n",
            " 3   Power              4032 non-null   float64\n",
            " 4   Seats              4032 non-null   float64\n",
            "dtypes: float64(5)\n",
            "memory usage: 189.0 KB\n"
          ],
          "name": "stdout"
        }
      ]
    },
    {
      "cell_type": "code",
      "metadata": {
        "id": "uw8rj5rsdzdp",
        "colab_type": "code",
        "colab": {}
      },
      "source": [
        ""
      ],
      "execution_count": 0,
      "outputs": []
    },
    {
      "cell_type": "markdown",
      "metadata": {
        "id": "H866VCOAdzdw",
        "colab_type": "text"
      },
      "source": [
        "## Skipping EDA ..."
      ]
    },
    {
      "cell_type": "code",
      "metadata": {
        "id": "A2LewWFkdzdw",
        "colab_type": "code",
        "colab": {}
      },
      "source": [
        ""
      ],
      "execution_count": 0,
      "outputs": []
    },
    {
      "cell_type": "markdown",
      "metadata": {
        "id": "RugF1HWOdzd1",
        "colab_type": "text"
      },
      "source": [
        "# Model 1: Decision Tree Regressor"
      ]
    },
    {
      "cell_type": "code",
      "metadata": {
        "id": "81ypF8Z4dzd2",
        "colab_type": "code",
        "outputId": "70d1d572-06a3-4247-e8e2-8f51661e35bf",
        "colab": {
          "base_uri": "https://localhost:8080/",
          "height": 428
        }
      },
      "source": [
        "from sklearn.metrics import mean_squared_error\n",
        "\n",
        "D_T = tree.DecisionTreeRegressor(max_depth=3)\n",
        "D_T.fit(X_train, y_train)\n",
        "y_pred_dt = D_T.predict(X_test)\n",
        "print('The Score on the test set with a basic decision tree regressor is:',D_T.score(X_test,y_test))\n",
        "print(\"The Root Mean squared error with a basic decision tree regressor: %.2f\"\n",
        "      % np.sqrt(mean_squared_error(y_test, y_pred_dt)))\n",
        "\n",
        "dot_data = StringIO()\n",
        "export_graphviz(D_T, out_file=dot_data,feature_names=data_train_final.columns,\n",
        "                filled=True, rounded=True,\n",
        "                special_characters=True)\n",
        "graph = pydotplus.graph_from_dot_data(dot_data.getvalue())  \n",
        "Image(graph.create_png())"
      ],
      "execution_count": 0,
      "outputs": [
        {
          "output_type": "stream",
          "text": [
            "The Score on the test set with a basic decision tree regressor is: 0.7027718402429486\n",
            "The Root Mean squared error with a basic decision tree regressor: 6.14\n"
          ],
          "name": "stdout"
        },
        {
          "output_type": "execute_result",
          "data": {
            "image/png": "[encoded data removed]",
            "text/plain": [
              "<IPython.core.display.Image object>"
            ]
          },
          "metadata": {
            "tags": []
          },
          "execution_count": 25
        }
      ]
    },
    {
      "cell_type": "code",
      "metadata": {
        "id": "UQbS-Bj4dzd7",
        "colab_type": "code",
        "colab": {}
      },
      "source": [
        "trknn_scores=[]\n",
        "teknn_scores= []\n",
        "rmse_scores=[]\n",
        "for i in np.arange(1,20,1):\n",
        "    D_T = tree.DecisionTreeRegressor(max_depth=i,random_state=42)\n",
        "    D_T.fit(X_train, y_train)\n",
        "    y_pred_dt = D_T.predict(X_test)\n",
        "    train_scores = D_T.score(X_train,y_train)\n",
        "    test_scores = D_T.score(X_test,y_test)\n",
        "    # The Root mean squared error\n",
        "    trknn_scores.append(train_scores)\n",
        "    teknn_scores.append(test_scores)\n",
        "    rmse_scores.append(np.sqrt(mean_squared_error(y_test, y_pred_dt)))"
      ],
      "execution_count": 0,
      "outputs": []
    },
    {
      "cell_type": "code",
      "metadata": {
        "id": "ONniLAYwdzeC",
        "colab_type": "code",
        "outputId": "d0e2b7a9-16b1-400e-85a0-0befe2bf3485",
        "colab": {
          "base_uri": "https://localhost:8080/",
          "height": 279
        }
      },
      "source": [
        "sns.set_style('whitegrid')\n",
        "fig,(ax1,ax2)=plt.subplots(ncols=2,figsize=(7,4));\n",
        "ax1.plot(np.arange(1,20,1),rmse_scores,color='red');\n",
        "ax2.plot(np.arange(1,20,1),trknn_scores);\n",
        "ax2.plot(np.arange(1,20,1),teknn_scores);\n",
        "ax1.set_xlabel('Max Depth of Tree')\n",
        "ax2.set_xlabel('Max Depth of Tree')\n",
        "ax1.set_ylabel('Root Mean Squared Error')\n",
        "ax2.set_ylabel('R-squared');"
      ],
      "execution_count": 0,
      "outputs": [
        {
          "output_type": "display_data",
          "data": {
            "image/png": "[encoded data removed]",
            "text/plain": [
              "<Figure size 504x288 with 2 Axes>"
            ]
          },
          "metadata": {
            "tags": []
          }
        }
      ]
    },
    {
      "cell_type": "code",
      "metadata": {
        "id": "SzdRHcnmdzeF",
        "colab_type": "code",
        "outputId": "7330e6b4-535a-4d8b-bff9-8e6c5ec5d4d5",
        "colab": {
          "base_uri": "https://localhost:8080/",
          "height": 70
        }
      },
      "source": [
        "from sklearn import tree\n",
        "from sklearn.metrics import mean_squared_error\n",
        "\n",
        "D_T = tree.DecisionTreeRegressor(max_depth=8,random_state=42)\n",
        "D_T.fit(X_train, y_train)\n",
        "y_pred_dt = D_T.predict(X_test)\n",
        "print('The Score on the training set with a decision tree regressor is:',D_T.score(X_train,y_train))\n",
        "print('The Score on the test set with a decision tree regressor is:',D_T.score(X_test,y_test))\n",
        "print(\"Mean squared error: %.2f\"\n",
        "      % np.sqrt(mean_squared_error(y_test, y_pred_dt)))"
      ],
      "execution_count": 0,
      "outputs": [
        {
          "output_type": "stream",
          "text": [
            "The Score on the training set with a decision tree regressor is: 0.8812867392079028\n",
            "The Score on the test set with a decision tree regressor is: 0.7315755761810456\n",
            "Mean squared error: 5.83\n"
          ],
          "name": "stdout"
        }
      ]
    },
    {
      "cell_type": "markdown",
      "metadata": {
        "id": "QBTlB2SLdzeJ",
        "colab_type": "text"
      },
      "source": [
        "# Model 2: Linear Regression"
      ]
    },
    {
      "cell_type": "code",
      "metadata": {
        "id": "ZkeoSPQMdzeJ",
        "colab_type": "code",
        "outputId": "708f81d5-4d34-4775-d535-ce2fc4460236",
        "colab": {}
      },
      "source": [
        "sc = StandardScaler()\n",
        "X_train = sc.fit_transform(X_train)\n",
        "X_test = sc.transform(X_test)\n",
        "lreg = LinearRegression()\n",
        "lreg.fit(X_train,y_train)\n",
        "y_pred_linear = lreg.predict(X_test)\n",
        "print('The Score on the test set with a linear regression is:', lreg.score(X_test,y_test))\n",
        "# The Root mean squared error\n",
        "print(\"Mean squared error: %.2f\"\n",
        "      % np.sqrt(mean_squared_error(y_test, y_pred_linear)))"
      ],
      "execution_count": 0,
      "outputs": [
        {
          "output_type": "stream",
          "text": [
            "The Score on the test set with a linear regression is: -0.02895618652046661\n",
            "Mean squared error: 11.77\n"
          ],
          "name": "stdout"
        }
      ]
    },
    {
      "cell_type": "markdown",
      "metadata": {
        "id": "spKsMPlgdzeM",
        "colab_type": "text"
      },
      "source": [
        "# Model 3: KNN Model"
      ]
    },
    {
      "cell_type": "code",
      "metadata": {
        "id": "nyDbumBzdzeN",
        "colab_type": "code",
        "colab": {}
      },
      "source": [
        "KNR = KNeighborsRegressor()\n",
        "\n",
        "\n",
        "trknn_scores=[]\n",
        "teknn_scores= []\n",
        "rmse_scores=[]\n",
        "\n",
        "for i in np.arange(1,100,5):\n",
        "    KNR = KNeighborsRegressor(n_neighbors=i)\n",
        "    KNR.fit(X_train,y_train)\n",
        "    KNR.score(X_test,y_test)\n",
        "    train_scores = KNR.score(X_train,y_train)\n",
        "    test_scores = KNR.score(X_test,y_test)\n",
        "    \n",
        "# The Root mean squared error\n",
        "    \n",
        "    trknn_scores.append(train_scores)\n",
        "    teknn_scores.append(test_scores)\n",
        "    y_pred_knn = KNR.predict(X_test)\n",
        "    rmse_scores.append(np.sqrt(mean_squared_error(y_test, y_pred_knn)))"
      ],
      "execution_count": 0,
      "outputs": []
    },
    {
      "cell_type": "code",
      "metadata": {
        "id": "LmGjDlHGdzeS",
        "colab_type": "code",
        "outputId": "917adc6d-c7c0-449f-b5f8-f35d6af91e4f",
        "colab": {}
      },
      "source": [
        "sns.set_style('whitegrid')\n",
        "fig,(ax1,ax2)=plt.subplots(ncols=2,figsize=(7,4))\n",
        "ax1.plot(np.arange(1,100,5),rmse_scores,color='red')\n",
        "ax2.plot(np.arange(1,100,5),trknn_scores)\n",
        "ax2.plot(np.arange(1,100,5),teknn_scores)\n",
        "ax1.set_xlabel('Number of Neighbors')\n",
        "ax2.set_xlabel('Number of Neighbors')\n",
        "ax1.set_ylabel('Root Mean Squared Error')\n",
        "ax2.set_ylabel('R-squared')"
      ],
      "execution_count": 0,
      "outputs": [
        {
          "output_type": "execute_result",
          "data": {
            "text/plain": [
              "Text(0, 0.5, 'R-squared')"
            ]
          },
          "metadata": {
            "tags": []
          },
          "execution_count": 31
        },
        {
          "output_type": "display_data",
          "data": {
            "image/png": "[encoded data removed]",
            "text/plain": [
              "<Figure size 504x288 with 2 Axes>"
            ]
          },
          "metadata": {
            "tags": []
          }
        }
      ]
    },
    {
      "cell_type": "code",
      "metadata": {
        "id": "I8qvBmEydzeV",
        "colab_type": "code",
        "outputId": "14a274b6-552b-4a85-a526-2208f92f3900",
        "colab": {}
      },
      "source": [
        "KNR = KNeighborsRegressor(n_neighbors=5)\n",
        "KNR.fit(X_train,y_train)\n",
        "y_pred_KNR = KNR.predict(X_test)\n",
        "print('The Score on the test set with a KNN regressor is:',KNR.score(X_test,y_test))\n",
        "print(\"Mean squared error: %.2f\"\n",
        "      % np.sqrt(mean_squared_error(y_test, y_pred_KNR)))"
      ],
      "execution_count": 0,
      "outputs": [
        {
          "output_type": "stream",
          "text": [
            "The Score on the test set with a KNN regressor is: 0.7217196674274282\n",
            "Mean squared error: 6.12\n"
          ],
          "name": "stdout"
        }
      ]
    },
    {
      "cell_type": "markdown",
      "metadata": {
        "id": "qEu4SKhmdzeY",
        "colab_type": "text"
      },
      "source": [
        "# Model 4: Random Forest Regressor Model"
      ]
    },
    {
      "cell_type": "code",
      "metadata": {
        "id": "ZZGsLMdodzeZ",
        "colab_type": "code",
        "outputId": "df9353fd-68cf-4f27-dd5a-b6949a53653c",
        "colab": {}
      },
      "source": [
        "from sklearn.ensemble import RandomForestRegressor\n",
        "\n",
        "rand_est = RandomForestRegressor()\n",
        "rand_est.fit(X_train,y_train)\n",
        "y_pred = rand_est.predict(X_test)\n",
        "print(' The Score on the test set with a random forest regressor is:', rand_est.score(X_test,y_test))\n",
        "print(\"Mean squared error: %.2f\"\n",
        "      % np.sqrt(mean_squared_error(y_test, y_pred)))"
      ],
      "execution_count": 0,
      "outputs": [
        {
          "output_type": "stream",
          "text": [
            " The Score on the test set with a random forest regressor is: 0.7992933825212152\n",
            "Mean squared error: 5.20\n"
          ],
          "name": "stdout"
        }
      ]
    },
    {
      "cell_type": "code",
      "metadata": {
        "id": "vxMMws7Fdzeb",
        "colab_type": "code",
        "outputId": "9f24db8c-e090-4f80-a089-479631a31ff7",
        "colab": {}
      },
      "source": [
        "RFR = RandomForestRegressor()\n",
        "\n",
        "n_estimators = [1 , 2 , 4, 8 , 16, 32, 64, 100, 200]\n",
        "\n",
        "max_features = ['auto', 'sqrt']\n",
        "\n",
        "max_depth = [int(x) for x in np.linspace(10, 110, num = 11)]\n",
        "max_depth.append(None)\n",
        "\n",
        "min_samples_split = [2, 5, 10]\n",
        "\n",
        "min_samples_leaf = [1, 2, 4]\n",
        "\n",
        "bootstrap = [True, False]\n",
        "\n",
        "random_grid = {'n_estimators': n_estimators,\n",
        "               'max_features': max_features,\n",
        "               'max_depth': max_depth,\n",
        "               'min_samples_split': min_samples_split,\n",
        "               'min_samples_leaf': min_samples_leaf,\n",
        "               'bootstrap': bootstrap}\n",
        "rf_random = RandomizedSearchCV(estimator = RFR, param_distributions = random_grid, n_iter = 100, cv = 3, verbose=2, random_state=42, n_jobs = -1)\n",
        "\n",
        "best_model = rf_random.fit(X_train, y_train)"
      ],
      "execution_count": 0,
      "outputs": [
        {
          "output_type": "stream",
          "text": [
            "Fitting 3 folds for each of 100 candidates, totalling 300 fits\n"
          ],
          "name": "stdout"
        },
        {
          "output_type": "stream",
          "text": [
            "[Parallel(n_jobs=-1)]: Using backend LokyBackend with 4 concurrent workers.\n",
            "[Parallel(n_jobs=-1)]: Done  33 tasks      | elapsed:    4.2s\n",
            "[Parallel(n_jobs=-1)]: Done 180 tasks      | elapsed:   16.9s\n",
            "[Parallel(n_jobs=-1)]: Done 300 out of 300 | elapsed:   30.8s finished\n"
          ],
          "name": "stderr"
        }
      ]
    },
    {
      "cell_type": "code",
      "metadata": {
        "id": "ySIR6InJdzef",
        "colab_type": "code",
        "outputId": "221eda22-f09d-447a-cd23-d5410b3f7067",
        "colab": {}
      },
      "source": [
        "best_model"
      ],
      "execution_count": 0,
      "outputs": [
        {
          "output_type": "execute_result",
          "data": {
            "text/plain": [
              "RandomizedSearchCV(cv=3, error_score=nan,\n",
              "                   estimator=RandomForestRegressor(bootstrap=True,\n",
              "                                                   ccp_alpha=0.0,\n",
              "                                                   criterion='mse',\n",
              "                                                   max_depth=None,\n",
              "                                                   max_features='auto',\n",
              "                                                   max_leaf_nodes=None,\n",
              "                                                   max_samples=None,\n",
              "                                                   min_impurity_decrease=0.0,\n",
              "                                                   min_impurity_split=None,\n",
              "                                                   min_samples_leaf=1,\n",
              "                                                   min_samples_split=2,\n",
              "                                                   min_weight_fraction_leaf=0.0,\n",
              "                                                   n_estimators=100,\n",
              "                                                   n_jobs=None, oob_score=Fals...\n",
              "                   iid='deprecated', n_iter=100, n_jobs=-1,\n",
              "                   param_distributions={'bootstrap': [True, False],\n",
              "                                        'max_depth': [10, 20, 30, 40, 50, 60,\n",
              "                                                      70, 80, 90, 100, 110,\n",
              "                                                      None],\n",
              "                                        'max_features': ['auto', 'sqrt'],\n",
              "                                        'min_samples_leaf': [1, 2, 4],\n",
              "                                        'min_samples_split': [2, 5, 10],\n",
              "                                        'n_estimators': [1, 2, 4, 8, 16, 32, 64,\n",
              "                                                         100, 200]},\n",
              "                   pre_dispatch='2*n_jobs', random_state=42, refit=True,\n",
              "                   return_train_score=False, scoring=None, verbose=2)"
            ]
          },
          "metadata": {
            "tags": []
          },
          "execution_count": 39
        }
      ]
    },
    {
      "cell_type": "code",
      "metadata": {
        "id": "lESA-txedzei",
        "colab_type": "code",
        "outputId": "78b1f330-a23c-40c9-94f6-44d340246f5d",
        "colab": {}
      },
      "source": [
        "best_model.best_params_"
      ],
      "execution_count": 0,
      "outputs": [
        {
          "output_type": "execute_result",
          "data": {
            "text/plain": [
              "{'n_estimators': 64,\n",
              " 'min_samples_split': 5,\n",
              " 'min_samples_leaf': 1,\n",
              " 'max_features': 'sqrt',\n",
              " 'max_depth': None,\n",
              " 'bootstrap': True}"
            ]
          },
          "metadata": {
            "tags": []
          },
          "execution_count": 40
        }
      ]
    },
    {
      "cell_type": "code",
      "metadata": {
        "id": "ez-EjOAodzem",
        "colab_type": "code",
        "outputId": "c2acea2a-022a-44f1-f6f8-c4f6a37bc697",
        "colab": {}
      },
      "source": [
        "from sklearn.ensemble import RandomForestRegressor\n",
        "\n",
        "rand_est = RandomForestRegressor(max_depth=None, n_estimators= 64, min_samples_split= 5, min_samples_leaf= 1, bootstrap= True, max_features= 'sqrt')\n",
        "rand_est.fit(X_train,y_train)\n",
        "y_pred_rfr = rand_est.predict(X_test)\n",
        "print(' The Score on the train set with a hyperparameter optimized random forest regressor is:',rand_est.score(X_train,y_train))\n",
        "print(' The Score on the test set with a hyperparameter optimized random forest regressor is:',rand_est.score(X_test,y_test))\n",
        "print(\"Mean squared error: %.2f\"\n",
        "      % np.sqrt(mean_squared_error(y_test, y_pred_rfr)))"
      ],
      "execution_count": 0,
      "outputs": [
        {
          "output_type": "stream",
          "text": [
            " The Score on the train set with a hyperparameter optimized random forest regressor is: 0.9398451642420426\n",
            " The Score on the test set with a hyperparameter optimized random forest regressor is: 0.814841571676949\n",
            "Mean squared error: 4.99\n"
          ],
          "name": "stdout"
        }
      ]
    },
    {
      "cell_type": "code",
      "metadata": {
        "id": "OvS28ZJfdzep",
        "colab_type": "code",
        "colab": {}
      },
      "source": [
        ""
      ],
      "execution_count": 0,
      "outputs": []
    },
    {
      "cell_type": "code",
      "metadata": {
        "id": "CtF9NQYtdzes",
        "colab_type": "code",
        "colab": {}
      },
      "source": [
        ""
      ],
      "execution_count": 0,
      "outputs": []
    },
    {
      "cell_type": "code",
      "metadata": {
        "id": "vuxOCdfddzew",
        "colab_type": "code",
        "colab": {}
      },
      "source": [
        ""
      ],
      "execution_count": 0,
      "outputs": []
    }
  ]
}