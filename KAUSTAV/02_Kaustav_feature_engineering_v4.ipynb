{
  "nbformat": 4,
  "nbformat_minor": 0,
  "metadata": {
    "colab": {
      "name": "02_Kaustav_feature_engineering_v4.ipynb",
      "provenance": [],
      "collapsed_sections": []
    },
    "kernelspec": {
      "name": "python3",
      "display_name": "Python 3"
    }
  },
  "cells": [
    {
      "cell_type": "code",
      "metadata": {
        "id": "8Z1knV1rJ4oK",
        "colab_type": "code",
        "outputId": "a88ee634-d1d0-4df1-a175-ac242ba90b5a",
        "colab": {
          "base_uri": "https://localhost:8080/",
          "height": 394
        }
      },
      "source": [
        "import numpy as np\n",
        "import pandas as pd \n",
        "import matplotlib.pyplot as plt\n",
        "%matplotlib inline\n",
        "import seaborn as sns\n",
        "sns.set(style='darkgrid')\n",
        "\n",
        "\n",
        "data_train_path = (r\"/content/drive/My Drive/Colab Notebooks/Verzeo Internship/Major Project/datasets/Data_Train.xlsx\")\n",
        "data_test_path = (r\"/content/drive/My Drive/Colab Notebooks/Verzeo Internship/Major Project/datasets/Data_Test.xlsx\")\n",
        "\n",
        "data_train = pd.read_excel(data_train_path)\n",
        "data_test = pd.read_excel(data_test_path)\n",
        "data_train.head()"
      ],
      "execution_count": 265,
      "outputs": [
        {
          "output_type": "execute_result",
          "data": {
            "text/html": [
              "<div>\n",
              "<style scoped>\n",
              "    .dataframe tbody tr th:only-of-type {\n",
              "        vertical-align: middle;\n",
              "    }\n",
              "\n",
              "    .dataframe tbody tr th {\n",
              "        vertical-align: top;\n",
              "    }\n",
              "\n",
              "    .dataframe thead th {\n",
              "        text-align: right;\n",
              "    }\n",
              "</style>\n",
              "<table border=\"1\" class=\"dataframe\">\n",
              "  <thead>\n",
              "    <tr style=\"text-align: right;\">\n",
              "      <th></th>\n",
              "      <th>Name</th>\n",
              "      <th>Location</th>\n",
              "      <th>Year</th>\n",
              "      <th>Kilometers_Driven</th>\n",
              "      <th>Fuel_Type</th>\n",
              "      <th>Transmission</th>\n",
              "      <th>Owner_Type</th>\n",
              "      <th>Mileage</th>\n",
              "      <th>Engine</th>\n",
              "      <th>Power</th>\n",
              "      <th>Seats</th>\n",
              "      <th>Price</th>\n",
              "    </tr>\n",
              "  </thead>\n",
              "  <tbody>\n",
              "    <tr>\n",
              "      <th>0</th>\n",
              "      <td>Maruti Wagon R LXI CNG</td>\n",
              "      <td>Mumbai</td>\n",
              "      <td>2010</td>\n",
              "      <td>72000</td>\n",
              "      <td>CNG</td>\n",
              "      <td>Manual</td>\n",
              "      <td>First</td>\n",
              "      <td>26.6 km/kg</td>\n",
              "      <td>998 CC</td>\n",
              "      <td>58.16 bhp</td>\n",
              "      <td>5.0</td>\n",
              "      <td>1.75</td>\n",
              "    </tr>\n",
              "    <tr>\n",
              "      <th>1</th>\n",
              "      <td>Hyundai Creta 1.6 CRDi SX Option</td>\n",
              "      <td>Pune</td>\n",
              "      <td>2015</td>\n",
              "      <td>41000</td>\n",
              "      <td>Diesel</td>\n",
              "      <td>Manual</td>\n",
              "      <td>First</td>\n",
              "      <td>19.67 kmpl</td>\n",
              "      <td>1582 CC</td>\n",
              "      <td>126.2 bhp</td>\n",
              "      <td>5.0</td>\n",
              "      <td>12.50</td>\n",
              "    </tr>\n",
              "    <tr>\n",
              "      <th>2</th>\n",
              "      <td>Honda Jazz V</td>\n",
              "      <td>Chennai</td>\n",
              "      <td>2011</td>\n",
              "      <td>46000</td>\n",
              "      <td>Petrol</td>\n",
              "      <td>Manual</td>\n",
              "      <td>First</td>\n",
              "      <td>18.2 kmpl</td>\n",
              "      <td>1199 CC</td>\n",
              "      <td>88.7 bhp</td>\n",
              "      <td>5.0</td>\n",
              "      <td>4.50</td>\n",
              "    </tr>\n",
              "    <tr>\n",
              "      <th>3</th>\n",
              "      <td>Maruti Ertiga VDI</td>\n",
              "      <td>Chennai</td>\n",
              "      <td>2012</td>\n",
              "      <td>87000</td>\n",
              "      <td>Diesel</td>\n",
              "      <td>Manual</td>\n",
              "      <td>First</td>\n",
              "      <td>20.77 kmpl</td>\n",
              "      <td>1248 CC</td>\n",
              "      <td>88.76 bhp</td>\n",
              "      <td>7.0</td>\n",
              "      <td>6.00</td>\n",
              "    </tr>\n",
              "    <tr>\n",
              "      <th>4</th>\n",
              "      <td>Audi A4 New 2.0 TDI Multitronic</td>\n",
              "      <td>Coimbatore</td>\n",
              "      <td>2013</td>\n",
              "      <td>40670</td>\n",
              "      <td>Diesel</td>\n",
              "      <td>Automatic</td>\n",
              "      <td>Second</td>\n",
              "      <td>15.2 kmpl</td>\n",
              "      <td>1968 CC</td>\n",
              "      <td>140.8 bhp</td>\n",
              "      <td>5.0</td>\n",
              "      <td>17.74</td>\n",
              "    </tr>\n",
              "  </tbody>\n",
              "</table>\n",
              "</div>"
            ],
            "text/plain": [
              "                               Name    Location  Year  ...      Power Seats  Price\n",
              "0            Maruti Wagon R LXI CNG      Mumbai  2010  ...  58.16 bhp   5.0   1.75\n",
              "1  Hyundai Creta 1.6 CRDi SX Option        Pune  2015  ...  126.2 bhp   5.0  12.50\n",
              "2                      Honda Jazz V     Chennai  2011  ...   88.7 bhp   5.0   4.50\n",
              "3                 Maruti Ertiga VDI     Chennai  2012  ...  88.76 bhp   7.0   6.00\n",
              "4   Audi A4 New 2.0 TDI Multitronic  Coimbatore  2013  ...  140.8 bhp   5.0  17.74\n",
              "\n",
              "[5 rows x 12 columns]"
            ]
          },
          "metadata": {
            "tags": []
          },
          "execution_count": 265
        }
      ]
    },
    {
      "cell_type": "markdown",
      "metadata": {
        "id": "hjuLlJQtMS5D",
        "colab_type": "text"
      },
      "source": [
        "## The Data-Preprocessing part"
      ]
    },
    {
      "cell_type": "code",
      "metadata": {
        "id": "NdpdnnE_KbBn",
        "colab_type": "code",
        "outputId": "635b26cf-8af7-41cf-fb8f-fd47058971de",
        "colab": {
          "base_uri": "https://localhost:8080/",
          "height": 493
        }
      },
      "source": [
        "df1 = data_train[data_train.isna().any(axis=1)]\n",
        "df2 = data_test[data_test.isna().any(axis=1)]\n",
        "\n",
        "# Null present as string in the data \n",
        "data_test_null_string = data_test[data_test['Power'].str.contains('null' , na = True)]\n",
        "\n",
        "\n",
        "columns_to_be_filled_with_NaN = [\"Power\"]\n",
        "\n",
        "def fill_columns_with_NaN(columns_to_be_filled_with_NaN):\n",
        "    for i in range (len(columns_to_be_filled_with_NaN)):    \n",
        "        data_train[columns_to_be_filled_with_NaN[i]] = data_train[columns_to_be_filled_with_NaN[i]].replace(to_replace=\"[null]\" , value = np.NaN , regex = True)\n",
        "        data_test[columns_to_be_filled_with_NaN[i]] = data_test[columns_to_be_filled_with_NaN[i]].replace(to_replace=\"[null]\" , value = np.NaN , regex = True)\n",
        "\n",
        "fill_columns_with_NaN(columns_to_be_filled_with_NaN)\n",
        "\n",
        "empty_cols_list_train = [\"Mileage\",\"Engine\",\"Power\",\"Seats\"] \n",
        "empty_cols_list_test = [\"Engine\",\"Power\",\"Seats\"] \n",
        "\n",
        "\n",
        "def my_Nan_filling_function(dataset , empty_cols_list):\n",
        "    for i in range(len(empty_cols_list)):\n",
        "        \n",
        "        # Replacing Nan with mean values\n",
        "        # dataset[empty_cols_list[i]].fillna(dataset[empty_cols_list[i]].mean , inplace = True)\n",
        "        \n",
        "        # Replacing Nan with mode values\n",
        "        dataset[empty_cols_list[i]].fillna(dataset[empty_cols_list[i]].mode()[0] , inplace = True)\n",
        "\n",
        "    print(dataset)\n",
        "\n",
        "my_Nan_filling_function(data_train , empty_cols_list_train)\n",
        "\n",
        "my_Nan_filling_function(data_test , empty_cols_list_test)\n",
        "\n",
        "list_of_columns_with_units = [\"Mileage\" , \"Engine\" , \"Power\"] \n",
        "\n",
        "def remove_units_from_columns(list_of_columns_with_units):\n",
        "    for i in range(len(list_of_columns_with_units)):\n",
        "        data_train[list_of_columns_with_units[i]] = data_train[list_of_columns_with_units[i]].str.split(\" \" , expand = True)\n",
        "        data_train[list_of_columns_with_units[i]] = data_train[list_of_columns_with_units[i]].astype(\"float\")\n",
        "        data_test[list_of_columns_with_units[i]] = data_test[list_of_columns_with_units[i]].str.split(\" \" , expand = True)\n",
        "        data_test[list_of_columns_with_units[i]] = data_test[list_of_columns_with_units[i]].astype(\"float\")\n",
        "\n",
        "remove_units_from_columns(list_of_columns_with_units)\n",
        "\n",
        "data_train[\"Year\"] = data_train[\"Year\"].astype(\"int32\" , copy = False)\n",
        "data_test[\"Year\"] = data_test[\"Year\"].astype(\"int32\" , copy = False)"
      ],
      "execution_count": 266,
      "outputs": [
        {
          "output_type": "stream",
          "text": [
            "                                  Name    Location  ...  Seats  Price\n",
            "0               Maruti Wagon R LXI CNG      Mumbai  ...    5.0   1.75\n",
            "1     Hyundai Creta 1.6 CRDi SX Option        Pune  ...    5.0  12.50\n",
            "2                         Honda Jazz V     Chennai  ...    5.0   4.50\n",
            "3                    Maruti Ertiga VDI     Chennai  ...    7.0   6.00\n",
            "4      Audi A4 New 2.0 TDI Multitronic  Coimbatore  ...    5.0  17.74\n",
            "...                                ...         ...  ...    ...    ...\n",
            "6014                  Maruti Swift VDI       Delhi  ...    5.0   4.75\n",
            "6015          Hyundai Xcent 1.1 CRDi S      Jaipur  ...    5.0   4.00\n",
            "6016             Mahindra Xylo D4 BSIV      Jaipur  ...    8.0   2.90\n",
            "6017                Maruti Wagon R VXI     Kolkata  ...    5.0   2.65\n",
            "6018             Chevrolet Beat Diesel   Hyderabad  ...    5.0   2.50\n",
            "\n",
            "[6019 rows x 12 columns]\n",
            "                                                   Name  ... Seats\n",
            "0                               Maruti Alto K10 LXI CNG  ...   4.0\n",
            "1                         Maruti Alto 800 2016-2019 LXI  ...   5.0\n",
            "2             Toyota Innova Crysta Touring Sport 2.4 MT  ...   7.0\n",
            "3                                  Toyota Etios Liva GD  ...   5.0\n",
            "4                                     Hyundai i20 Magna  ...   5.0\n",
            "...                                                 ...  ...   ...\n",
            "1229                  Volkswagen Vento Diesel Trendline  ...   5.0\n",
            "1230                             Volkswagen Polo GT TSI  ...   5.0\n",
            "1231                             Nissan Micra Diesel XV  ...   5.0\n",
            "1232                             Volkswagen Polo GT TSI  ...   5.0\n",
            "1233  Mercedes-Benz E-Class 2009-2013 E 220 CDI Avan...  ...   5.0\n",
            "\n",
            "[1234 rows x 11 columns]\n"
          ],
          "name": "stdout"
        }
      ]
    },
    {
      "cell_type": "markdown",
      "metadata": {
        "id": "zFcI62aCLgWB",
        "colab_type": "text"
      },
      "source": [
        "## Removing the outliers part"
      ]
    },
    {
      "cell_type": "code",
      "metadata": {
        "id": "5ERJ0YO5Msvs",
        "colab_type": "code",
        "outputId": "50a7e486-1601-4b66-d71f-fdcb4a620d34",
        "colab": {
          "base_uri": "https://localhost:8080/",
          "height": 85
        }
      },
      "source": [
        "def get_numerical_features(dataset):\n",
        "    df = dataset\n",
        "    df_numerics_only = df.select_dtypes(include=np.number)\n",
        "    # print(df_numerics_only)\n",
        "    colnames_numerics_only = df.select_dtypes(include=np.number).columns.tolist()\n",
        "    # print(colnames_numerics_only)\n",
        "    return colnames_numerics_only\n",
        "\n",
        "df_train = get_numerical_features(data_train)\n",
        "print(df_train)\n",
        "\n",
        "df_test = get_numerical_features(data_test)\n",
        "print(df_test)\n",
        "\n",
        "print(data_train.shape)\n",
        "\n",
        "remove_train_outliers_list = df_train\n",
        "remove_test_outliers_list = df_test\n",
        "\n",
        "def remove_outliers(dataset , remove_outliers_list):\n",
        "    # Iterating across the list of numerical categories for which the outliers have to be removed\n",
        "    for i in range(len(remove_outliers_list)):\n",
        "        # Change the value of the outlier criterion for better results\n",
        "        dataset.drop(dataset[dataset[remove_outliers_list[i]] >=( 0.99999 * dataset[remove_outliers_list[i]].max()) ].index, inplace = True )\n",
        "\n",
        "remove_outliers(data_train , remove_train_outliers_list)\n",
        "remove_outliers(data_test , remove_test_outliers_list)\n",
        "\n",
        "print(data_train.shape)"
      ],
      "execution_count": 267,
      "outputs": [
        {
          "output_type": "stream",
          "text": [
            "['Year', 'Kilometers_Driven', 'Mileage', 'Engine', 'Power', 'Seats', 'Price']\n",
            "['Year', 'Kilometers_Driven', 'Mileage', 'Engine', 'Power', 'Seats']\n",
            "(6019, 12)\n",
            "(5903, 12)\n"
          ],
          "name": "stdout"
        }
      ]
    },
    {
      "cell_type": "markdown",
      "metadata": {
        "id": "v3KNoT53NIPb",
        "colab_type": "text"
      },
      "source": [
        "## Skipping the EDA part (in the other notebook)"
      ]
    },
    {
      "cell_type": "code",
      "metadata": {
        "id": "GzQXR_U0AOqr",
        "colab_type": "code",
        "outputId": "7d4a255e-6a7f-423e-cf78-723c664f653f",
        "colab": {
          "base_uri": "https://localhost:8080/",
          "height": 34
        }
      },
      "source": [
        "\"\"\"\n",
        " Summary of some of the vairables\n",
        "\"\"\"\n",
        "\n",
        "'''Actual train data '''\n",
        "# data_train  \n",
        "'''Actual train data xlsx file '''\n",
        "# data_train_path   \n",
        "'''Actual train data csv file '''\n",
        "# data_train_csv_path \n",
        "''' Only Numerical Features of train data  '''\n",
        "# df_train  \n",
        "\n",
        "\n",
        "'''Actual test data '''\n",
        "# data_test  \n",
        "'''Actual test data xlsx file '''\n",
        "# data_test_path   \n",
        "'''Actual test data csv file '''\n",
        "# data_test_csv_path \n",
        "''' Only Numerical Features of test data  '''\n",
        "# df_test  \n"
      ],
      "execution_count": 268,
      "outputs": [
        {
          "output_type": "execute_result",
          "data": {
            "text/plain": [
              "' Only Numerical Features of test data  '"
            ]
          },
          "metadata": {
            "tags": []
          },
          "execution_count": 268
        }
      ]
    },
    {
      "cell_type": "markdown",
      "metadata": {
        "id": "5eDL4KXYoHJM",
        "colab_type": "text"
      },
      "source": [
        "# Feature Engineering and Feature Selection"
      ]
    },
    {
      "cell_type": "markdown",
      "metadata": {
        "id": "-5wre6khoHMG",
        "colab_type": "text"
      },
      "source": [
        "## A. Feature Selection with Filtering Methods\n",
        "\n",
        "- Univarite -> Fisher Score , Mutual Information Gain , Variance , etc.\n",
        "- Multivariate -> Pearson Correlation"
      ]
    },
    {
      "cell_type": "markdown",
      "metadata": {
        "id": "zNFf_a5AoHPF",
        "colab_type": "text"
      },
      "source": [
        "### Univariate Feature Selection\n",
        "\n",
        "- Constant, Quasi-Constant and Duplicate Feature Removal\n"
      ]
    },
    {
      "cell_type": "code",
      "metadata": {
        "id": "9TSqTlcCoHR7",
        "colab_type": "code",
        "colab": {}
      },
      "source": [
        "import pandas as pd\n",
        "import matplotlib.pyplot as plt\n",
        "%matplotlib inline\n",
        "import seaborn as sns\n",
        "\n",
        "from sklearn.model_selection import train_test_split\n",
        "from sklearn.ensemble import RandomForestClassifier,RandomForestRegressor\n",
        "from sklearn.metrics import accuracy_score\n",
        "from sklearn.feature_selection import VarianceThreshold"
      ],
      "execution_count": 0,
      "outputs": []
    },
    {
      "cell_type": "code",
      "metadata": {
        "id": "6FIwGJtroHVM",
        "colab_type": "code",
        "outputId": "9818053c-cc89-4184-db77-d57f6f27b330",
        "colab": {
          "base_uri": "https://localhost:8080/",
          "height": 394
        }
      },
      "source": [
        "data_train.head()"
      ],
      "execution_count": 270,
      "outputs": [
        {
          "output_type": "execute_result",
          "data": {
            "text/html": [
              "<div>\n",
              "<style scoped>\n",
              "    .dataframe tbody tr th:only-of-type {\n",
              "        vertical-align: middle;\n",
              "    }\n",
              "\n",
              "    .dataframe tbody tr th {\n",
              "        vertical-align: top;\n",
              "    }\n",
              "\n",
              "    .dataframe thead th {\n",
              "        text-align: right;\n",
              "    }\n",
              "</style>\n",
              "<table border=\"1\" class=\"dataframe\">\n",
              "  <thead>\n",
              "    <tr style=\"text-align: right;\">\n",
              "      <th></th>\n",
              "      <th>Name</th>\n",
              "      <th>Location</th>\n",
              "      <th>Year</th>\n",
              "      <th>Kilometers_Driven</th>\n",
              "      <th>Fuel_Type</th>\n",
              "      <th>Transmission</th>\n",
              "      <th>Owner_Type</th>\n",
              "      <th>Mileage</th>\n",
              "      <th>Engine</th>\n",
              "      <th>Power</th>\n",
              "      <th>Seats</th>\n",
              "      <th>Price</th>\n",
              "    </tr>\n",
              "  </thead>\n",
              "  <tbody>\n",
              "    <tr>\n",
              "      <th>0</th>\n",
              "      <td>Maruti Wagon R LXI CNG</td>\n",
              "      <td>Mumbai</td>\n",
              "      <td>2010</td>\n",
              "      <td>72000</td>\n",
              "      <td>CNG</td>\n",
              "      <td>Manual</td>\n",
              "      <td>First</td>\n",
              "      <td>26.60</td>\n",
              "      <td>998.0</td>\n",
              "      <td>58.16</td>\n",
              "      <td>5.0</td>\n",
              "      <td>1.75</td>\n",
              "    </tr>\n",
              "    <tr>\n",
              "      <th>1</th>\n",
              "      <td>Hyundai Creta 1.6 CRDi SX Option</td>\n",
              "      <td>Pune</td>\n",
              "      <td>2015</td>\n",
              "      <td>41000</td>\n",
              "      <td>Diesel</td>\n",
              "      <td>Manual</td>\n",
              "      <td>First</td>\n",
              "      <td>19.67</td>\n",
              "      <td>1582.0</td>\n",
              "      <td>126.20</td>\n",
              "      <td>5.0</td>\n",
              "      <td>12.50</td>\n",
              "    </tr>\n",
              "    <tr>\n",
              "      <th>2</th>\n",
              "      <td>Honda Jazz V</td>\n",
              "      <td>Chennai</td>\n",
              "      <td>2011</td>\n",
              "      <td>46000</td>\n",
              "      <td>Petrol</td>\n",
              "      <td>Manual</td>\n",
              "      <td>First</td>\n",
              "      <td>18.20</td>\n",
              "      <td>1199.0</td>\n",
              "      <td>88.70</td>\n",
              "      <td>5.0</td>\n",
              "      <td>4.50</td>\n",
              "    </tr>\n",
              "    <tr>\n",
              "      <th>3</th>\n",
              "      <td>Maruti Ertiga VDI</td>\n",
              "      <td>Chennai</td>\n",
              "      <td>2012</td>\n",
              "      <td>87000</td>\n",
              "      <td>Diesel</td>\n",
              "      <td>Manual</td>\n",
              "      <td>First</td>\n",
              "      <td>20.77</td>\n",
              "      <td>1248.0</td>\n",
              "      <td>88.76</td>\n",
              "      <td>7.0</td>\n",
              "      <td>6.00</td>\n",
              "    </tr>\n",
              "    <tr>\n",
              "      <th>4</th>\n",
              "      <td>Audi A4 New 2.0 TDI Multitronic</td>\n",
              "      <td>Coimbatore</td>\n",
              "      <td>2013</td>\n",
              "      <td>40670</td>\n",
              "      <td>Diesel</td>\n",
              "      <td>Automatic</td>\n",
              "      <td>Second</td>\n",
              "      <td>15.20</td>\n",
              "      <td>1968.0</td>\n",
              "      <td>140.80</td>\n",
              "      <td>5.0</td>\n",
              "      <td>17.74</td>\n",
              "    </tr>\n",
              "  </tbody>\n",
              "</table>\n",
              "</div>"
            ],
            "text/plain": [
              "                               Name    Location  Year  ...   Power Seats  Price\n",
              "0            Maruti Wagon R LXI CNG      Mumbai  2010  ...   58.16   5.0   1.75\n",
              "1  Hyundai Creta 1.6 CRDi SX Option        Pune  2015  ...  126.20   5.0  12.50\n",
              "2                      Honda Jazz V     Chennai  2011  ...   88.70   5.0   4.50\n",
              "3                 Maruti Ertiga VDI     Chennai  2012  ...   88.76   7.0   6.00\n",
              "4   Audi A4 New 2.0 TDI Multitronic  Coimbatore  2013  ...  140.80   5.0  17.74\n",
              "\n",
              "[5 rows x 12 columns]"
            ]
          },
          "metadata": {
            "tags": []
          },
          "execution_count": 270
        }
      ]
    },
    {
      "cell_type": "code",
      "metadata": {
        "id": "DZy6dfdYoHX2",
        "colab_type": "code",
        "outputId": "62b862e3-8aad-4bbf-9ede-9b35f8a49e90",
        "colab": {
          "base_uri": "https://localhost:8080/",
          "height": 34
        }
      },
      "source": [
        "'''\n",
        "CONSTANT FEATURES REMOVAL\n",
        " Dropping Categorical variables Temporarily\n",
        " This is necessary for this particaular feature selection method\n",
        "'''\n",
        "X = data_train.drop([\"Name\",\"Location\",\"Fuel_Type\", \"Transmission\" , \"Owner_Type\" ,  \"Price\"] , axis = 1)\n",
        "y = data_train[\"Price\"]\n",
        "\n",
        "X.shape , y.shape"
      ],
      "execution_count": 271,
      "outputs": [
        {
          "output_type": "execute_result",
          "data": {
            "text/plain": [
              "((5903, 6), (5903,))"
            ]
          },
          "metadata": {
            "tags": []
          },
          "execution_count": 271
        }
      ]
    },
    {
      "cell_type": "code",
      "metadata": {
        "id": "0pu5AfIroHa6",
        "colab_type": "code",
        "outputId": "da7e27b1-b1e1-4381-9e98-eb49a2ea61ec",
        "colab": {
          "base_uri": "https://localhost:8080/",
          "height": 34
        }
      },
      "source": [
        "# Stratify doesn't work on Regression Problems\n",
        "X_train , X_test , y_train , y_test = train_test_split(X , y , test_size = 0.2 , random_state = 0 )\n",
        "X_train.shape , X_test.shape , y_train.shape , y_test.shape "
      ],
      "execution_count": 272,
      "outputs": [
        {
          "output_type": "execute_result",
          "data": {
            "text/plain": [
              "((4722, 6), (1181, 6), (4722,), (1181,))"
            ]
          },
          "metadata": {
            "tags": []
          },
          "execution_count": 272
        }
      ]
    },
    {
      "cell_type": "code",
      "metadata": {
        "id": "GwquC6uwoHeE",
        "colab_type": "code",
        "outputId": "1d4d1db4-dd5d-4182-a8c9-478511660eff",
        "colab": {
          "base_uri": "https://localhost:8080/",
          "height": 34
        }
      },
      "source": [
        "constant_filter = VarianceThreshold(threshold = 0 )\n",
        "constant_filter.fit(X_train)"
      ],
      "execution_count": 273,
      "outputs": [
        {
          "output_type": "execute_result",
          "data": {
            "text/plain": [
              "VarianceThreshold(threshold=0)"
            ]
          },
          "metadata": {
            "tags": []
          },
          "execution_count": 273
        }
      ]
    },
    {
      "cell_type": "code",
      "metadata": {
        "id": "L_psXVnnoHhR",
        "colab_type": "code",
        "outputId": "3a435210-ee32-4a3a-b422-703248187cce",
        "colab": {
          "base_uri": "https://localhost:8080/",
          "height": 34
        }
      },
      "source": [
        "# Removing the constant features\n",
        "constant_filter.get_support().sum()"
      ],
      "execution_count": 274,
      "outputs": [
        {
          "output_type": "execute_result",
          "data": {
            "text/plain": [
              "6"
            ]
          },
          "metadata": {
            "tags": []
          },
          "execution_count": 274
        }
      ]
    },
    {
      "cell_type": "code",
      "metadata": {
        "id": "JheXzgxQDfG2",
        "colab_type": "code",
        "outputId": "2171719d-c763-4d45-99d7-ff4604855a7a",
        "colab": {
          "base_uri": "https://localhost:8080/",
          "height": 34
        }
      },
      "source": [
        "# inverting the filter list\n",
        "constant_list = [not temp for temp in constant_filter.get_support()]\n",
        "print(constant_list)"
      ],
      "execution_count": 275,
      "outputs": [
        {
          "output_type": "stream",
          "text": [
            "[False, False, False, False, False, False]\n"
          ],
          "name": "stdout"
        }
      ]
    },
    {
      "cell_type": "code",
      "metadata": {
        "id": "KGFr4NeYDfKJ",
        "colab_type": "code",
        "outputId": "48b65749-1d91-4f64-92d9-d973336c7d33",
        "colab": {
          "base_uri": "https://localhost:8080/",
          "height": 34
        }
      },
      "source": [
        "# Printing the list of constant features\n",
        "X.columns[constant_list]"
      ],
      "execution_count": 276,
      "outputs": [
        {
          "output_type": "execute_result",
          "data": {
            "text/plain": [
              "Index([], dtype='object')"
            ]
          },
          "metadata": {
            "tags": []
          },
          "execution_count": 276
        }
      ]
    },
    {
      "cell_type": "code",
      "metadata": {
        "id": "qOI9tf-8DfNP",
        "colab_type": "code",
        "colab": {}
      },
      "source": [
        "'''\n",
        " Transforming the dataset into non-constant feaure space\n",
        " Bascially removing the constant features\n",
        " done to prevent overfitting of the model\n",
        " '''\n",
        "X_train_filter = constant_filter.transform(X_train)\n",
        "X_test_filter = constant_filter.transform(X_test)"
      ],
      "execution_count": 0,
      "outputs": []
    },
    {
      "cell_type": "code",
      "metadata": {
        "id": "PFO25sXUDfQQ",
        "colab_type": "code",
        "outputId": "2c46c641-e365-4dca-e82c-53ab2e6d1fea",
        "colab": {
          "base_uri": "https://localhost:8080/",
          "height": 34
        }
      },
      "source": [
        "X_train_filter.shape, X_test_filter.shape, X_train.shape , X_test.shape"
      ],
      "execution_count": 278,
      "outputs": [
        {
          "output_type": "execute_result",
          "data": {
            "text/plain": [
              "((4722, 6), (1181, 6), (4722, 6), (1181, 6))"
            ]
          },
          "metadata": {
            "tags": []
          },
          "execution_count": 278
        }
      ]
    },
    {
      "cell_type": "code",
      "metadata": {
        "id": "pRjzOk3CDfTT",
        "colab_type": "code",
        "colab": {}
      },
      "source": [
        "'''\n",
        "QUASI CONSTANT FEATURE REMOVAL\n",
        "Removing feature almost constant or somewhat near to constant(Quasi Constant)\n",
        "'''\n",
        "# This method removes features with variation below a certain cutoff.\n",
        "quasi_constant_filter = VarianceThreshold(threshold = 0.01)"
      ],
      "execution_count": 0,
      "outputs": []
    },
    {
      "cell_type": "code",
      "metadata": {
        "id": "qjQltcmrDfWe",
        "colab_type": "code",
        "outputId": "3c55e46c-9aac-4ccb-e5b1-eb729df081ef",
        "colab": {
          "base_uri": "https://localhost:8080/",
          "height": 34
        }
      },
      "source": [
        "quasi_constant_filter.fit(X_train_filter)"
      ],
      "execution_count": 280,
      "outputs": [
        {
          "output_type": "execute_result",
          "data": {
            "text/plain": [
              "VarianceThreshold(threshold=0.01)"
            ]
          },
          "metadata": {
            "tags": []
          },
          "execution_count": 280
        }
      ]
    },
    {
      "cell_type": "code",
      "metadata": {
        "id": "sg-CybF9DfZX",
        "colab_type": "code",
        "outputId": "8a95d0ff-3af0-4817-d852-7ec2773967d8",
        "colab": {
          "base_uri": "https://localhost:8080/",
          "height": 34
        }
      },
      "source": [
        "quasi_constant_filter.get_support().sum()"
      ],
      "execution_count": 281,
      "outputs": [
        {
          "output_type": "execute_result",
          "data": {
            "text/plain": [
              "6"
            ]
          },
          "metadata": {
            "tags": []
          },
          "execution_count": 281
        }
      ]
    },
    {
      "cell_type": "code",
      "metadata": {
        "id": "fdU6emQfDfck",
        "colab_type": "code",
        "outputId": "1b1cc641-37ce-42d0-c9d4-a9779825c0b5",
        "colab": {
          "base_uri": "https://localhost:8080/",
          "height": 34
        }
      },
      "source": [
        "X_train_quasi_filter = quasi_constant_filter.transform(X_train_filter)\n",
        "X_test_quasi_filter = quasi_constant_filter.transform(X_test_filter)\n",
        "X_train.shape,X_test.shape,X_train_filter.shape,X_test_filter.shape, X_train_quasi_filter.shape,X_test_quasi_filter.shape"
      ],
      "execution_count": 282,
      "outputs": [
        {
          "output_type": "execute_result",
          "data": {
            "text/plain": [
              "((4722, 6), (1181, 6), (4722, 6), (1181, 6), (4722, 6), (1181, 6))"
            ]
          },
          "metadata": {
            "tags": []
          },
          "execution_count": 282
        }
      ]
    },
    {
      "cell_type": "code",
      "metadata": {
        "id": "Dqj7yNoBDffn",
        "colab_type": "code",
        "outputId": "d632d54b-62a5-47f7-b50a-a009fee47f51",
        "colab": {
          "base_uri": "https://localhost:8080/",
          "height": 34
        }
      },
      "source": [
        "'''\n",
        "DUPLICATE FEATURE REMOVAL\n",
        "'''\n",
        "X_train_T = X_train_quasi_filter.T\n",
        "X_test_T = X_test_quasi_filter.T\n",
        "type(X_train_T),type(X_test_T)"
      ],
      "execution_count": 283,
      "outputs": [
        {
          "output_type": "execute_result",
          "data": {
            "text/plain": [
              "(numpy.ndarray, numpy.ndarray)"
            ]
          },
          "metadata": {
            "tags": []
          },
          "execution_count": 283
        }
      ]
    },
    {
      "cell_type": "code",
      "metadata": {
        "id": "QtpF6CrxDfij",
        "colab_type": "code",
        "outputId": "69aedb5f-42c0-4e78-96f9-87e6cd863907",
        "colab": {
          "base_uri": "https://localhost:8080/",
          "height": 34
        }
      },
      "source": [
        "# Changing it back to Pandas Dataframe\n",
        "X_train_T = pd.DataFrame(X_train_T)\n",
        "X_test_T = pd.DataFrame(X_test_T)\n",
        "X_train_T.shape , X_test_T.shape"
      ],
      "execution_count": 284,
      "outputs": [
        {
          "output_type": "execute_result",
          "data": {
            "text/plain": [
              "((6, 4722), (6, 1181))"
            ]
          },
          "metadata": {
            "tags": []
          },
          "execution_count": 284
        }
      ]
    },
    {
      "cell_type": "code",
      "metadata": {
        "id": "jX5QNpfqDflW",
        "colab_type": "code",
        "outputId": "30e6b50a-f34c-49dc-fd4f-d7eaf1b83157",
        "colab": {
          "base_uri": "https://localhost:8080/",
          "height": 34
        }
      },
      "source": [
        "X_train_T.duplicated().sum()"
      ],
      "execution_count": 285,
      "outputs": [
        {
          "output_type": "execute_result",
          "data": {
            "text/plain": [
              "0"
            ]
          },
          "metadata": {
            "tags": []
          },
          "execution_count": 285
        }
      ]
    },
    {
      "cell_type": "code",
      "metadata": {
        "id": "C5LvEf_lDfn9",
        "colab_type": "code",
        "outputId": "0668db0d-0309-4ff4-9206-af1253c7918f",
        "colab": {
          "base_uri": "https://localhost:8080/",
          "height": 136
        }
      },
      "source": [
        "# Finding the duplicated features\n",
        "duplicated_features = X_train_T.duplicated()\n",
        "print(duplicated_features)"
      ],
      "execution_count": 286,
      "outputs": [
        {
          "output_type": "stream",
          "text": [
            "0    False\n",
            "1    False\n",
            "2    False\n",
            "3    False\n",
            "4    False\n",
            "5    False\n",
            "dtype: bool\n"
          ],
          "name": "stdout"
        }
      ]
    },
    {
      "cell_type": "code",
      "metadata": {
        "id": "dmIcXioYGNgF",
        "colab_type": "code",
        "outputId": "53442f56-af3c-460f-b550-aff50d0bb465",
        "colab": {
          "base_uri": "https://localhost:8080/",
          "height": 34
        }
      },
      "source": [
        "# Inverting the dupkicated list to find the features to keep\n",
        "features_to_keep = [not index for index in duplicated_features]\n",
        "print(features_to_keep)"
      ],
      "execution_count": 287,
      "outputs": [
        {
          "output_type": "stream",
          "text": [
            "[True, True, True, True, True, True]\n"
          ],
          "name": "stdout"
        }
      ]
    },
    {
      "cell_type": "code",
      "metadata": {
        "id": "t0QyyI8YGNja",
        "colab_type": "code",
        "outputId": "17210a7b-bd1c-4f99-af88-19ea115354d5",
        "colab": {
          "base_uri": "https://localhost:8080/",
          "height": 34
        }
      },
      "source": [
        "# After removing constant , quasi-constant and duplicate features\n",
        "X_train_unique = X_train_T[features_to_keep].T\n",
        "X_test_unique = X_test_T[features_to_keep].T\n",
        "X_train_unique.shape,X_train.shape"
      ],
      "execution_count": 288,
      "outputs": [
        {
          "output_type": "execute_result",
          "data": {
            "text/plain": [
              "((4722, 6), (4722, 6))"
            ]
          },
          "metadata": {
            "tags": []
          },
          "execution_count": 288
        }
      ]
    },
    {
      "cell_type": "code",
      "metadata": {
        "id": "5sr7c7YbGNmU",
        "colab_type": "code",
        "outputId": "d8a8b4c5-0406-482a-ec42-4fa4cb1aef52",
        "colab": {
          "base_uri": "https://localhost:8080/",
          "height": 34
        }
      },
      "source": [
        "'''\n",
        "UNFORTUNATELY,there are:\n",
        "0 constant\n",
        "0 quasi-constant \n",
        "0 duplicate features\n",
        "'''"
      ],
      "execution_count": 289,
      "outputs": [
        {
          "output_type": "execute_result",
          "data": {
            "text/plain": [
              "'\\nUNFORTUNATELY,there are:\\n0 constant\\n0 quasi-constant \\n0 duplicate features\\n'"
            ]
          },
          "metadata": {
            "tags": []
          },
          "execution_count": 289
        }
      ]
    },
    {
      "cell_type": "code",
      "metadata": {
        "id": "x1sggTveZGg7",
        "colab_type": "code",
        "colab": {}
      },
      "source": [
        "import sklearn\n",
        "from sklearn import linear_model\n",
        "from sklearn.linear_model import LinearRegression\n",
        "from sklearn.metrics import accuracy_score\n",
        "from sklearn.metrics import mean_absolute_error , mean_squared_error , r2_score"
      ],
      "execution_count": 0,
      "outputs": []
    },
    {
      "cell_type": "code",
      "metadata": {
        "id": "dI5I-P2lpDln",
        "colab_type": "code",
        "outputId": "47bf89c4-6e0f-406b-f361-4243b1b66002",
        "colab": {
          "base_uri": "https://localhost:8080/",
          "height": 419
        }
      },
      "source": [
        "X_train"
      ],
      "execution_count": 291,
      "outputs": [
        {
          "output_type": "execute_result",
          "data": {
            "text/html": [
              "<div>\n",
              "<style scoped>\n",
              "    .dataframe tbody tr th:only-of-type {\n",
              "        vertical-align: middle;\n",
              "    }\n",
              "\n",
              "    .dataframe tbody tr th {\n",
              "        vertical-align: top;\n",
              "    }\n",
              "\n",
              "    .dataframe thead th {\n",
              "        text-align: right;\n",
              "    }\n",
              "</style>\n",
              "<table border=\"1\" class=\"dataframe\">\n",
              "  <thead>\n",
              "    <tr style=\"text-align: right;\">\n",
              "      <th></th>\n",
              "      <th>Year</th>\n",
              "      <th>Kilometers_Driven</th>\n",
              "      <th>Mileage</th>\n",
              "      <th>Engine</th>\n",
              "      <th>Power</th>\n",
              "      <th>Seats</th>\n",
              "    </tr>\n",
              "  </thead>\n",
              "  <tbody>\n",
              "    <tr>\n",
              "      <th>1862</th>\n",
              "      <td>2011</td>\n",
              "      <td>68000</td>\n",
              "      <td>17.00</td>\n",
              "      <td>1497.0</td>\n",
              "      <td>118.00</td>\n",
              "      <td>5.0</td>\n",
              "    </tr>\n",
              "    <tr>\n",
              "      <th>5181</th>\n",
              "      <td>2015</td>\n",
              "      <td>39208</td>\n",
              "      <td>17.57</td>\n",
              "      <td>1193.0</td>\n",
              "      <td>88.70</td>\n",
              "      <td>5.0</td>\n",
              "    </tr>\n",
              "    <tr>\n",
              "      <th>5861</th>\n",
              "      <td>2007</td>\n",
              "      <td>79000</td>\n",
              "      <td>17.00</td>\n",
              "      <td>1086.0</td>\n",
              "      <td>74.00</td>\n",
              "      <td>5.0</td>\n",
              "    </tr>\n",
              "    <tr>\n",
              "      <th>4805</th>\n",
              "      <td>2012</td>\n",
              "      <td>47629</td>\n",
              "      <td>15.10</td>\n",
              "      <td>2179.0</td>\n",
              "      <td>140.00</td>\n",
              "      <td>7.0</td>\n",
              "    </tr>\n",
              "    <tr>\n",
              "      <th>1477</th>\n",
              "      <td>2009</td>\n",
              "      <td>42000</td>\n",
              "      <td>13.00</td>\n",
              "      <td>2987.0</td>\n",
              "      <td>210.00</td>\n",
              "      <td>5.0</td>\n",
              "    </tr>\n",
              "    <tr>\n",
              "      <th>...</th>\n",
              "      <td>...</td>\n",
              "      <td>...</td>\n",
              "      <td>...</td>\n",
              "      <td>...</td>\n",
              "      <td>...</td>\n",
              "      <td>...</td>\n",
              "    </tr>\n",
              "    <tr>\n",
              "      <th>5023</th>\n",
              "      <td>2013</td>\n",
              "      <td>30852</td>\n",
              "      <td>22.74</td>\n",
              "      <td>796.0</td>\n",
              "      <td>47.30</td>\n",
              "      <td>5.0</td>\n",
              "    </tr>\n",
              "    <tr>\n",
              "      <th>3330</th>\n",
              "      <td>2013</td>\n",
              "      <td>43000</td>\n",
              "      <td>20.50</td>\n",
              "      <td>1598.0</td>\n",
              "      <td>105.00</td>\n",
              "      <td>5.0</td>\n",
              "    </tr>\n",
              "    <tr>\n",
              "      <th>1687</th>\n",
              "      <td>2017</td>\n",
              "      <td>47357</td>\n",
              "      <td>18.49</td>\n",
              "      <td>1493.0</td>\n",
              "      <td>100.00</td>\n",
              "      <td>7.0</td>\n",
              "    </tr>\n",
              "    <tr>\n",
              "      <th>2657</th>\n",
              "      <td>2012</td>\n",
              "      <td>60000</td>\n",
              "      <td>19.81</td>\n",
              "      <td>1086.0</td>\n",
              "      <td>68.05</td>\n",
              "      <td>5.0</td>\n",
              "    </tr>\n",
              "    <tr>\n",
              "      <th>2783</th>\n",
              "      <td>2014</td>\n",
              "      <td>62497</td>\n",
              "      <td>15.80</td>\n",
              "      <td>1499.0</td>\n",
              "      <td>110.00</td>\n",
              "      <td>5.0</td>\n",
              "    </tr>\n",
              "  </tbody>\n",
              "</table>\n",
              "<p>4722 rows × 6 columns</p>\n",
              "</div>"
            ],
            "text/plain": [
              "      Year  Kilometers_Driven  Mileage  Engine   Power  Seats\n",
              "1862  2011              68000    17.00  1497.0  118.00    5.0\n",
              "5181  2015              39208    17.57  1193.0   88.70    5.0\n",
              "5861  2007              79000    17.00  1086.0   74.00    5.0\n",
              "4805  2012              47629    15.10  2179.0  140.00    7.0\n",
              "1477  2009              42000    13.00  2987.0  210.00    5.0\n",
              "...    ...                ...      ...     ...     ...    ...\n",
              "5023  2013              30852    22.74   796.0   47.30    5.0\n",
              "3330  2013              43000    20.50  1598.0  105.00    5.0\n",
              "1687  2017              47357    18.49  1493.0  100.00    7.0\n",
              "2657  2012              60000    19.81  1086.0   68.05    5.0\n",
              "2783  2014              62497    15.80  1499.0  110.00    5.0\n",
              "\n",
              "[4722 rows x 6 columns]"
            ]
          },
          "metadata": {
            "tags": []
          },
          "execution_count": 291
        }
      ]
    },
    {
      "cell_type": "code",
      "metadata": {
        "id": "rKqsRQlsGNpU",
        "colab_type": "code",
        "outputId": "098cc8a7-8988-4fc3-8e8c-ded57aca2ec3",
        "colab": {
          "base_uri": "https://localhost:8080/",
          "height": 357
        }
      },
      "source": [
        "'''\n",
        "This is a regression problem NOT classification\n",
        "'''\n",
        "\n",
        "# def run_random_Forest_Classifiers(X_train,X_test , y_train , y_test):\n",
        "#     print(\"The Results of Random Forest Classifier Model\")\n",
        "#     clf = RandomForestClassifier(n_estimators= 100 , random_state = 0 , n_jobs = -1)\n",
        "#     clf.fit(X_train , y_train)\n",
        "#     y_pred = clf.predict(X_test)\n",
        "#     print(\"Accuracy based on Random Forest Classifier on the testing set:\")\n",
        "#     print(accuracy_score(y_test , y_pred))\n",
        "#     print()\n",
        "\n",
        "'''\n",
        "Random Forest Regressor to be checked later\n",
        "'''\n",
        "# def run_random_Forest_Regressor(X_train,X_test , y_train , y_test):\n",
        "#     print(\"The Results of Random Forest Regressor Model\")\n",
        "#     reg = RandomForestRegressor(n_estimators= 100 , random_state = 0 , n_jobs = -1)\n",
        "#     reg.fit(X_train , y_train)\n",
        "\n",
        "#     # X_train= X_train.reshape(-1, 1)\n",
        "#     # y_train= y_train.reshape(-1, 1)\n",
        "#     # X_test = X_test.reshape(-1, 1)\n",
        "\n",
        "#     y_pred = reg.predict([[X_test]])\n",
        "#     print(\"Accuracy based on Random Forest Regressor on the testing set:\")\n",
        "#     print(reg.score(y_test , y_pred))\n",
        "#     print()\n",
        "\n",
        "def run_Linear_Regression(X_train, X_test, y_train , y_test):\n",
        "    print(\"The Results of Linear Regression Model\")\n",
        "    model = LinearRegression()\n",
        "    model.fit(X_train, y_train)\n",
        "    y_predict = model.predict(X_test)\n",
        "    print(\"The R2 score is:\" , r2_score(y_test, y_predict))\n",
        "    print(\"The RMSE is:\" , np.sqrt(mean_squared_error(y_test , y_predict)))\n",
        "    print(\"The Standard deviation of y is \",np.std(y))\n",
        "    print()\n",
        "\n",
        "# %%time\n",
        "run_Linear_Regression(X_train , X_test, y_train , y_test)\n",
        "# %%time\n",
        "run_Linear_Regression(X_train_filter , X_test_filter, y_train , y_test)\n",
        "# %%time\n",
        "run_Linear_Regression(X_train_quasi_filter , X_test_quasi_filter, y_train , y_test)\n",
        "# %%time\n",
        "run_Linear_Regression(X_train_unique , X_test_unique, y_train , y_test)\n",
        "\n",
        "# # %%time\n",
        "# run_random_Forest_Regressor(X_train , X_test, y_train , y_test)\n",
        "# # %%time\n",
        "# run_random_Forest_Regressor(X_train_filter , X_test_filter, y_train , y_test)\n",
        "# # %%time\n",
        "# run_random_Forest_Regressor(X_train_quasi_filter , X_test_quasi_filter, y_train , y_test)\n",
        "# # %%time\n",
        "# run_random_Forest_Regressor(X_train_unique , X_test_unique, y_train , y_test)"
      ],
      "execution_count": 292,
      "outputs": [
        {
          "output_type": "stream",
          "text": [
            "The Results of Linear Regression Model\n",
            "The R2 score is: 0.6943010059050609\n",
            "The RMSE is: 5.761520716911194\n",
            "The Standard deviation of y is  10.631763524207654\n",
            "\n",
            "The Results of Linear Regression Model\n",
            "The R2 score is: 0.6943010059050609\n",
            "The RMSE is: 5.761520716911194\n",
            "The Standard deviation of y is  10.631763524207654\n",
            "\n",
            "The Results of Linear Regression Model\n",
            "The R2 score is: 0.6943010059050609\n",
            "The RMSE is: 5.761520716911194\n",
            "The Standard deviation of y is  10.631763524207654\n",
            "\n",
            "The Results of Linear Regression Model\n",
            "The R2 score is: 0.6943010059050609\n",
            "The RMSE is: 5.761520716911194\n",
            "The Standard deviation of y is  10.631763524207654\n",
            "\n"
          ],
          "name": "stdout"
        }
      ]
    },
    {
      "cell_type": "markdown",
      "metadata": {
        "colab_type": "text",
        "id": "JfP-PJevR_gQ"
      },
      "source": [
        "### Multivaraite Feature Selection\n",
        "\n",
        "- Correlation between the feature space and the output is desirable but correlation amongst features is not desirable\n",
        "\n",
        "- Correlated features are redundant and can lead to curse of dimensionality\n"
      ]
    },
    {
      "cell_type": "code",
      "metadata": {
        "id": "zK1qCSqoR-gT",
        "colab_type": "code",
        "colab": {}
      },
      "source": [
        "corrmat = X_train_unique.corr()"
      ],
      "execution_count": 0,
      "outputs": []
    },
    {
      "cell_type": "code",
      "metadata": {
        "id": "J3G7WA90R-je",
        "colab_type": "code",
        "outputId": "880b2219-6e9f-4783-86e7-b1591de6b564",
        "colab": {
          "base_uri": "https://localhost:8080/",
          "height": 506
        }
      },
      "source": [
        "plt.figure(figsize=(12,8))\n",
        "sns.heatmap(corrmat)"
      ],
      "execution_count": 294,
      "outputs": [
        {
          "output_type": "execute_result",
          "data": {
            "text/plain": [
              "<matplotlib.axes._subplots.AxesSubplot at 0x7f155b895898>"
            ]
          },
          "metadata": {
            "tags": []
          },
          "execution_count": 294
        },
        {
          "output_type": "display_data",
          "data": {
            "image/png": "[encoded data removed]",
            "text/plain": [
              "<Figure size 864x576 with 2 Axes>"
            ]
          },
          "metadata": {
            "tags": [],
            "needs_background": "light"
          }
        }
      ]
    },
    {
      "cell_type": "code",
      "metadata": {
        "id": "H4x1DQD8R-vF",
        "colab_type": "code",
        "outputId": "18c94f91-bf64-42cc-bbcb-e85f3d65631e",
        "colab": {
          "base_uri": "https://localhost:8080/",
          "height": 34
        }
      },
      "source": [
        "def get_correlation(data, threshold):\n",
        "    corr_col = set()\n",
        "    corrmat = data.corr()\n",
        "    for i in range(len(corrmat.columns)):\n",
        "        for j in range(i):\n",
        "            if abs(corrmat.iloc[i,j]) > threshold:\n",
        "                colname = corrmat.columns[i]\n",
        "                corr_col.add(colname)\n",
        "    return corr_col\n",
        "\n",
        "corr_features = get_correlation(X_train_unique , 0.85)\n",
        "print(corr_features)"
      ],
      "execution_count": 295,
      "outputs": [
        {
          "output_type": "stream",
          "text": [
            "{4}\n"
          ],
          "name": "stdout"
        }
      ]
    },
    {
      "cell_type": "code",
      "metadata": {
        "id": "Uanq-3z-R-yK",
        "colab_type": "code",
        "outputId": "5c937b9f-6b62-45db-91f7-f2c33d3e3d8a",
        "colab": {
          "base_uri": "https://localhost:8080/",
          "height": 34
        }
      },
      "source": [
        "len(corr_features)"
      ],
      "execution_count": 296,
      "outputs": [
        {
          "output_type": "execute_result",
          "data": {
            "text/plain": [
              "1"
            ]
          },
          "metadata": {
            "tags": []
          },
          "execution_count": 296
        }
      ]
    },
    {
      "cell_type": "code",
      "metadata": {
        "id": "0iPJqW-VR-1L",
        "colab_type": "code",
        "outputId": "ba757ddf-2f24-4456-e4cb-74680f763fe4",
        "colab": {
          "base_uri": "https://localhost:8080/",
          "height": 34
        }
      },
      "source": [
        "X_train_uncorr = X_train_unique.drop(labels = corr_features , axis = 1)\n",
        "X_test_uncorr = X_test_unique.drop(labels = corr_features , axis = 1)\n",
        "X_train_uncorr.shape,X_test_uncorr.shape"
      ],
      "execution_count": 297,
      "outputs": [
        {
          "output_type": "execute_result",
          "data": {
            "text/plain": [
              "((4722, 5), (1181, 5))"
            ]
          },
          "metadata": {
            "tags": []
          },
          "execution_count": 297
        }
      ]
    },
    {
      "cell_type": "code",
      "metadata": {
        "id": "WcZqPMV5R-4P",
        "colab_type": "code",
        "outputId": "583bb267-58b3-4ac6-ad1d-278999bbf578",
        "colab": {
          "base_uri": "https://localhost:8080/",
          "height": 221
        }
      },
      "source": [
        "# %%time\n",
        "# run_random_Forest_Classifiers(X_train, X_test , y_train , y_test)\n",
        "# %%time\n",
        "# run_random_Forest_Classifiers(X_train_uncorr , X_test_uncorr , y_train , y_test)\n",
        "%%time\n",
        "run_Linear_Regression(X_train, X_test , y_train , y_test)\n",
        "\n",
        "run_Linear_Regression(X_train_uncorr , X_test_uncorr , y_train , y_test)"
      ],
      "execution_count": 298,
      "outputs": [
        {
          "output_type": "stream",
          "text": [
            "The Results of Linear Regression Model\n",
            "The R2 score is: 0.6943010059050609\n",
            "The RMSE is: 5.761520716911194\n",
            "The Standard deviation of y is  10.631763524207654\n",
            "\n",
            "The Results of Linear Regression Model\n",
            "The R2 score is: 0.6274416701527743\n",
            "The RMSE is: 6.360441491818243\n",
            "The Standard deviation of y is  10.631763524207654\n",
            "\n",
            "CPU times: user 16.7 ms, sys: 12 ms, total: 28.6 ms\n",
            "Wall time: 35.4 ms\n"
          ],
          "name": "stdout"
        }
      ]
    },
    {
      "cell_type": "code",
      "metadata": {
        "id": "PjHZJNVfR-7P",
        "colab_type": "code",
        "outputId": "3c52e749-71ba-46b3-d82c-c42cc814786f",
        "colab": {
          "base_uri": "https://localhost:8080/",
          "height": 235
        }
      },
      "source": [
        "corrmat"
      ],
      "execution_count": 299,
      "outputs": [
        {
          "output_type": "execute_result",
          "data": {
            "text/html": [
              "<div>\n",
              "<style scoped>\n",
              "    .dataframe tbody tr th:only-of-type {\n",
              "        vertical-align: middle;\n",
              "    }\n",
              "\n",
              "    .dataframe tbody tr th {\n",
              "        vertical-align: top;\n",
              "    }\n",
              "\n",
              "    .dataframe thead th {\n",
              "        text-align: right;\n",
              "    }\n",
              "</style>\n",
              "<table border=\"1\" class=\"dataframe\">\n",
              "  <thead>\n",
              "    <tr style=\"text-align: right;\">\n",
              "      <th></th>\n",
              "      <th>0</th>\n",
              "      <th>1</th>\n",
              "      <th>2</th>\n",
              "      <th>3</th>\n",
              "      <th>4</th>\n",
              "      <th>5</th>\n",
              "    </tr>\n",
              "  </thead>\n",
              "  <tbody>\n",
              "    <tr>\n",
              "      <th>0</th>\n",
              "      <td>1.000000</td>\n",
              "      <td>-0.437531</td>\n",
              "      <td>0.330339</td>\n",
              "      <td>-0.043516</td>\n",
              "      <td>0.041005</td>\n",
              "      <td>0.018678</td>\n",
              "    </tr>\n",
              "    <tr>\n",
              "      <th>1</th>\n",
              "      <td>-0.437531</td>\n",
              "      <td>1.000000</td>\n",
              "      <td>-0.151534</td>\n",
              "      <td>0.166506</td>\n",
              "      <td>0.003675</td>\n",
              "      <td>0.228811</td>\n",
              "    </tr>\n",
              "    <tr>\n",
              "      <th>2</th>\n",
              "      <td>0.330339</td>\n",
              "      <td>-0.151534</td>\n",
              "      <td>1.000000</td>\n",
              "      <td>-0.582761</td>\n",
              "      <td>-0.481614</td>\n",
              "      <td>-0.291775</td>\n",
              "    </tr>\n",
              "    <tr>\n",
              "      <th>3</th>\n",
              "      <td>-0.043516</td>\n",
              "      <td>0.166506</td>\n",
              "      <td>-0.582761</td>\n",
              "      <td>1.000000</td>\n",
              "      <td>0.858913</td>\n",
              "      <td>0.393449</td>\n",
              "    </tr>\n",
              "    <tr>\n",
              "      <th>4</th>\n",
              "      <td>0.041005</td>\n",
              "      <td>0.003675</td>\n",
              "      <td>-0.481614</td>\n",
              "      <td>0.858913</td>\n",
              "      <td>1.000000</td>\n",
              "      <td>0.107889</td>\n",
              "    </tr>\n",
              "    <tr>\n",
              "      <th>5</th>\n",
              "      <td>0.018678</td>\n",
              "      <td>0.228811</td>\n",
              "      <td>-0.291775</td>\n",
              "      <td>0.393449</td>\n",
              "      <td>0.107889</td>\n",
              "      <td>1.000000</td>\n",
              "    </tr>\n",
              "  </tbody>\n",
              "</table>\n",
              "</div>"
            ],
            "text/plain": [
              "          0         1         2         3         4         5\n",
              "0  1.000000 -0.437531  0.330339 -0.043516  0.041005  0.018678\n",
              "1 -0.437531  1.000000 -0.151534  0.166506  0.003675  0.228811\n",
              "2  0.330339 -0.151534  1.000000 -0.582761 -0.481614 -0.291775\n",
              "3 -0.043516  0.166506 -0.582761  1.000000  0.858913  0.393449\n",
              "4  0.041005  0.003675 -0.481614  0.858913  1.000000  0.107889\n",
              "5  0.018678  0.228811 -0.291775  0.393449  0.107889  1.000000"
            ]
          },
          "metadata": {
            "tags": []
          },
          "execution_count": 299
        }
      ]
    },
    {
      "cell_type": "code",
      "metadata": {
        "id": "ojlOMFZHR--Z",
        "colab_type": "code",
        "outputId": "c0851ad8-9554-4890-e1a9-4d06a0d99106",
        "colab": {
          "base_uri": "https://localhost:8080/",
          "height": 646
        }
      },
      "source": [
        "# Stacking of the features\n",
        "corrdata = corrmat.abs().stack()\n",
        "corrdata"
      ],
      "execution_count": 300,
      "outputs": [
        {
          "output_type": "execute_result",
          "data": {
            "text/plain": [
              "0  0    1.000000\n",
              "   1    0.437531\n",
              "   2    0.330339\n",
              "   3    0.043516\n",
              "   4    0.041005\n",
              "   5    0.018678\n",
              "1  0    0.437531\n",
              "   1    1.000000\n",
              "   2    0.151534\n",
              "   3    0.166506\n",
              "   4    0.003675\n",
              "   5    0.228811\n",
              "2  0    0.330339\n",
              "   1    0.151534\n",
              "   2    1.000000\n",
              "   3    0.582761\n",
              "   4    0.481614\n",
              "   5    0.291775\n",
              "3  0    0.043516\n",
              "   1    0.166506\n",
              "   2    0.582761\n",
              "   3    1.000000\n",
              "   4    0.858913\n",
              "   5    0.393449\n",
              "4  0    0.041005\n",
              "   1    0.003675\n",
              "   2    0.481614\n",
              "   3    0.858913\n",
              "   4    1.000000\n",
              "   5    0.107889\n",
              "5  0    0.018678\n",
              "   1    0.228811\n",
              "   2    0.291775\n",
              "   3    0.393449\n",
              "   4    0.107889\n",
              "   5    1.000000\n",
              "dtype: float64"
            ]
          },
          "metadata": {
            "tags": []
          },
          "execution_count": 300
        }
      ]
    },
    {
      "cell_type": "code",
      "metadata": {
        "id": "eWzi6UkiR_Bk",
        "colab_type": "code",
        "outputId": "63b86072-4166-4dbf-d4fe-d243619fbf94",
        "colab": {
          "base_uri": "https://localhost:8080/",
          "height": 1000
        }
      },
      "source": [
        "corrdata = pd.DataFrame(corrdata).reset_index()\n",
        "corrdata.columns = [\"features1\" , \"features2\" , \"corr_value\"]\n",
        "corrdata"
      ],
      "execution_count": 301,
      "outputs": [
        {
          "output_type": "execute_result",
          "data": {
            "text/html": [
              "<div>\n",
              "<style scoped>\n",
              "    .dataframe tbody tr th:only-of-type {\n",
              "        vertical-align: middle;\n",
              "    }\n",
              "\n",
              "    .dataframe tbody tr th {\n",
              "        vertical-align: top;\n",
              "    }\n",
              "\n",
              "    .dataframe thead th {\n",
              "        text-align: right;\n",
              "    }\n",
              "</style>\n",
              "<table border=\"1\" class=\"dataframe\">\n",
              "  <thead>\n",
              "    <tr style=\"text-align: right;\">\n",
              "      <th></th>\n",
              "      <th>features1</th>\n",
              "      <th>features2</th>\n",
              "      <th>corr_value</th>\n",
              "    </tr>\n",
              "  </thead>\n",
              "  <tbody>\n",
              "    <tr>\n",
              "      <th>0</th>\n",
              "      <td>0</td>\n",
              "      <td>0</td>\n",
              "      <td>1.000000</td>\n",
              "    </tr>\n",
              "    <tr>\n",
              "      <th>1</th>\n",
              "      <td>0</td>\n",
              "      <td>1</td>\n",
              "      <td>0.437531</td>\n",
              "    </tr>\n",
              "    <tr>\n",
              "      <th>2</th>\n",
              "      <td>0</td>\n",
              "      <td>2</td>\n",
              "      <td>0.330339</td>\n",
              "    </tr>\n",
              "    <tr>\n",
              "      <th>3</th>\n",
              "      <td>0</td>\n",
              "      <td>3</td>\n",
              "      <td>0.043516</td>\n",
              "    </tr>\n",
              "    <tr>\n",
              "      <th>4</th>\n",
              "      <td>0</td>\n",
              "      <td>4</td>\n",
              "      <td>0.041005</td>\n",
              "    </tr>\n",
              "    <tr>\n",
              "      <th>5</th>\n",
              "      <td>0</td>\n",
              "      <td>5</td>\n",
              "      <td>0.018678</td>\n",
              "    </tr>\n",
              "    <tr>\n",
              "      <th>6</th>\n",
              "      <td>1</td>\n",
              "      <td>0</td>\n",
              "      <td>0.437531</td>\n",
              "    </tr>\n",
              "    <tr>\n",
              "      <th>7</th>\n",
              "      <td>1</td>\n",
              "      <td>1</td>\n",
              "      <td>1.000000</td>\n",
              "    </tr>\n",
              "    <tr>\n",
              "      <th>8</th>\n",
              "      <td>1</td>\n",
              "      <td>2</td>\n",
              "      <td>0.151534</td>\n",
              "    </tr>\n",
              "    <tr>\n",
              "      <th>9</th>\n",
              "      <td>1</td>\n",
              "      <td>3</td>\n",
              "      <td>0.166506</td>\n",
              "    </tr>\n",
              "    <tr>\n",
              "      <th>10</th>\n",
              "      <td>1</td>\n",
              "      <td>4</td>\n",
              "      <td>0.003675</td>\n",
              "    </tr>\n",
              "    <tr>\n",
              "      <th>11</th>\n",
              "      <td>1</td>\n",
              "      <td>5</td>\n",
              "      <td>0.228811</td>\n",
              "    </tr>\n",
              "    <tr>\n",
              "      <th>12</th>\n",
              "      <td>2</td>\n",
              "      <td>0</td>\n",
              "      <td>0.330339</td>\n",
              "    </tr>\n",
              "    <tr>\n",
              "      <th>13</th>\n",
              "      <td>2</td>\n",
              "      <td>1</td>\n",
              "      <td>0.151534</td>\n",
              "    </tr>\n",
              "    <tr>\n",
              "      <th>14</th>\n",
              "      <td>2</td>\n",
              "      <td>2</td>\n",
              "      <td>1.000000</td>\n",
              "    </tr>\n",
              "    <tr>\n",
              "      <th>15</th>\n",
              "      <td>2</td>\n",
              "      <td>3</td>\n",
              "      <td>0.582761</td>\n",
              "    </tr>\n",
              "    <tr>\n",
              "      <th>16</th>\n",
              "      <td>2</td>\n",
              "      <td>4</td>\n",
              "      <td>0.481614</td>\n",
              "    </tr>\n",
              "    <tr>\n",
              "      <th>17</th>\n",
              "      <td>2</td>\n",
              "      <td>5</td>\n",
              "      <td>0.291775</td>\n",
              "    </tr>\n",
              "    <tr>\n",
              "      <th>18</th>\n",
              "      <td>3</td>\n",
              "      <td>0</td>\n",
              "      <td>0.043516</td>\n",
              "    </tr>\n",
              "    <tr>\n",
              "      <th>19</th>\n",
              "      <td>3</td>\n",
              "      <td>1</td>\n",
              "      <td>0.166506</td>\n",
              "    </tr>\n",
              "    <tr>\n",
              "      <th>20</th>\n",
              "      <td>3</td>\n",
              "      <td>2</td>\n",
              "      <td>0.582761</td>\n",
              "    </tr>\n",
              "    <tr>\n",
              "      <th>21</th>\n",
              "      <td>3</td>\n",
              "      <td>3</td>\n",
              "      <td>1.000000</td>\n",
              "    </tr>\n",
              "    <tr>\n",
              "      <th>22</th>\n",
              "      <td>3</td>\n",
              "      <td>4</td>\n",
              "      <td>0.858913</td>\n",
              "    </tr>\n",
              "    <tr>\n",
              "      <th>23</th>\n",
              "      <td>3</td>\n",
              "      <td>5</td>\n",
              "      <td>0.393449</td>\n",
              "    </tr>\n",
              "    <tr>\n",
              "      <th>24</th>\n",
              "      <td>4</td>\n",
              "      <td>0</td>\n",
              "      <td>0.041005</td>\n",
              "    </tr>\n",
              "    <tr>\n",
              "      <th>25</th>\n",
              "      <td>4</td>\n",
              "      <td>1</td>\n",
              "      <td>0.003675</td>\n",
              "    </tr>\n",
              "    <tr>\n",
              "      <th>26</th>\n",
              "      <td>4</td>\n",
              "      <td>2</td>\n",
              "      <td>0.481614</td>\n",
              "    </tr>\n",
              "    <tr>\n",
              "      <th>27</th>\n",
              "      <td>4</td>\n",
              "      <td>3</td>\n",
              "      <td>0.858913</td>\n",
              "    </tr>\n",
              "    <tr>\n",
              "      <th>28</th>\n",
              "      <td>4</td>\n",
              "      <td>4</td>\n",
              "      <td>1.000000</td>\n",
              "    </tr>\n",
              "    <tr>\n",
              "      <th>29</th>\n",
              "      <td>4</td>\n",
              "      <td>5</td>\n",
              "      <td>0.107889</td>\n",
              "    </tr>\n",
              "    <tr>\n",
              "      <th>30</th>\n",
              "      <td>5</td>\n",
              "      <td>0</td>\n",
              "      <td>0.018678</td>\n",
              "    </tr>\n",
              "    <tr>\n",
              "      <th>31</th>\n",
              "      <td>5</td>\n",
              "      <td>1</td>\n",
              "      <td>0.228811</td>\n",
              "    </tr>\n",
              "    <tr>\n",
              "      <th>32</th>\n",
              "      <td>5</td>\n",
              "      <td>2</td>\n",
              "      <td>0.291775</td>\n",
              "    </tr>\n",
              "    <tr>\n",
              "      <th>33</th>\n",
              "      <td>5</td>\n",
              "      <td>3</td>\n",
              "      <td>0.393449</td>\n",
              "    </tr>\n",
              "    <tr>\n",
              "      <th>34</th>\n",
              "      <td>5</td>\n",
              "      <td>4</td>\n",
              "      <td>0.107889</td>\n",
              "    </tr>\n",
              "    <tr>\n",
              "      <th>35</th>\n",
              "      <td>5</td>\n",
              "      <td>5</td>\n",
              "      <td>1.000000</td>\n",
              "    </tr>\n",
              "  </tbody>\n",
              "</table>\n",
              "</div>"
            ],
            "text/plain": [
              "    features1  features2  corr_value\n",
              "0           0          0    1.000000\n",
              "1           0          1    0.437531\n",
              "2           0          2    0.330339\n",
              "3           0          3    0.043516\n",
              "4           0          4    0.041005\n",
              "5           0          5    0.018678\n",
              "6           1          0    0.437531\n",
              "7           1          1    1.000000\n",
              "8           1          2    0.151534\n",
              "9           1          3    0.166506\n",
              "10          1          4    0.003675\n",
              "11          1          5    0.228811\n",
              "12          2          0    0.330339\n",
              "13          2          1    0.151534\n",
              "14          2          2    1.000000\n",
              "15          2          3    0.582761\n",
              "16          2          4    0.481614\n",
              "17          2          5    0.291775\n",
              "18          3          0    0.043516\n",
              "19          3          1    0.166506\n",
              "20          3          2    0.582761\n",
              "21          3          3    1.000000\n",
              "22          3          4    0.858913\n",
              "23          3          5    0.393449\n",
              "24          4          0    0.041005\n",
              "25          4          1    0.003675\n",
              "26          4          2    0.481614\n",
              "27          4          3    0.858913\n",
              "28          4          4    1.000000\n",
              "29          4          5    0.107889\n",
              "30          5          0    0.018678\n",
              "31          5          1    0.228811\n",
              "32          5          2    0.291775\n",
              "33          5          3    0.393449\n",
              "34          5          4    0.107889\n",
              "35          5          5    1.000000"
            ]
          },
          "metadata": {
            "tags": []
          },
          "execution_count": 301
        }
      ]
    },
    {
      "cell_type": "code",
      "metadata": {
        "id": "0L91z2mnR_Ec",
        "colab_type": "code",
        "colab": {}
      },
      "source": [
        "# Creat a list of group feaures\n",
        "# Find feature importance of each group\n",
        "# Select one feature from each group and reject others\n",
        "grouped_feature_list = []\n",
        "correlated_groups_list = []\n",
        "for feature in corrdata.features1.unique():\n",
        "    if feature not in grouped_feature_list:\n",
        "        correlated_block = corrdata[corrdata.features1 == feature]\n",
        "        grouped_feature_list = grouped_feature_list + list(correlated_block.features2.unique()) + [feature]\n",
        "        correlated_groups_list.append(correlated_block)"
      ],
      "execution_count": 0,
      "outputs": []
    },
    {
      "cell_type": "code",
      "metadata": {
        "id": "gQgPKTi6Wa97",
        "colab_type": "code",
        "outputId": "d9805390-33c9-4790-fc73-bad0db39c189",
        "colab": {
          "base_uri": "https://localhost:8080/",
          "height": 68
        }
      },
      "source": [
        "print(len(grouped_feature_list))\n",
        "print(type(grouped_feature_list))\n",
        "print(grouped_feature_list)"
      ],
      "execution_count": 303,
      "outputs": [
        {
          "output_type": "stream",
          "text": [
            "7\n",
            "<class 'list'>\n",
            "[0, 1, 2, 3, 4, 5, 0]\n"
          ],
          "name": "stdout"
        }
      ]
    },
    {
      "cell_type": "code",
      "metadata": {
        "id": "YAOWZKYtWsnV",
        "colab_type": "code",
        "outputId": "ce129644-694e-4314-b5c1-862ac0bc6bca",
        "colab": {
          "base_uri": "https://localhost:8080/",
          "height": 170
        }
      },
      "source": [
        "print(len(correlated_groups_list))\n",
        "print(type(correlated_groups_list))\n",
        "print(correlated_groups_list)"
      ],
      "execution_count": 304,
      "outputs": [
        {
          "output_type": "stream",
          "text": [
            "1\n",
            "<class 'list'>\n",
            "[   features1  features2  corr_value\n",
            "0          0          0    1.000000\n",
            "1          0          1    0.437531\n",
            "2          0          2    0.330339\n",
            "3          0          3    0.043516\n",
            "4          0          4    0.041005\n",
            "5          0          5    0.018678]\n"
          ],
          "name": "stdout"
        }
      ]
    },
    {
      "cell_type": "code",
      "metadata": {
        "id": "rV6lXLXhWsq0",
        "colab_type": "code",
        "outputId": "e3c3adff-fff5-42c4-8fc7-e1999eaa43c9",
        "colab": {
          "base_uri": "https://localhost:8080/",
          "height": 34
        }
      },
      "source": [
        "X_train.shape , X_train_uncorr.shape"
      ],
      "execution_count": 305,
      "outputs": [
        {
          "output_type": "execute_result",
          "data": {
            "text/plain": [
              "((4722, 6), (4722, 5))"
            ]
          },
          "metadata": {
            "tags": []
          },
          "execution_count": 305
        }
      ]
    },
    {
      "cell_type": "code",
      "metadata": {
        "id": "ZjefG5wnWst5",
        "colab_type": "code",
        "outputId": "fcb6de36-b02d-4dd3-9800-4b86baf83ade",
        "colab": {
          "base_uri": "https://localhost:8080/",
          "height": 136
        }
      },
      "source": [
        "\n",
        "for group in correlated_groups_list:\n",
        "    print(group)"
      ],
      "execution_count": 306,
      "outputs": [
        {
          "output_type": "stream",
          "text": [
            "   features1  features2  corr_value\n",
            "0          0          0    1.000000\n",
            "1          0          1    0.437531\n",
            "2          0          2    0.330339\n",
            "3          0          3    0.043516\n",
            "4          0          4    0.041005\n",
            "5          0          5    0.018678\n"
          ],
          "name": "stdout"
        }
      ]
    },
    {
      "cell_type": "code",
      "metadata": {
        "id": "aGLJpl_6Wsw6",
        "colab_type": "code",
        "outputId": "4838aa10-d16b-4096-aee2-83dc805dea42",
        "colab": {
          "base_uri": "https://localhost:8080/",
          "height": 68
        }
      },
      "source": [
        "# def get_important_features_classification(important_features):\n",
        "#     for group in correlated_groups_list:\n",
        "#         features = list(group.features1.unique()) + list(group.features2.unique())\n",
        "#         rf = RandomForestClassifier(n_estimators=100 , random_state= 0 )\n",
        "#         rf.fit(X_train_unique[features] , y_train)\n",
        "\n",
        "#         importance = pd.concat([pd.Series(features) , pd.Series(rf.feature_importances_)] , axis = 1)\n",
        "#         importance.columns = [\"features\" , \"importance\"]\n",
        "#         importance.sort_values(by = \"importance\" , ascending = False , inplace = True)\n",
        "#         feat = importance.iloc[0]\n",
        "#         important_features.append(feat)\n",
        "def get_important_features_regression(important_features):\n",
        "    for group in correlated_groups_list:\n",
        "        features = list(group.features1.unique()) + list(group.features2.unique())\n",
        "        RFRmodel = RandomForestRegressor()\n",
        "        RFRmodel.fit(X_train_unique[features] , y_train)\n",
        "        importance = pd.concat([pd.Series(features) , pd.Series(RFRmodel.feature_importances_)] , axis = 1)\n",
        "        importance.columns = [\"features\" , \"importance\"]\n",
        "        importance.sort_values(by = \"importance\" , ascending = False , inplace = True)\n",
        "        feat = importance.iloc[0]\n",
        "        important_features.append(feat)\n",
        "\n",
        "important_features = []\n",
        "get_important_features_regression(important_features)\n",
        "important_features"
      ],
      "execution_count": 307,
      "outputs": [
        {
          "output_type": "execute_result",
          "data": {
            "text/plain": [
              "[features      4.000000\n",
              " importance    0.691617\n",
              " Name: 5, dtype: float64]"
            ]
          },
          "metadata": {
            "tags": []
          },
          "execution_count": 307
        }
      ]
    },
    {
      "cell_type": "code",
      "metadata": {
        "id": "Az3-YnSWjQjz",
        "colab_type": "code",
        "colab": {
          "base_uri": "https://localhost:8080/",
          "height": 80
        },
        "outputId": "4e355cc1-660d-4313-8601-1600133804b8"
      },
      "source": [
        "important_features = pd.DataFrame(important_features)\n",
        "important_features.reset_index(inplace=True , drop = True)\n",
        "important_features"
      ],
      "execution_count": 308,
      "outputs": [
        {
          "output_type": "execute_result",
          "data": {
            "text/html": [
              "<div>\n",
              "<style scoped>\n",
              "    .dataframe tbody tr th:only-of-type {\n",
              "        vertical-align: middle;\n",
              "    }\n",
              "\n",
              "    .dataframe tbody tr th {\n",
              "        vertical-align: top;\n",
              "    }\n",
              "\n",
              "    .dataframe thead th {\n",
              "        text-align: right;\n",
              "    }\n",
              "</style>\n",
              "<table border=\"1\" class=\"dataframe\">\n",
              "  <thead>\n",
              "    <tr style=\"text-align: right;\">\n",
              "      <th></th>\n",
              "      <th>features</th>\n",
              "      <th>importance</th>\n",
              "    </tr>\n",
              "  </thead>\n",
              "  <tbody>\n",
              "    <tr>\n",
              "      <th>0</th>\n",
              "      <td>4.0</td>\n",
              "      <td>0.691617</td>\n",
              "    </tr>\n",
              "  </tbody>\n",
              "</table>\n",
              "</div>"
            ],
            "text/plain": [
              "   features  importance\n",
              "0       4.0    0.691617"
            ]
          },
          "metadata": {
            "tags": []
          },
          "execution_count": 308
        }
      ]
    },
    {
      "cell_type": "code",
      "metadata": {
        "id": "UDLH68lUq9Sg",
        "colab_type": "code",
        "colab": {
          "base_uri": "https://localhost:8080/",
          "height": 34
        },
        "outputId": "8a97ceae-6a6a-484f-cbc3-8114965f2ee5"
      },
      "source": [
        "features_to_consider = set(important_features[\"features\"])\n",
        "features_to_discard = set(corr_features) - set(features_to_consider)\n",
        "features_to_discard = list(features_to_discard)\n",
        "\n",
        "X_train_grouped_uncorr = X_train_unique.drop(labels=features_to_discard , axis = 1)\n",
        "X_train_grouped_uncorr.shape"
      ],
      "execution_count": 309,
      "outputs": [
        {
          "output_type": "execute_result",
          "data": {
            "text/plain": [
              "(4722, 6)"
            ]
          },
          "metadata": {
            "tags": []
          },
          "execution_count": 309
        }
      ]
    },
    {
      "cell_type": "code",
      "metadata": {
        "id": "Vl_cn0njrDMw",
        "colab_type": "code",
        "colab": {
          "base_uri": "https://localhost:8080/",
          "height": 34
        },
        "outputId": "088e3668-3a4f-4152-aa55-24f9ca9f1890"
      },
      "source": [
        "X_test_grouped_uncorr = X_test_unique.drop(labels=features_to_discard , axis = 1)\n",
        "X_test_grouped_uncorr.shape"
      ],
      "execution_count": 310,
      "outputs": [
        {
          "output_type": "execute_result",
          "data": {
            "text/plain": [
              "(1181, 6)"
            ]
          },
          "metadata": {
            "tags": []
          },
          "execution_count": 310
        }
      ]
    },
    {
      "cell_type": "code",
      "metadata": {
        "id": "pt43McawrFk4",
        "colab_type": "code",
        "colab": {
          "base_uri": "https://localhost:8080/",
          "height": 272
        },
        "outputId": "a7e0122d-cd82-40c8-dcf3-f8c9b50012fa"
      },
      "source": [
        "# %%time\n",
        "run_Linear_Regression(X_train_grouped_uncorr , X_test_grouped_uncorr, y_train , y_test)\n",
        "# %%time\n",
        "run_Linear_Regression(X_train_uncorr , X_test_uncorr, y_train , y_test)\n",
        "# %%time\n",
        "run_Linear_Regression(X_train , X_test, y_train , y_test)\n",
        "\n",
        "# # %%time\n",
        "# run_random_Forest_Regressor(X_train_grouped_uncorr , X_test_grouped_uncorr, y_train , y_test)\n",
        "# # %%time\n",
        "# run_random_Forest_Regressor(X_train_uncorr , X_test_uncorr, y_train , y_test)\n",
        "# # %%time\n",
        "# run_random_Forest_Regressor(X_train , X_test, y_train , y_test)\n"
      ],
      "execution_count": 311,
      "outputs": [
        {
          "output_type": "stream",
          "text": [
            "The Results of Linear Regression Model\n",
            "The R2 score is: 0.6943010059050609\n",
            "The RMSE is: 5.761520716911194\n",
            "The Standard deviation of y is  10.631763524207654\n",
            "\n",
            "The Results of Linear Regression Model\n",
            "The R2 score is: 0.6274416701527743\n",
            "The RMSE is: 6.360441491818243\n",
            "The Standard deviation of y is  10.631763524207654\n",
            "\n",
            "The Results of Linear Regression Model\n",
            "The R2 score is: 0.6943010059050609\n",
            "The RMSE is: 5.761520716911194\n",
            "The Standard deviation of y is  10.631763524207654\n",
            "\n"
          ],
          "name": "stdout"
        }
      ]
    },
    {
      "cell_type": "markdown",
      "metadata": {
        "id": "RAA3tcchro4s",
        "colab_type": "text"
      },
      "source": [
        "## B. Applying Mutual Information (Entropy) Gain Filtering based method to the Regression problem "
      ]
    },
    {
      "cell_type": "code",
      "metadata": {
        "id": "I6S3a5YLwf0-",
        "colab_type": "code",
        "colab": {}
      },
      "source": [
        "\n",
        "import numpy as np\n",
        "import pandas as pd\n",
        "import matplotlib.pyplot as plt\n",
        "import seaborn as sns\n",
        "\n",
        "from sklearn.model_selection import train_test_split\n",
        "from sklearn.ensemble import RandomForestClassifier\n",
        "from sklearn.metrics import accuracy_score\n",
        "\n",
        "from sklearn.feature_selection import VarianceThreshold , mutual_info_classif , mutual_info_regression\n",
        "from sklearn.feature_selection import SelectKBest , SelectPercentile"
      ],
      "execution_count": 0,
      "outputs": []
    },
    {
      "cell_type": "code",
      "metadata": {
        "id": "1nHNGZmkwtEp",
        "colab_type": "code",
        "colab": {}
      },
      "source": [
        "X_train , X_test , y_train , y_test = train_test_split(X , y , test_size = 0.2 , random_state = 0)"
      ],
      "execution_count": 0,
      "outputs": []
    },
    {
      "cell_type": "code",
      "metadata": {
        "id": "zGGo_XLyxFQj",
        "colab_type": "code",
        "colab": {
          "base_uri": "https://localhost:8080/",
          "height": 136
        },
        "outputId": "5cd096fa-8750-441d-f04a-f0fcbdebef4c"
      },
      "source": [
        "mi = mutual_info_regression(X_train , y_train)\n",
        "mi = pd.Series(mi)\n",
        "mi.index = X_train.columns\n",
        "mi.sort_values(ascending=False , inplace = True)\n",
        "mi"
      ],
      "execution_count": 317,
      "outputs": [
        {
          "output_type": "execute_result",
          "data": {
            "text/plain": [
              "Power                0.783702\n",
              "Engine               0.620787\n",
              "Mileage              0.447836\n",
              "Year                 0.255157\n",
              "Seats                0.091801\n",
              "Kilometers_Driven    0.065422\n",
              "dtype: float64"
            ]
          },
          "metadata": {
            "tags": []
          },
          "execution_count": 317
        }
      ]
    },
    {
      "cell_type": "code",
      "metadata": {
        "id": "mdS_aDnbxNUE",
        "colab_type": "code",
        "colab": {
          "base_uri": "https://localhost:8080/",
          "height": 376
        },
        "outputId": "cee9726d-a567-4ac5-f1e2-0c3159c45d34"
      },
      "source": [
        "mi.plot.bar()"
      ],
      "execution_count": 318,
      "outputs": [
        {
          "output_type": "execute_result",
          "data": {
            "text/plain": [
              "<matplotlib.axes._subplots.AxesSubplot at 0x7f1550d43908>"
            ]
          },
          "metadata": {
            "tags": []
          },
          "execution_count": 318
        },
        {
          "output_type": "display_data",
          "data": {
            "image/png": "[encoded data removed]",
            "text/plain": [
              "<Figure size 432x288 with 1 Axes>"
            ]
          },
          "metadata": {
            "tags": [],
            "needs_background": "light"
          }
        }
      ]
    },
    {
      "cell_type": "code",
      "metadata": {
        "id": "7p-Ip-OlxXIP",
        "colab_type": "code",
        "colab": {
          "base_uri": "https://localhost:8080/",
          "height": 731
        },
        "outputId": "0d3a308a-f438-4f48-cb39-35dc60f361dd"
      },
      "source": [
        "def run_Linear_Regreesion_model_after_MI_gain(input_k, X_train , X_test , y_train , y_test):\n",
        "    sel = SelectKBest(mutual_info_regression , k = input_k ).fit(X_train, y_train)\n",
        "    \n",
        "    print(\"The support columns after Mutual info gain are:\")\n",
        "    print(X_train.columns[sel.get_support()])\n",
        "    print()\n",
        "    \n",
        "    print(\"The Results of REGULAR Linear Regression Model\")\n",
        "    model = LinearRegression()\n",
        "    model.fit(X_train, y_train)\n",
        "    y_predict = model.predict(X_test)\n",
        "    print(\"The R2 score is:\" , r2_score(y_test, y_predict))\n",
        "    print(\"The RMSE is:\" , np.sqrt(mean_squared_error(y_test , y_predict)))\n",
        "    print(\"The Standard deviation of y is \",np.std(y))\n",
        "    print()\n",
        "    \n",
        "    print(\"The Results of Linear Regression Model after MUTUAL INFORMATION GAIN for k =\" , input_k , \"are: \")\n",
        "    X_train_input_k = sel.transform(X_train)\n",
        "    X_test_input_k = sel.transform(X_test)\n",
        "        \n",
        "    model = LinearRegression()\n",
        "    model.fit(X_train_input_k, y_train)\n",
        "    y_predict = model.predict(X_test_input_k)\n",
        "    print(\"The R2 score is:\" , r2_score(y_test, y_predict))\n",
        "    print(\"The RMSE is:\" , np.sqrt(mean_squared_error(y_test , y_predict)))\n",
        "    print(\"The Standard deviation of y is \",np.std(y))\n",
        "    print()\n",
        "    print(\"-------------------------------------------------------------------\")\n",
        "\n",
        "run_Linear_Regreesion_model_after_MI_gain(3, X_train , X_test , y_train , y_test)\n",
        "run_Linear_Regreesion_model_after_MI_gain(4, X_train , X_test , y_train , y_test)\n",
        "run_Linear_Regreesion_model_after_MI_gain(5, X_train , X_test , y_train , y_test)"
      ],
      "execution_count": 332,
      "outputs": [
        {
          "output_type": "stream",
          "text": [
            "The support columns after Mutual info gain are:\n",
            "Index(['Mileage', 'Engine', 'Power'], dtype='object')\n",
            "\n",
            "The Results of REGULAR Linear Regression Model\n",
            "The R2 score is: 0.6943010059050609\n",
            "The RMSE is: 5.761520716911194\n",
            "The Standard deviation of y is  10.631763524207654\n",
            "\n",
            "The Results of Linear Regression Model after MUTUAL INFORMATION GAIN for k = 3 are: \n",
            "The R2 score is: 0.6141668215654114\n",
            "The RMSE is: 6.472766020607503\n",
            "The Standard deviation of y is  10.631763524207654\n",
            "\n",
            "-------------------------------------------------------------------\n",
            "The support columns after Mutual info gain are:\n",
            "Index(['Year', 'Mileage', 'Engine', 'Power'], dtype='object')\n",
            "\n",
            "The Results of REGULAR Linear Regression Model\n",
            "The R2 score is: 0.6943010059050609\n",
            "The RMSE is: 5.761520716911194\n",
            "The Standard deviation of y is  10.631763524207654\n",
            "\n",
            "The Results of Linear Regression Model after MUTUAL INFORMATION GAIN for k = 4 are: \n",
            "The R2 score is: 0.6866026926290021\n",
            "The RMSE is: 5.8336148618381\n",
            "The Standard deviation of y is  10.631763524207654\n",
            "\n",
            "-------------------------------------------------------------------\n",
            "The support columns after Mutual info gain are:\n",
            "Index(['Year', 'Mileage', 'Engine', 'Power', 'Seats'], dtype='object')\n",
            "\n",
            "The Results of REGULAR Linear Regression Model\n",
            "The R2 score is: 0.6943010059050609\n",
            "The RMSE is: 5.761520716911194\n",
            "The Standard deviation of y is  10.631763524207654\n",
            "\n",
            "The Results of Linear Regression Model after MUTUAL INFORMATION GAIN for k = 5 are: \n",
            "The R2 score is: 0.6936930610271783\n",
            "The RMSE is: 5.767246851693531\n",
            "The Standard deviation of y is  10.631763524207654\n",
            "\n",
            "-------------------------------------------------------------------\n"
          ],
          "name": "stdout"
        }
      ]
    },
    {
      "cell_type": "markdown",
      "metadata": {
        "id": "bjj_S7BAzPGV",
        "colab_type": "text"
      },
      "source": [
        "## C. Feature Selection using RMSE Regression"
      ]
    },
    {
      "cell_type": "code",
      "metadata": {
        "id": "1OAYm5x36lJc",
        "colab_type": "code",
        "colab": {}
      },
      "source": [
        "from sklearn.linear_model import LinearRegression\n",
        "from sklearn.metrics import mean_absolute_error , mean_squared_error , r2_score"
      ],
      "execution_count": 0,
      "outputs": []
    },
    {
      "cell_type": "code",
      "metadata": {
        "id": "ITJzhkmA6lOD",
        "colab_type": "code",
        "colab": {}
      },
      "source": [
        "X_train , X_test , y_train , y_test = train_test_split(X , y , test_size = 0.2 , random_state = 0)"
      ],
      "execution_count": 0,
      "outputs": []
    },
    {
      "cell_type": "code",
      "metadata": {
        "id": "1ynf7mQs6lR5",
        "colab_type": "code",
        "colab": {
          "base_uri": "https://localhost:8080/",
          "height": 119
        },
        "outputId": "d5e013c8-38be-4c3f-cb63-186da5479dfd"
      },
      "source": [
        "mse = []\n",
        "for feature in X_train.columns:\n",
        "    clf = LinearRegression()\n",
        "    clf.fit(X_train[feature].to_frame() , y_train)\n",
        "    y_pred = clf.predict(X_test[feature].to_frame())\n",
        "    mse.append(mean_squared_error(y_test,y_pred))\n",
        "\n",
        "mse"
      ],
      "execution_count": 335,
      "outputs": [
        {
          "output_type": "execute_result",
          "data": {
            "text/plain": [
              "[99.23652437176308,\n",
              " 106.24568077661856,\n",
              " 98.8642664673764,\n",
              " 60.47942700215359,\n",
              " 42.78068400175848,\n",
              " 107.84475380435124]"
            ]
          },
          "metadata": {
            "tags": []
          },
          "execution_count": 335
        }
      ]
    },
    {
      "cell_type": "code",
      "metadata": {
        "id": "-XUVOoo16lVa",
        "colab_type": "code",
        "colab": {
          "base_uri": "https://localhost:8080/",
          "height": 136
        },
        "outputId": "6fe4373b-5b80-49a2-a925-b0e378fbdd0a"
      },
      "source": [
        "mse = pd.Series(mse , index = X_train.columns)\n",
        "mse.sort_values(ascending = False , inplace = True)\n",
        "mse"
      ],
      "execution_count": 336,
      "outputs": [
        {
          "output_type": "execute_result",
          "data": {
            "text/plain": [
              "Seats                107.844754\n",
              "Kilometers_Driven    106.245681\n",
              "Year                  99.236524\n",
              "Mileage               98.864266\n",
              "Engine                60.479427\n",
              "Power                 42.780684\n",
              "dtype: float64"
            ]
          },
          "metadata": {
            "tags": []
          },
          "execution_count": 336
        }
      ]
    },
    {
      "cell_type": "code",
      "metadata": {
        "id": "PH4hDO5x6lYw",
        "colab_type": "code",
        "colab": {
          "base_uri": "https://localhost:8080/",
          "height": 376
        },
        "outputId": "08457ca6-e7c0-4da9-e522-836a3c87194b"
      },
      "source": [
        "mse.plot.bar()"
      ],
      "execution_count": 337,
      "outputs": [
        {
          "output_type": "execute_result",
          "data": {
            "text/plain": [
              "<matplotlib.axes._subplots.AxesSubplot at 0x7f1550effe80>"
            ]
          },
          "metadata": {
            "tags": []
          },
          "execution_count": 337
        },
        {
          "output_type": "display_data",
          "data": {
            "image/png": "[encoded data removed]",
            "text/plain": [
              "<Figure size 432x288 with 1 Axes>"
            ]
          },
          "metadata": {
            "tags": [],
            "needs_background": "light"
          }
        }
      ]
    },
    {
      "cell_type": "code",
      "metadata": {
        "id": "3vcOWtIt6lc3",
        "colab_type": "code",
        "colab": {
          "base_uri": "https://localhost:8080/",
          "height": 680
        },
        "outputId": "4b78fd59-8119-4de3-e076-9028a4f01fa5"
      },
      "source": [
        "def run_RMSE_regression_feature_selection(no_of_features , X_train , X_test , y_train , y_test):\n",
        "    print(\"The Results of REGULAR Linear Regression Model\")\n",
        "    model = LinearRegression()\n",
        "    model.fit(X_train, y_train)\n",
        "    y_predict = model.predict(X_test)\n",
        "    print(\"The R2 score is:\" , r2_score(y_test, y_predict))\n",
        "    print(\"The RMSE is:\" , np.sqrt(mean_squared_error(y_test , y_predict)))\n",
        "    print(\"The Standard deviation of y is \",np.std(y))\n",
        "    print()\n",
        "\n",
        "    print(\"The Results of RMSE regression after feature selection are:\")\n",
        "    print(\"The Selected Features for RMSE regression are:\")\n",
        "    print(mse[-1:-(no_of_features + 1):-1].index)\n",
        "    X_train_temp = X_train[mse[-1:-(no_of_features + 1):-1].index]\n",
        "    X_test_temp = X_test[mse[-1:-(no_of_features + 1):-1].index]\n",
        "    model = LinearRegression()\n",
        "    model.fit(X_train_temp , y_train)\n",
        "    y_predict = model.predict(X_test_temp)\n",
        "    print(\"The R2 score is:\" , r2_score(y_test, y_predict))\n",
        "    print(\"The RMSE is:\" , np.sqrt(mean_squared_error(y_test , y_predict)))\n",
        "    print(\"The Standard deviation of y is \",np.std(y))\n",
        "    print()\n",
        "    print(\"------------------------------------------------------------------\")\n",
        "\n",
        "run_RMSE_regression_feature_selection(3, X_train , X_test , y_train , y_test)\n",
        "run_RMSE_regression_feature_selection(4, X_train , X_test , y_train , y_test)\n",
        "run_RMSE_regression_feature_selection(5, X_train , X_test , y_train , y_test)"
      ],
      "execution_count": 355,
      "outputs": [
        {
          "output_type": "stream",
          "text": [
            "The Results of REGULAR Linear Regression Model\n",
            "The R2 score is: 0.6943010059050609\n",
            "The RMSE is: 5.761520716911194\n",
            "The Standard deviation of y is  10.631763524207654\n",
            "\n",
            "The Results of RMSE regression after feature selection are:\n",
            "The Selected Features for RMSE regression are:\n",
            "Index(['Power', 'Engine', 'Mileage'], dtype='object')\n",
            "The R2 score is: 0.6141668215654115\n",
            "The RMSE is: 6.472766020607502\n",
            "The Standard deviation of y is  10.631763524207654\n",
            "\n",
            "------------------------------------------------------------------\n",
            "The Results of REGULAR Linear Regression Model\n",
            "The R2 score is: 0.6943010059050609\n",
            "The RMSE is: 5.761520716911194\n",
            "The Standard deviation of y is  10.631763524207654\n",
            "\n",
            "The Results of RMSE regression after feature selection are:\n",
            "The Selected Features for RMSE regression are:\n",
            "Index(['Power', 'Engine', 'Mileage', 'Year'], dtype='object')\n",
            "The R2 score is: 0.6866026926290032\n",
            "The RMSE is: 5.8336148618380905\n",
            "The Standard deviation of y is  10.631763524207654\n",
            "\n",
            "------------------------------------------------------------------\n",
            "The Results of REGULAR Linear Regression Model\n",
            "The R2 score is: 0.6943010059050609\n",
            "The RMSE is: 5.761520716911194\n",
            "The Standard deviation of y is  10.631763524207654\n",
            "\n",
            "The Results of RMSE regression after feature selection are:\n",
            "The Selected Features for RMSE regression are:\n",
            "Index(['Power', 'Engine', 'Mileage', 'Year', 'Kilometers_Driven'], dtype='object')\n",
            "The R2 score is: 0.6876261840235798\n",
            "The RMSE is: 5.824081376419249\n",
            "The Standard deviation of y is  10.631763524207654\n",
            "\n",
            "------------------------------------------------------------------\n"
          ],
          "name": "stdout"
        }
      ]
    },
    {
      "cell_type": "markdown",
      "metadata": {
        "id": "ac9y5MUg6lgh",
        "colab_type": "text"
      },
      "source": [
        "## 4. Univariate ANOVA Test for Regression"
      ]
    },
    {
      "cell_type": "code",
      "metadata": {
        "id": "nUpsD6Db6lkS",
        "colab_type": "code",
        "colab": {}
      },
      "source": [
        "import numpy as np\n",
        "import pandas as pd\n",
        "import matplotlib.pyplot as plt\n",
        "%matplotlib inline\n",
        "import seaborn as sns\n",
        "\n",
        "from sklearn.model_selection import train_test_split\n",
        "from sklearn.ensemble import RandomForestClassifier,RandomForestRegressor\n",
        "from sklearn.metrics import accuracy_score \n",
        "from sklearn.feature_selection import VarianceThreshold\n",
        "from sklearn.feature_selection import f_classif, f_regression\n",
        "from sklearn.feature_selection import SelectKBest , SelectPercentile"
      ],
      "execution_count": 0,
      "outputs": []
    },
    {
      "cell_type": "code",
      "metadata": {
        "id": "7SA-8vAF6loQ",
        "colab_type": "code",
        "colab": {}
      },
      "source": [
        "X_train , X_test , y_train , y_test = train_test_split(X, y , test_size = 0.2 , random_state = 0)"
      ],
      "execution_count": 0,
      "outputs": []
    },
    {
      "cell_type": "code",
      "metadata": {
        "id": "GPRQxOgR6lsY",
        "colab_type": "code",
        "colab": {
          "base_uri": "https://localhost:8080/",
          "height": 85
        },
        "outputId": "24c77b85-cd6f-4d0e-b083-a6c1b734c70c"
      },
      "source": [
        "def remove_constant_quasiconstant_duplicate_features(X_train , X_test):\n",
        "    \"\"\" Remove Constant , Quasi-Constant and Duplicate Features\"\"\"\n",
        "    constant_filter = VarianceThreshold(threshold=0.1)\n",
        "    constant_filter.fit(X_train)\n",
        "    X_train_filter = constant_filter.transform(X_train)\n",
        "    X_test_filter = constant_filter.transform(X_test)\n",
        "    print(\"X_train.shape , X_test.shape are:\",X_train.shape , X_test.shape)\n",
        "\n",
        "    X_train_T = X_train_filter.T\n",
        "    X_test_T = X_test_filter.T\n",
        "    X_train_T =pd.DataFrame(X_train_T)\n",
        "    X_test_T = pd.DataFrame(X_test_T)\n",
        "\n",
        "    print(\"The number of duplicated features in the training dataset are:\",X_train_T.duplicated().sum())\n",
        "    print(\"The number of duplicated features in the testing dataset are:\",X_test_T.duplicated().sum())\n",
        "\n",
        "    duplicated_features = X_train_T.duplicated()\n",
        "\n",
        "    features_to_keep = [not index for index in duplicated_features]\n",
        "\n",
        "    X_train_unique = X_train_T[features_to_keep].T\n",
        "    X_test_unique = X_test_T[features_to_keep].T\n",
        "\n",
        "    print(\"X_train_unique.shape , X_test_unique.shape are:\",X_train_unique.shape , X_test_unique.shape)\n",
        "\n",
        "remove_constant_quasiconstant_duplicate_features(X_train,X_test)"
      ],
      "execution_count": 364,
      "outputs": [
        {
          "output_type": "stream",
          "text": [
            "X_train.shape , X_test.shape are: (4722, 6) (1181, 6)\n",
            "The number of duplicated features in the training dataset are: 0\n",
            "The number of duplicated features in the testing dataset are: 0\n",
            "X_train_unique.shape , X_test_unique.shape are: (4722, 6) (1181, 6)\n"
          ],
          "name": "stdout"
        }
      ]
    },
    {
      "cell_type": "code",
      "metadata": {
        "id": "mUklJtT2Fd75",
        "colab_type": "code",
        "colab": {
          "base_uri": "https://localhost:8080/",
          "height": 85
        },
        "outputId": "08fc0b70-5c71-4e16-8763-bf14a92a5a99"
      },
      "source": [
        "sel = f_regression(X_train , y_train)\n",
        "sel"
      ],
      "execution_count": 365,
      "outputs": [
        {
          "output_type": "execute_result",
          "data": {
            "text/plain": [
              "(array([ 486.78243735,  124.90577396,  492.17519589, 3689.39687067,\n",
              "        7250.12212813,   14.75672773]),\n",
              " array([9.50462512e-103, 1.21790889e-028, 8.21831414e-104, 0.00000000e+000,\n",
              "        0.00000000e+000, 1.23915310e-004]))"
            ]
          },
          "metadata": {
            "tags": []
          },
          "execution_count": 365
        }
      ]
    },
    {
      "cell_type": "code",
      "metadata": {
        "id": "Yr_n9uV66lwG",
        "colab_type": "code",
        "colab": {
          "base_uri": "https://localhost:8080/",
          "height": 247
        },
        "outputId": "0a7de263-2eef-4e37-dc1e-7d8c1b3a4ecf"
      },
      "source": [
        "# The 0th position represents the F-score, 1st position represents the p_values\n",
        "p_values = pd.Series(sel[1])\n",
        "p_values.index = X_train_unique.columns\n",
        "p_values.sort_values(ascending = True , inplace = False)\n",
        "p_values.plot.bar(figsize=(20,5))"
      ],
      "execution_count": 366,
      "outputs": [
        {
          "output_type": "execute_result",
          "data": {
            "text/plain": [
              "<matplotlib.axes._subplots.AxesSubplot at 0x7f1551220e80>"
            ]
          },
          "metadata": {
            "tags": []
          },
          "execution_count": 366
        },
        {
          "output_type": "display_data",
          "data": {
            "image/png": "[encoded data removed]",
            "text/plain": [
              "<Figure size 1440x360 with 1 Axes>"
            ]
          },
          "metadata": {
            "tags": [],
            "needs_background": "light"
          }
        }
      ]
    },
    {
      "cell_type": "code",
      "metadata": {
        "id": "WsEXPm4X6lzQ",
        "colab_type": "code",
        "colab": {
          "base_uri": "https://localhost:8080/",
          "height": 136
        },
        "outputId": "2989144b-ac13-41a9-d22f-7426d746f508"
      },
      "source": [
        "p_values"
      ],
      "execution_count": 367,
      "outputs": [
        {
          "output_type": "execute_result",
          "data": {
            "text/plain": [
              "0    9.504625e-103\n",
              "1     1.217909e-28\n",
              "2    8.218314e-104\n",
              "3     0.000000e+00\n",
              "4     0.000000e+00\n",
              "5     1.239153e-04\n",
              "dtype: float64"
            ]
          },
          "metadata": {
            "tags": []
          },
          "execution_count": 367
        }
      ]
    },
    {
      "cell_type": "code",
      "metadata": {
        "id": "ZQcLv63WGk8O",
        "colab_type": "code",
        "colab": {
          "base_uri": "https://localhost:8080/",
          "height": 119
        },
        "outputId": "ba82db88-9650-43d2-a945-86b49710b72b"
      },
      "source": [
        "p_values[p_values<0.00005]"
      ],
      "execution_count": 375,
      "outputs": [
        {
          "output_type": "execute_result",
          "data": {
            "text/plain": [
              "0    9.504625e-103\n",
              "1     1.217909e-28\n",
              "2    8.218314e-104\n",
              "3     0.000000e+00\n",
              "4     0.000000e+00\n",
              "dtype: float64"
            ]
          },
          "metadata": {
            "tags": []
          },
          "execution_count": 375
        }
      ]
    },
    {
      "cell_type": "code",
      "metadata": {
        "id": "EO8bC5iEIK2L",
        "colab_type": "code",
        "colab": {
          "base_uri": "https://localhost:8080/",
          "height": 34
        },
        "outputId": "9f031b78-080f-45b9-bb8e-f994bed7356f"
      },
      "source": [
        "X_train_p = X_train_unique[p_values[p_values<0.00005].index]\n",
        "X_test_p = X_test_unique[p_values[p_values<0.00005].index]\n",
        "X_train_p.shape , X_test_p.shape"
      ],
      "execution_count": 378,
      "outputs": [
        {
          "output_type": "execute_result",
          "data": {
            "text/plain": [
              "((4722, 5), (1181, 5))"
            ]
          },
          "metadata": {
            "tags": []
          },
          "execution_count": 378
        }
      ]
    },
    {
      "cell_type": "code",
      "metadata": {
        "id": "bfYdFKblG0yr",
        "colab_type": "code",
        "colab": {
          "base_uri": "https://localhost:8080/",
          "height": 204
        },
        "outputId": "33707e8d-f256-4670-e7e9-4ab08c07aa6e"
      },
      "source": [
        " def run_model_after_ANOVA_test(X_train_p , X_test_p , X_train , X_test , y_train , y_test):\n",
        "    print(\"The Results of REGULAR Linear Regression Model\")\n",
        "    model = LinearRegression()\n",
        "    model.fit(X_train, y_train)\n",
        "    y_predict = model.predict(X_test)\n",
        "    print(\"The R2 score is:\" , r2_score(y_test, y_predict))\n",
        "    print(\"The RMSE is:\" , np.sqrt(mean_squared_error(y_test , y_predict)))\n",
        "    print(\"The Standard deviation of y is \",np.std(y))\n",
        "    print()\n",
        "\n",
        "    print(\"The Results of Linear Regression Model after ANOVA Test are:\")\n",
        "    model = LinearRegression()\n",
        "    model.fit(X_train_p, y_train)\n",
        "    y_predict = model.predict(X_test_p)\n",
        "    print(\"The R2 score is:\" , r2_score(y_test, y_predict))\n",
        "    print(\"The RMSE is:\" , np.sqrt(mean_squared_error(y_test , y_predict)))\n",
        "    print(\"The Standard deviation of y is \",np.std(y))\n",
        "    print()\n",
        "    print(\"-------------------------------------------------------------------\")\n",
        "    \n",
        "run_model_after_ANOVA_test(X_train_p , X_test_p , X_train , X_test , y_train , y_test)"
      ],
      "execution_count": 379,
      "outputs": [
        {
          "output_type": "stream",
          "text": [
            "The Results of REGULAR Linear Regression Model\n",
            "The R2 score is: 0.6943010059050609\n",
            "The RMSE is: 5.761520716911194\n",
            "The Standard deviation of y is  10.631763524207654\n",
            "\n",
            "The Results of Linear Regression Model after ANOVA Test are:\n",
            "The R2 score is: 0.687626184023584\n",
            "The RMSE is: 5.824081376419209\n",
            "The Standard deviation of y is  10.631763524207654\n",
            "\n",
            "-------------------------------------------------------------------\n"
          ],
          "name": "stdout"
        }
      ]
    },
    {
      "cell_type": "code",
      "metadata": {
        "id": "tgXncgZrJAPX",
        "colab_type": "code",
        "colab": {}
      },
      "source": [
        ""
      ],
      "execution_count": 0,
      "outputs": []
    }
  ]
}